{
  "cells": [
    {
      "cell_type": "markdown",
      "metadata": {
        "id": "7xTdYCM7QmPu"
      },
      "source": [
        "# DEEP LEARNING FOR MEDICAL IMAGE ANALYSIS\n",
        "Practical block I: Dermatological moles segmentation\n",
        "\n",
        "João Valério\n",
        "\n",
        "joao.agostinho@estudiantat.upc.edu\n",
        "\n",
        "31/10/2023"
      ]
    },
    {
      "cell_type": "markdown",
      "metadata": {
        "id": "7wKm0XdDRGKa"
      },
      "source": [
        "# Introduction\n",
        "\n",
        "Skin cancer is a major public health problem, with over 5,000,000 newly diagnosed cases in the United States every year. Melanoma is the deadliest form of skin cancer, responsible for an overwhelming majority of skin cancer deaths. In 2015, the global incidence of melanoma was estimated to be over 350,000 cases, with almost 60,000 deaths. Although the mortality is significant, when detected early, melanoma survival exceeds 95%."
      ]
    },
    {
      "cell_type": "markdown",
      "metadata": {
        "id": "FuFOhQSHSf-0"
      },
      "source": [
        "# Work Strategy\n",
        "\n",
        "In this section, it is essential to outline the process to be followed in this work:\n",
        "\n",
        "1.   We will begin by utilizing the Unet architecture described in the paper, which can be found at https://keras.io/examples/vision/oxford_pets_image_segmentation/, as it is a requirement. Our primary objective is to optimize the model structure to enhance its performance based on the available dataset. Thus, the initial focus is entirely on the model's development and refinement.\n",
        "2.   After obtaining the optimal model for our dataset, we will explore a range of data preprocessing techniques. The choice of preprocessing tools will be contingent on the model's performance, following a feedback-driven approach.\n",
        "\n",
        "In conclusion, we will analyze and discuss all the results. It's important to reiterate that only a subset of the data is used during the code development phase. Moreover, the best configuration in the different tests is selected based on the Jaccard Index, however, on the analysis all the metrics will be considered."
      ]
    },
    {
      "cell_type": "markdown",
      "metadata": {
        "id": "XHjuKTgoRJYN"
      },
      "source": [
        "# Code & Analysis"
      ]
    },
    {
      "cell_type": "markdown",
      "metadata": {
        "id": "O-EGQa8Omk4p"
      },
      "source": [
        "## Required Libraries"
      ]
    },
    {
      "cell_type": "code",
      "execution_count": 1,
      "metadata": {
        "id": "LU-QxqIMTI1i"
      },
      "outputs": [],
      "source": [
        "from google.colab import drive\n",
        "import os\n",
        "import pandas as pd\n",
        "import numpy as np\n",
        "import matplotlib.pyplot as plt\n",
        "from PIL import Image\n",
        "from keras.preprocessing.image import load_img, img_to_array\n",
        "import tensorflow as tf\n",
        "import tensorflow_datasets as tfds\n",
        "import random\n",
        "import cv2\n",
        "from sklearn.model_selection import train_test_split\n",
        "from keras import backend as K\n",
        "from tensorflow.python.keras import losses\n",
        "from skimage.feature import canny\n",
        "from scipy.ndimage import convolve, gaussian_laplace\n",
        "from sklearn.model_selection import KFold"
      ]
    },
    {
      "cell_type": "markdown",
      "metadata": {
        "id": "sQ_-pUyommz4"
      },
      "source": [
        "## Upload Data\n",
        "\n",
        "Data is uploaded directly from the drive to conserve RAM while developing code on Colab. The variable 'num_images_to_load' empowers us to regulate the number of images we wish to import from the drive. In the interest of resource and time efficiency, we will import only a portion of the data. This approach enables us to conduct more tests without risking system crashes and accelerates the testing phase."
      ]
    },
    {
      "cell_type": "code",
      "execution_count": 2,
      "metadata": {
        "colab": {
          "base_uri": "https://localhost:8080/"
        },
        "id": "igTgkoLZTKFN",
        "outputId": "29dc0760-6e08-41db-81e4-16f4e8ba0cf2"
      },
      "outputs": [
        {
          "output_type": "stream",
          "name": "stdout",
          "text": [
            "Mounted at /content/drive\n"
          ]
        },
        {
          "output_type": "stream",
          "name": "stderr",
          "text": [
            "<ipython-input-2-33ab6f3a2261>:16: VisibleDeprecationWarning: Creating an ndarray from ragged nested sequences (which is a list-or-tuple of lists-or-tuples-or ndarrays with different lengths or shapes) is deprecated. If you meant to do this, you must specify 'dtype=object' when creating the ndarray.\n",
            "  return np.array(images)\n"
          ]
        }
      ],
      "source": [
        "drive.mount('/content/drive')\n",
        "training_data_dir = '/content/drive/My Drive/DLMIA/ISBI2016_ISIC_Part1_Training_Data'\n",
        "target_data_dir = '/content/drive/My Drive/DLMIA/ISBI2016_ISIC_Part1_Training_GroundTruth'\n",
        "\n",
        "def load_images_from_folder(folder, num_images):\n",
        "    images = []\n",
        "    file_list = sorted(os.listdir(folder)[:num_images])\n",
        "    for filename in file_list:\n",
        "        if folder == '/content/drive/My Drive/DLMIA/ISBI2016_ISIC_Part1_Training_Data':\n",
        "          img = load_img(os.path.join(folder, filename))\n",
        "        else: img = load_img(os.path.join(folder, filename), color_mode='grayscale')\n",
        "        img = img_to_array(img)\n",
        "        images.append(img)\n",
        "    return np.array(images)\n",
        "\n",
        "num_images_to_load = 200\n",
        "X_train = load_images_from_folder(training_data_dir, num_images_to_load)\n",
        "Y_train = load_images_from_folder(target_data_dir, num_images_to_load)"
      ]
    },
    {
      "cell_type": "markdown",
      "metadata": {
        "id": "1eHrMTNCms0f"
      },
      "source": [
        "## Example\n",
        "\n",
        "This serves as a fundamental illustration of a single image paired with its corresponding ground truth."
      ]
    },
    {
      "cell_type": "code",
      "execution_count": 3,
      "metadata": {
        "colab": {
          "base_uri": "https://localhost:8080/",
          "height": 347
        },
        "id": "wTIKmLKCTRGM",
        "outputId": "b5595141-ea9d-4a65-efc2-adb9a216d0c2"
      },
      "outputs": [
        {
          "output_type": "display_data",
          "data": {
            "text/plain": [
              "<Figure size 1000x500 with 2 Axes>"
            ],
            "image/png": "[encoded data removed]"
          },
          "metadata": {}
        }
      ],
      "source": [
        "fig, (ax1, ax2) = plt.subplots(1, 2, figsize=(10, 5))\n",
        "ax1.set_title(\"Image\")\n",
        "ax2.set_title(\"Ground Truth\")\n",
        "ax1.imshow(X_train[0]/255)\n",
        "ax2.imshow(Y_train[0])\n",
        "plt.show()"
      ]
    },
    {
      "cell_type": "markdown",
      "metadata": {
        "id": "IvHugGvUm6u2"
      },
      "source": [
        "## Basic Data Preprocessing\n",
        "\n",
        "In this step, we resize the dimensions to 128 in both height and width and perform a split, allocating 80% for training and 20% for testing."
      ]
    },
    {
      "cell_type": "code",
      "execution_count": 4,
      "metadata": {
        "colab": {
          "base_uri": "https://localhost:8080/"
        },
        "id": "k68fmtRBTV1U",
        "outputId": "236fbc5a-1fac-463c-8ee4-222f3423214c"
      },
      "outputs": [
        {
          "output_type": "stream",
          "name": "stdout",
          "text": [
            "Number of Train Images = 160\n",
            "Number of Test Images = 40\n",
            "\n",
            "\n",
            "Images Shape = (128, 128, 3)\n",
            "Target Images Shape = (128, 128, 1)\n"
          ]
        },
        {
          "output_type": "stream",
          "name": "stderr",
          "text": [
            "<ipython-input-4-342083425658>:7: DeprecationWarning: `np.bool` is a deprecated alias for the builtin `bool`. To silence this warning, use `bool` by itself. Doing this will not modify any behavior and is safe. If you specifically wanted the numpy scalar type, use `np.bool_` here.\n",
            "Deprecated in NumPy 1.20; for more details and guidance: https://numpy.org/devdocs/release/1.20.0-notes.html#deprecations\n",
            "  resized_Y_train = np.empty((Y_train.shape[0], IMG_HEIGHT, IMG_WIDTH, 1), dtype=np.bool)\n"
          ]
        }
      ],
      "source": [
        "IMG_WIDTH = 128\n",
        "IMG_HEIGHT = 128\n",
        "IMG_CHANNELS = 3\n",
        "\n",
        "resized_X_train = np.empty((X_train.shape[0], IMG_HEIGHT, IMG_WIDTH, IMG_CHANNELS), dtype=np.uint8)\n",
        "resized_Y_train = np.empty((Y_train.shape[0], IMG_HEIGHT, IMG_WIDTH, 1), dtype=np.bool)\n",
        "\n",
        "for i in range(X_train.shape[0]):\n",
        "    resized_X_train[i] = cv2.resize(X_train[i], (IMG_WIDTH, IMG_HEIGHT))\n",
        "    resized_Y_train[i] = np.expand_dims(cv2.resize(Y_train[i], (IMG_WIDTH, IMG_HEIGHT)), axis=-1)\n",
        "\n",
        "# Split 80% train; 20% test\n",
        "X_train = resized_X_train[:int(resized_X_train.shape[0]*0.8)]\n",
        "X_test = resized_X_train[int(resized_X_train.shape[0]*0.8):]\n",
        "Y_train = resized_Y_train[:int(resized_Y_train.shape[0]*0.8)]\n",
        "Y_test = resized_Y_train[int(resized_Y_train.shape[0]*0.8):]\n",
        "\n",
        "print('Number of Train Images = {}'.format(X_train.shape[0]))\n",
        "print('Number of Test Images = {}'.format(X_test.shape[0]))\n",
        "print('\\n')\n",
        "print('Images Shape = {}'.format(X_test[0].shape))\n",
        "print('Target Images Shape = {}'.format(Y_test[0].shape))"
      ]
    },
    {
      "cell_type": "code",
      "execution_count": 5,
      "metadata": {
        "colab": {
          "base_uri": "https://localhost:8080/",
          "height": 35
        },
        "id": "LB3OP7QHV-LT",
        "outputId": "e3969afe-b456-4e71-c18c-8472c66519f0"
      },
      "outputs": [
        {
          "output_type": "execute_result",
          "data": {
            "text/plain": [
              "'\\ndel X_train\\ndel X_test\\ndel Y_train\\ndel Y_test\\ndel resized_X_train\\ndel resized_Y_train\\n'"
            ],
            "application/vnd.google.colaboratory.intrinsic+json": {
              "type": "string"
            }
          },
          "metadata": {},
          "execution_count": 5
        }
      ],
      "source": [
        "## Train\n",
        "X_TRAIN_IMAGE = tf.constant(X_train, dtype=tf.float32)\n",
        "Y_TRAIN_TARGET = tf.constant(Y_train, dtype=tf.float32)\n",
        "## Test\n",
        "X_TEST_IMAGE = tf.constant(X_test, dtype=tf.float32)\n",
        "Y_TEST_TARGET = tf.constant(Y_test, dtype=tf.float32)\n",
        "\n",
        "'''\n",
        "del X_train\n",
        "del X_test\n",
        "del Y_train\n",
        "del Y_test\n",
        "del resized_X_train\n",
        "del resized_Y_train\n",
        "'''"
      ]
    },
    {
      "cell_type": "markdown",
      "metadata": {
        "id": "iGEwatHYLhDX"
      },
      "source": [
        "## Evaluation Metrics\n",
        "\n",
        "We have implemented the evaluation metrics recommended by the challenge, which include:\n",
        "\n",
        "*   Sensitivity\n",
        "*   Specificity\n",
        "*   Dice coefficient\n",
        "*   Jaccard index\n",
        "*   Accuracy\n",
        "\n",
        "It's worth noting that all of these metrics are self-implemented, except for accuracy."
      ]
    },
    {
      "cell_type": "code",
      "execution_count": 6,
      "metadata": {
        "id": "YFwbIkQGDMq1"
      },
      "outputs": [],
      "source": [
        "## Evaluation Metrics\n",
        "def sensitivity(y_true, y_pred):\n",
        "    true_positives = K.sum(K.round(K.clip(y_true * y_pred, 0, 1)))\n",
        "    possible_positives = K.sum(K.round(K.clip(y_true, 0, 1)))\n",
        "    return true_positives / (possible_positives + K.epsilon())\n",
        "\n",
        "def specificity(y_true, y_pred):\n",
        "    true_negatives = K.sum(K.round(K.clip((1 - y_true) * (1 - y_pred), 0, 1)))\n",
        "    possible_negatives = K.sum(K.round(K.clip(1 - y_true, 0, 1)))\n",
        "    return true_negatives / (possible_negatives + K.epsilon())\n",
        "\n",
        "def dice_coefficient(y_true, y_pred):\n",
        "    intersection = K.sum(y_true * y_pred, axis=[1,2,3])\n",
        "    union = K.sum(y_true, axis=[1,2,3]) + K.sum(y_pred, axis=[1,2,3])\n",
        "    return K.mean((2.0 * intersection + K.epsilon()) / (union + K.epsilon()), axis=0)\n",
        "\n",
        "def jaccard_index(y_true, y_pred):\n",
        "    intersection = K.sum(y_true * y_pred, axis=[1,2,3])\n",
        "    union = K.sum(y_true, axis=[1,2,3]) + K.sum(y_pred, axis=[1,2,3]) - intersection\n",
        "    return K.mean((intersection + K.epsilon()) / (union + K.epsilon()), axis=0)"
      ]
    },
    {
      "cell_type": "code",
      "execution_count": 7,
      "metadata": {
        "id": "L-HkiZQ8nIn8"
      },
      "outputs": [],
      "source": [
        "# Print the results\n",
        "def model_results(model, X=X_TEST_IMAGE):\n",
        "  test_loss, test_accuracy, test_sensitivity, test_specificity, test_dice, test_jaccard, test_auc = model.evaluate(X, Y_TEST_TARGET)\n",
        "  print(f'Test Loss: {test_loss}')\n",
        "  print(f'Test Accuracy: {test_accuracy}')\n",
        "  print(f'Test Sensitivity: {test_sensitivity}')\n",
        "  print(f'Test Specificity: {test_specificity}')\n",
        "  print(f'Test Dice Coefficient: {test_dice}')\n",
        "  print(f'Test Jaccard Index: {test_jaccard}')\n",
        "  print(f'Test AUC: {test_auc}')"
      ]
    },
    {
      "cell_type": "markdown",
      "metadata": {
        "id": "qFobUB-9SR4L"
      },
      "source": [
        "## Base Model\n",
        "\n",
        "Here we implement the U-Net model."
      ]
    },
    {
      "cell_type": "code",
      "execution_count": 19,
      "metadata": {
        "colab": {
          "base_uri": "https://localhost:8080/"
        },
        "id": "StOqOlOPQPuj",
        "outputId": "a0354dbf-fe25-4ac8-bc5d-de9bf546d10f"
      },
      "outputs": [
        {
          "output_type": "stream",
          "name": "stdout",
          "text": [
            "Model: \"model_8\"\n",
            "__________________________________________________________________________________________________\n",
            " Layer (type)                Output Shape                 Param #   Connected to                  \n",
            "==================================================================================================\n",
            " input_3 (InputLayer)        [(None, 128, 128, 3)]        0         []                            \n",
            "                                                                                                  \n",
            " lambda_2 (Lambda)           (None, 128, 128, 3)          0         ['input_3[0][0]']             \n",
            "                                                                                                  \n",
            " conv2d_27 (Conv2D)          (None, 128, 128, 16)         448       ['lambda_2[0][0]']            \n",
            "                                                                                                  \n",
            " dropout_9 (Dropout)         (None, 128, 128, 16)         0         ['conv2d_27[0][0]']           \n",
            "                                                                                                  \n",
            " conv2d_28 (Conv2D)          (None, 128, 128, 16)         2320      ['dropout_9[0][0]']           \n",
            "                                                                                                  \n",
            " max_pooling2d_7 (MaxPoolin  (None, 64, 64, 16)           0         ['conv2d_28[0][0]']           \n",
            " g2D)                                                                                             \n",
            "                                                                                                  \n",
            " conv2d_29 (Conv2D)          (None, 64, 64, 32)           4640      ['max_pooling2d_7[0][0]']     \n",
            "                                                                                                  \n",
            " dropout_10 (Dropout)        (None, 64, 64, 32)           0         ['conv2d_29[0][0]']           \n",
            "                                                                                                  \n",
            " conv2d_30 (Conv2D)          (None, 64, 64, 32)           9248      ['dropout_10[0][0]']          \n",
            "                                                                                                  \n",
            " max_pooling2d_8 (MaxPoolin  (None, 32, 32, 32)           0         ['conv2d_30[0][0]']           \n",
            " g2D)                                                                                             \n",
            "                                                                                                  \n",
            " conv2d_31 (Conv2D)          (None, 32, 32, 64)           18496     ['max_pooling2d_8[0][0]']     \n",
            "                                                                                                  \n",
            " dropout_11 (Dropout)        (None, 32, 32, 64)           0         ['conv2d_31[0][0]']           \n",
            "                                                                                                  \n",
            " conv2d_32 (Conv2D)          (None, 32, 32, 64)           36928     ['dropout_11[0][0]']          \n",
            "                                                                                                  \n",
            " max_pooling2d_9 (MaxPoolin  (None, 16, 16, 64)           0         ['conv2d_32[0][0]']           \n",
            " g2D)                                                                                             \n",
            "                                                                                                  \n",
            " conv2d_33 (Conv2D)          (None, 16, 16, 128)          73856     ['max_pooling2d_9[0][0]']     \n",
            "                                                                                                  \n",
            " dropout_12 (Dropout)        (None, 16, 16, 128)          0         ['conv2d_33[0][0]']           \n",
            "                                                                                                  \n",
            " conv2d_34 (Conv2D)          (None, 16, 16, 128)          147584    ['dropout_12[0][0]']          \n",
            "                                                                                                  \n",
            " max_pooling2d_10 (MaxPooli  (None, 8, 8, 128)            0         ['conv2d_34[0][0]']           \n",
            " ng2D)                                                                                            \n",
            "                                                                                                  \n",
            " conv2d_35 (Conv2D)          (None, 8, 8, 256)            295168    ['max_pooling2d_10[0][0]']    \n",
            "                                                                                                  \n",
            " dropout_13 (Dropout)        (None, 8, 8, 256)            0         ['conv2d_35[0][0]']           \n",
            "                                                                                                  \n",
            " conv2d_36 (Conv2D)          (None, 8, 8, 256)            590080    ['dropout_13[0][0]']          \n",
            "                                                                                                  \n",
            " conv2d_transpose_7 (Conv2D  (None, 16, 16, 128)          131200    ['conv2d_36[0][0]']           \n",
            " Transpose)                                                                                       \n",
            "                                                                                                  \n",
            " concatenate_7 (Concatenate  (None, 16, 16, 256)          0         ['conv2d_transpose_7[0][0]',  \n",
            " )                                                                   'conv2d_34[0][0]']           \n",
            "                                                                                                  \n",
            " conv2d_37 (Conv2D)          (None, 16, 16, 128)          295040    ['concatenate_7[0][0]']       \n",
            "                                                                                                  \n",
            " dropout_14 (Dropout)        (None, 16, 16, 128)          0         ['conv2d_37[0][0]']           \n",
            "                                                                                                  \n",
            " conv2d_38 (Conv2D)          (None, 16, 16, 128)          147584    ['dropout_14[0][0]']          \n",
            "                                                                                                  \n",
            " conv2d_transpose_8 (Conv2D  (None, 32, 32, 64)           32832     ['conv2d_38[0][0]']           \n",
            " Transpose)                                                                                       \n",
            "                                                                                                  \n",
            " concatenate_8 (Concatenate  (None, 32, 32, 128)          0         ['conv2d_transpose_8[0][0]',  \n",
            " )                                                                   'conv2d_32[0][0]']           \n",
            "                                                                                                  \n",
            " conv2d_39 (Conv2D)          (None, 32, 32, 64)           73792     ['concatenate_8[0][0]']       \n",
            "                                                                                                  \n",
            " dropout_15 (Dropout)        (None, 32, 32, 64)           0         ['conv2d_39[0][0]']           \n",
            "                                                                                                  \n",
            " conv2d_40 (Conv2D)          (None, 32, 32, 64)           36928     ['dropout_15[0][0]']          \n",
            "                                                                                                  \n",
            " conv2d_transpose_9 (Conv2D  (None, 64, 64, 32)           8224      ['conv2d_40[0][0]']           \n",
            " Transpose)                                                                                       \n",
            "                                                                                                  \n",
            " concatenate_9 (Concatenate  (None, 64, 64, 64)           0         ['conv2d_transpose_9[0][0]',  \n",
            " )                                                                   'conv2d_30[0][0]']           \n",
            "                                                                                                  \n",
            " conv2d_41 (Conv2D)          (None, 64, 64, 32)           18464     ['concatenate_9[0][0]']       \n",
            "                                                                                                  \n",
            " dropout_16 (Dropout)        (None, 64, 64, 32)           0         ['conv2d_41[0][0]']           \n",
            "                                                                                                  \n",
            " conv2d_42 (Conv2D)          (None, 64, 64, 32)           9248      ['dropout_16[0][0]']          \n",
            "                                                                                                  \n",
            " conv2d_transpose_10 (Conv2  (None, 128, 128, 16)         2064      ['conv2d_42[0][0]']           \n",
            " DTranspose)                                                                                      \n",
            "                                                                                                  \n",
            " concatenate_10 (Concatenat  (None, 128, 128, 32)         0         ['conv2d_transpose_10[0][0]', \n",
            " e)                                                                  'conv2d_28[0][0]']           \n",
            "                                                                                                  \n",
            " conv2d_43 (Conv2D)          (None, 128, 128, 16)         4624      ['concatenate_10[0][0]']      \n",
            "                                                                                                  \n",
            " dropout_17 (Dropout)        (None, 128, 128, 16)         0         ['conv2d_43[0][0]']           \n",
            "                                                                                                  \n",
            " conv2d_44 (Conv2D)          (None, 128, 128, 16)         2320      ['dropout_17[0][0]']          \n",
            "                                                                                                  \n",
            " conv2d_45 (Conv2D)          (None, 128, 128, 1)          17        ['conv2d_44[0][0]']           \n",
            "                                                                                                  \n",
            "==================================================================================================\n",
            "Total params: 1941105 (7.40 MB)\n",
            "Trainable params: 1941105 (7.40 MB)\n",
            "Non-trainable params: 0 (0.00 Byte)\n",
            "__________________________________________________________________________________________________\n"
          ]
        }
      ],
      "source": [
        "#Build the model\n",
        "inputs = tf.keras.layers.Input((IMG_HEIGHT, IMG_WIDTH, IMG_CHANNELS))\n",
        "s = tf.keras.layers.Lambda(lambda x: x / 255.0)(inputs)\n",
        "\n",
        "#Contraction path\n",
        "c1 = tf.keras.layers.Conv2D(16, (3, 3), activation='relu', kernel_initializer='he_normal', padding='same')(s)\n",
        "c1 = tf.keras.layers.Dropout(0.1)(c1)\n",
        "c1 = tf.keras.layers.Conv2D(16, (3, 3), activation='relu', kernel_initializer='he_normal', padding='same')(c1)\n",
        "p1 = tf.keras.layers.MaxPooling2D((2, 2))(c1)\n",
        "\n",
        "c2 = tf.keras.layers.Conv2D(32, (3, 3), activation='relu', kernel_initializer='he_normal', padding='same')(p1)\n",
        "c2 = tf.keras.layers.Dropout(0.1)(c2)\n",
        "c2 = tf.keras.layers.Conv2D(32, (3, 3), activation='relu', kernel_initializer='he_normal', padding='same')(c2)\n",
        "p2 = tf.keras.layers.MaxPooling2D((2, 2))(c2)\n",
        "\n",
        "c3 = tf.keras.layers.Conv2D(64, (3, 3), activation='relu', kernel_initializer='he_normal', padding='same')(p2)\n",
        "c3 = tf.keras.layers.Dropout(0.2)(c3)\n",
        "c3 = tf.keras.layers.Conv2D(64, (3, 3), activation='relu', kernel_initializer='he_normal', padding='same')(c3)\n",
        "\n",
        "p3 = tf.keras.layers.MaxPooling2D((2, 2))(c3)\n",
        "\n",
        "c4 = tf.keras.layers.Conv2D(128, (3, 3), activation='relu', kernel_initializer='he_normal', padding='same')(p3)\n",
        "c4 = tf.keras.layers.Dropout(0.2)(c4)\n",
        "c4 = tf.keras.layers.Conv2D(128, (3, 3), activation='relu', kernel_initializer='he_normal', padding='same')(c4)\n",
        "p4 = tf.keras.layers.MaxPooling2D(pool_size=(2, 2))(c4)\n",
        "\n",
        "c5 = tf.keras.layers.Conv2D(256, (3, 3), activation='relu', kernel_initializer='he_normal', padding='same')(p4)\n",
        "c5 = tf.keras.layers.Dropout(0.3)(c5)\n",
        "c5 = tf.keras.layers.Conv2D(256, (3, 3), activation='relu', kernel_initializer='he_normal', padding='same')(c5)\n",
        "\n",
        "#Expansive path\n",
        "u6 = tf.keras.layers.Conv2DTranspose(128, (2, 2), strides=(2, 2), padding='same')(c5)\n",
        "u6 = tf.keras.layers.concatenate([u6, c4])\n",
        "c6 = tf.keras.layers.Conv2D(128, (3, 3), activation='relu', kernel_initializer='he_normal', padding='same')(u6)\n",
        "c6 = tf.keras.layers.Dropout(0.2)(c6)\n",
        "c6 = tf.keras.layers.Conv2D(128, (3, 3), activation='relu', kernel_initializer='he_normal', padding='same')(c6)\n",
        "\n",
        "u7 = tf.keras.layers.Conv2DTranspose(64, (2, 2), strides=(2, 2), padding='same')(c6)\n",
        "u7 = tf.keras.layers.concatenate([u7, c3])\n",
        "c7 = tf.keras.layers.Conv2D(64, (3, 3), activation='relu', kernel_initializer='he_normal', padding='same')(u7)\n",
        "c7 = tf.keras.layers.Dropout(0.2)(c7)\n",
        "c7 = tf.keras.layers.Conv2D(64, (3, 3), activation='relu', kernel_initializer='he_normal', padding='same')(c7)\n",
        "\n",
        "u8 = tf.keras.layers.Conv2DTranspose(32, (2, 2), strides=(2, 2), padding='same')(c7)\n",
        "u8 = tf.keras.layers.concatenate([u8, c2])\n",
        "c8 = tf.keras.layers.Conv2D(32, (3, 3), activation='relu', kernel_initializer='he_normal', padding='same')(u8)\n",
        "c8 = tf.keras.layers.Dropout(0.1)(c8)\n",
        "c8 = tf.keras.layers.Conv2D(32, (3, 3), activation='relu', kernel_initializer='he_normal', padding='same')(c8)\n",
        "\n",
        "u9 = tf.keras.layers.Conv2DTranspose(16, (2, 2), strides=(2, 2), padding='same')(c8)\n",
        "u9 = tf.keras.layers.concatenate([u9, c1], axis=3)\n",
        "c9 = tf.keras.layers.Conv2D(16, (3, 3), activation='relu', kernel_initializer='he_normal', padding='same')(u9)\n",
        "c9 = tf.keras.layers.Dropout(0.1)(c9)\n",
        "c9 = tf.keras.layers.Conv2D(16, (3, 3), activation='relu', kernel_initializer='he_normal', padding='same')(c9)\n",
        "\n",
        "outputs = tf.keras.layers.Conv2D(1, (1, 1), activation='sigmoid')(c9)\n",
        "\n",
        "model = tf.keras.Model(inputs=[inputs], outputs=[outputs])\n",
        "model.compile(optimizer='adam', loss='binary_crossentropy',\n",
        "              metrics=['accuracy', sensitivity, specificity, dice_coefficient, jaccard_index, tf.keras.metrics.AUC()])\n",
        "model.summary()"
      ]
    },
    {
      "cell_type": "markdown",
      "metadata": {
        "id": "qHSCEP7ZMFVf"
      },
      "source": [
        "## Loss Functions\n",
        "\n",
        "In order to optimize the model, the 3 main loss functions used in image segmentation are used, and these are:\n",
        "\n",
        "*   Binary Cross-Entropy\n",
        "*   binary cross entropy + Dice Coefficient (This is based on 'individuals who competed within this competition obtaining better results empirically'. Moreover, the computation is done by hand.)\n",
        "*   Shape-Aware Loss (This function is the same used on the U-Net original paper. Plus, in this work, it is computed by hand.)"
      ]
    },
    {
      "cell_type": "code",
      "execution_count": 9,
      "metadata": {
        "id": "OR6fj5yYMFf4"
      },
      "outputs": [],
      "source": [
        "## Loss Functions\n",
        "def shape_aware_loss(y_true, y_pred):\n",
        "    intersection = K.sum(y_true * y_pred)\n",
        "    union = K.sum(y_true) + K.sum(y_pred) - intersection\n",
        "    return 1 - (2.0 * intersection + K.epsilon()) / (union + K.epsilon())\n",
        "\n",
        "def dice_coeff(y_true, y_pred):\n",
        "    smooth = 1.\n",
        "    y_true_f = tf.reshape(y_true, [-1])\n",
        "    y_pred_f = tf.reshape(y_pred, [-1])\n",
        "    intersection = tf.reduce_sum(y_true_f * y_pred_f)\n",
        "    score = (2. * intersection + smooth) / (tf.reduce_sum(y_true_f) + tf.reduce_sum(y_pred_f) + smooth)\n",
        "    return score\n",
        "\n",
        "def dice_loss(y_true, y_pred):\n",
        "    loss = 1 - dice_coeff(y_true, y_pred)\n",
        "    return loss\n",
        "\n",
        "def bce_dice_loss(y_true, y_pred):\n",
        "    loss = losses.binary_crossentropy(y_true, y_pred) + dice_loss(y_true, y_pred)\n",
        "    return loss"
      ]
    },
    {
      "cell_type": "markdown",
      "metadata": {
        "id": "CpPgP_dMNX_C"
      },
      "source": [
        "Results of different loss functions:"
      ]
    },
    {
      "cell_type": "code",
      "execution_count": null,
      "metadata": {
        "colab": {
          "base_uri": "https://localhost:8080/"
        },
        "id": "BzBj8H1bT9-T",
        "outputId": "33878eb7-7737-4142-ffcd-f4d695d0f049"
      },
      "outputs": [
        {
          "name": "stdout",
          "output_type": "stream",
          "text": [
            "Epoch 1/100\n",
            "8/8 [==============================] - 27s 3s/step - loss: 0.5499 - accuracy: 0.7164 - sensitivity: 0.0057 - specificity: 0.9945 - dice_coefficient: 0.2982 - jaccard_index: 0.1780 - auc_1: 0.7059 - val_loss: 0.5916 - val_accuracy: 0.5801 - val_sensitivity: 4.0395e-06 - val_specificity: 1.0000 - val_dice_coefficient: 0.3968 - val_jaccard_index: 0.2511 - val_auc_1: 0.9201\n",
            "Epoch 2/100\n",
            "8/8 [==============================] - 19s 2s/step - loss: 0.4604 - accuracy: 0.7196 - sensitivity: 0.0035 - specificity: 0.9999 - dice_coefficient: 0.3656 - jaccard_index: 0.2278 - auc_1: 0.8728 - val_loss: 0.5508 - val_accuracy: 0.5986 - val_sensitivity: 0.0438 - val_specificity: 0.9995 - val_dice_coefficient: 0.4577 - val_jaccard_index: 0.3065 - val_auc_1: 0.9181\n",
            "Epoch 3/100\n",
            "8/8 [==============================] - 21s 3s/step - loss: 0.4104 - accuracy: 0.7466 - sensitivity: 0.1017 - specificity: 0.9992 - dice_coefficient: 0.4337 - jaccard_index: 0.2828 - auc_1: 0.9045 - val_loss: 0.4989 - val_accuracy: 0.8452 - val_sensitivity: 0.6708 - val_specificity: 0.9633 - val_dice_coefficient: 0.5128 - val_jaccard_index: 0.3518 - val_auc_1: 0.9150\n",
            "Epoch 4/100\n",
            "8/8 [==============================] - 18s 2s/step - loss: 0.3744 - accuracy: 0.8058 - sensitivity: 0.3133 - specificity: 0.9982 - dice_coefficient: 0.4880 - jaccard_index: 0.3282 - auc_1: 0.9350 - val_loss: 0.4667 - val_accuracy: 0.8682 - val_sensitivity: 0.7173 - val_specificity: 0.9713 - val_dice_coefficient: 0.5182 - val_jaccard_index: 0.3567 - val_auc_1: 0.9329\n",
            "Epoch 5/100\n",
            "8/8 [==============================] - 18s 2s/step - loss: 0.3637 - accuracy: 0.8631 - sensitivity: 0.5447 - specificity: 0.9880 - dice_coefficient: 0.4925 - jaccard_index: 0.3331 - auc_1: 0.9354 - val_loss: 0.4621 - val_accuracy: 0.8656 - val_sensitivity: 0.7036 - val_specificity: 0.9780 - val_dice_coefficient: 0.5296 - val_jaccard_index: 0.3660 - val_auc_1: 0.9371\n",
            "Epoch 6/100\n",
            "8/8 [==============================] - 20s 2s/step - loss: 0.3356 - accuracy: 0.8861 - sensitivity: 0.6123 - specificity: 0.9944 - dice_coefficient: 0.5074 - jaccard_index: 0.3462 - auc_1: 0.9552 - val_loss: 0.4511 - val_accuracy: 0.8791 - val_sensitivity: 0.7498 - val_specificity: 0.9682 - val_dice_coefficient: 0.5382 - val_jaccard_index: 0.3742 - val_auc_1: 0.9383\n",
            "Epoch 7/100\n",
            "8/8 [==============================] - 18s 2s/step - loss: 0.3074 - accuracy: 0.9188 - sensitivity: 0.7827 - specificity: 0.9726 - dice_coefficient: 0.5418 - jaccard_index: 0.3773 - auc_1: 0.9619 - val_loss: 0.4580 - val_accuracy: 0.8644 - val_sensitivity: 0.6903 - val_specificity: 0.9865 - val_dice_coefficient: 0.5566 - val_jaccard_index: 0.3894 - val_auc_1: 0.9487\n",
            "Epoch 8/100\n",
            "8/8 [==============================] - 27s 4s/step - loss: 0.3064 - accuracy: 0.9205 - sensitivity: 0.7862 - specificity: 0.9741 - dice_coefficient: 0.5596 - jaccard_index: 0.3934 - auc_1: 0.9631 - val_loss: 0.4441 - val_accuracy: 0.8678 - val_sensitivity: 0.7108 - val_specificity: 0.9773 - val_dice_coefficient: 0.5618 - val_jaccard_index: 0.3956 - val_auc_1: 0.9485\n",
            "Epoch 9/100\n",
            "8/8 [==============================] - 18s 2s/step - loss: 0.2944 - accuracy: 0.9241 - sensitivity: 0.7659 - specificity: 0.9869 - dice_coefficient: 0.5613 - jaccard_index: 0.3955 - auc_1: 0.9694 - val_loss: 0.4438 - val_accuracy: 0.8690 - val_sensitivity: 0.6995 - val_specificity: 0.9889 - val_dice_coefficient: 0.5741 - val_jaccard_index: 0.4066 - val_auc_1: 0.9583\n",
            "Epoch 10/100\n",
            "8/8 [==============================] - 20s 3s/step - loss: 0.2871 - accuracy: 0.9242 - sensitivity: 0.8370 - specificity: 0.9591 - dice_coefficient: 0.5718 - jaccard_index: 0.4050 - auc_1: 0.9668 - val_loss: 0.4359 - val_accuracy: 0.8779 - val_sensitivity: 0.7252 - val_specificity: 0.9847 - val_dice_coefficient: 0.5815 - val_jaccard_index: 0.4142 - val_auc_1: 0.9574\n",
            "Epoch 11/100\n",
            "8/8 [==============================] - 18s 2s/step - loss: 0.2609 - accuracy: 0.9426 - sensitivity: 0.8497 - specificity: 0.9800 - dice_coefficient: 0.5903 - jaccard_index: 0.4231 - auc_1: 0.9796 - val_loss: 0.4495 - val_accuracy: 0.8682 - val_sensitivity: 0.7304 - val_specificity: 0.9634 - val_dice_coefficient: 0.5915 - val_jaccard_index: 0.4258 - val_auc_1: 0.9522\n",
            "Epoch 12/100\n",
            "8/8 [==============================] - 18s 2s/step - loss: 0.2515 - accuracy: 0.9469 - sensitivity: 0.8711 - specificity: 0.9753 - dice_coefficient: 0.6209 - jaccard_index: 0.4523 - auc_1: 0.9810 - val_loss: 0.4044 - val_accuracy: 0.9007 - val_sensitivity: 0.8021 - val_specificity: 0.9679 - val_dice_coefficient: 0.6203 - val_jaccard_index: 0.4552 - val_auc_1: 0.9658\n",
            "Epoch 13/100\n",
            "8/8 [==============================] - 21s 3s/step - loss: 0.2496 - accuracy: 0.9449 - sensitivity: 0.8720 - specificity: 0.9744 - dice_coefficient: 0.6210 - jaccard_index: 0.4526 - auc_1: 0.9805 - val_loss: 0.3985 - val_accuracy: 0.8968 - val_sensitivity: 0.7881 - val_specificity: 0.9709 - val_dice_coefficient: 0.6228 - val_jaccard_index: 0.4569 - val_auc_1: 0.9661\n",
            "Epoch 14/100\n",
            "8/8 [==============================] - 19s 2s/step - loss: 0.2373 - accuracy: 0.9480 - sensitivity: 0.8694 - specificity: 0.9792 - dice_coefficient: 0.6260 - jaccard_index: 0.4584 - auc_1: 0.9843 - val_loss: 0.4007 - val_accuracy: 0.9036 - val_sensitivity: 0.7958 - val_specificity: 0.9783 - val_dice_coefficient: 0.6398 - val_jaccard_index: 0.4743 - val_auc_1: 0.9711\n",
            "Epoch 15/100\n",
            "8/8 [==============================] - 18s 2s/step - loss: 0.2303 - accuracy: 0.9241 - sensitivity: 0.8207 - specificity: 0.9654 - dice_coefficient: 0.6598 - jaccard_index: 0.4955 - auc_1: 0.9743 - val_loss: 0.4168 - val_accuracy: 0.8912 - val_sensitivity: 0.7669 - val_specificity: 0.9764 - val_dice_coefficient: 0.6380 - val_jaccard_index: 0.4734 - val_auc_1: 0.9685\n",
            "Epoch 16/100\n",
            "8/8 [==============================] - 20s 2s/step - loss: 0.2095 - accuracy: 0.9391 - sensitivity: 0.8836 - specificity: 0.9607 - dice_coefficient: 0.6936 - jaccard_index: 0.5386 - auc_1: 0.9756 - val_loss: 0.3361 - val_accuracy: 0.9080 - val_sensitivity: 0.8072 - val_specificity: 0.9779 - val_dice_coefficient: 0.7210 - val_jaccard_index: 0.5702 - val_auc_1: 0.9742\n",
            "Epoch 17/100\n",
            "8/8 [==============================] - 19s 2s/step - loss: 0.1550 - accuracy: 0.9465 - sensitivity: 0.8861 - specificity: 0.9704 - dice_coefficient: 0.8127 - jaccard_index: 0.6939 - auc_1: 0.9826 - val_loss: 0.2184 - val_accuracy: 0.9212 - val_sensitivity: 0.8504 - val_specificity: 0.9693 - val_dice_coefficient: 0.8082 - val_jaccard_index: 0.6902 - val_auc_1: 0.9778\n",
            "Epoch 18/100\n",
            "8/8 [==============================] - 18s 2s/step - loss: 0.1262 - accuracy: 0.9538 - sensitivity: 0.8986 - specificity: 0.9739 - dice_coefficient: 0.8407 - jaccard_index: 0.7355 - auc_1: 0.9871 - val_loss: 0.2390 - val_accuracy: 0.9146 - val_sensitivity: 0.8264 - val_specificity: 0.9754 - val_dice_coefficient: 0.8390 - val_jaccard_index: 0.7338 - val_auc_1: 0.9758\n",
            "Epoch 19/100\n",
            "8/8 [==============================] - 20s 2s/step - loss: 0.1137 - accuracy: 0.9554 - sensitivity: 0.8998 - specificity: 0.9777 - dice_coefficient: 0.8694 - jaccard_index: 0.7763 - auc_1: 0.9899 - val_loss: 0.2295 - val_accuracy: 0.9161 - val_sensitivity: 0.8385 - val_specificity: 0.9685 - val_dice_coefficient: 0.8345 - val_jaccard_index: 0.7293 - val_auc_1: 0.9753\n",
            "Epoch 20/100\n",
            "8/8 [==============================] - 18s 2s/step - loss: 0.1105 - accuracy: 0.9556 - sensitivity: 0.9106 - specificity: 0.9736 - dice_coefficient: 0.8661 - jaccard_index: 0.7700 - auc_1: 0.9902 - val_loss: 0.1966 - val_accuracy: 0.9260 - val_sensitivity: 0.8746 - val_specificity: 0.9595 - val_dice_coefficient: 0.8547 - val_jaccard_index: 0.7618 - val_auc_1: 0.9781\n",
            "Epoch 21/100\n",
            "8/8 [==============================] - 19s 2s/step - loss: 0.1096 - accuracy: 0.9549 - sensitivity: 0.9118 - specificity: 0.9733 - dice_coefficient: 0.8718 - jaccard_index: 0.7801 - auc_1: 0.9902 - val_loss: 0.2149 - val_accuracy: 0.9201 - val_sensitivity: 0.8631 - val_specificity: 0.9572 - val_dice_coefficient: 0.8533 - val_jaccard_index: 0.7611 - val_auc_1: 0.9742\n",
            "Epoch 22/100\n",
            "8/8 [==============================] - 20s 2s/step - loss: 0.1061 - accuracy: 0.9571 - sensitivity: 0.9049 - specificity: 0.9786 - dice_coefficient: 0.8655 - jaccard_index: 0.7700 - auc_1: 0.9909 - val_loss: 0.2513 - val_accuracy: 0.9103 - val_sensitivity: 0.8199 - val_specificity: 0.9724 - val_dice_coefficient: 0.8366 - val_jaccard_index: 0.7319 - val_auc_1: 0.9733\n",
            "Epoch 23/100\n",
            "8/8 [==============================] - 18s 2s/step - loss: 0.1162 - accuracy: 0.9529 - sensitivity: 0.8876 - specificity: 0.9789 - dice_coefficient: 0.8653 - jaccard_index: 0.7687 - auc_1: 0.9890 - val_loss: 0.2090 - val_accuracy: 0.9175 - val_sensitivity: 0.8342 - val_specificity: 0.9744 - val_dice_coefficient: 0.8475 - val_jaccard_index: 0.7485 - val_auc_1: 0.9812\n",
            "Epoch 24/100\n",
            "8/8 [==============================] - 18s 2s/step - loss: 0.1097 - accuracy: 0.9556 - sensitivity: 0.9087 - specificity: 0.9756 - dice_coefficient: 0.8600 - jaccard_index: 0.7618 - auc_1: 0.9905 - val_loss: 0.2506 - val_accuracy: 0.9139 - val_sensitivity: 0.8268 - val_specificity: 0.9737 - val_dice_coefficient: 0.8472 - val_jaccard_index: 0.7490 - val_auc_1: 0.9740\n",
            "Epoch 25/100\n",
            "8/8 [==============================] - 20s 2s/step - loss: 0.1076 - accuracy: 0.9558 - sensitivity: 0.9004 - specificity: 0.9774 - dice_coefficient: 0.8788 - jaccard_index: 0.7891 - auc_1: 0.9905 - val_loss: 0.1833 - val_accuracy: 0.9251 - val_sensitivity: 0.8816 - val_specificity: 0.9528 - val_dice_coefficient: 0.8545 - val_jaccard_index: 0.7626 - val_auc_1: 0.9801\n",
            "Epoch 26/100\n",
            "8/8 [==============================] - 28s 4s/step - loss: 0.0953 - accuracy: 0.9606 - sensitivity: 0.9187 - specificity: 0.9765 - dice_coefficient: 0.8764 - jaccard_index: 0.7857 - auc_1: 0.9929 - val_loss: 0.2300 - val_accuracy: 0.9149 - val_sensitivity: 0.8419 - val_specificity: 0.9640 - val_dice_coefficient: 0.8578 - val_jaccard_index: 0.7685 - val_auc_1: 0.9770\n",
            "Epoch 27/100\n",
            "8/8 [==============================] - 20s 3s/step - loss: 0.0930 - accuracy: 0.9611 - sensitivity: 0.9112 - specificity: 0.9813 - dice_coefficient: 0.8912 - jaccard_index: 0.8081 - auc_1: 0.9930 - val_loss: 0.1982 - val_accuracy: 0.9228 - val_sensitivity: 0.8568 - val_specificity: 0.9671 - val_dice_coefficient: 0.8663 - val_jaccard_index: 0.7775 - val_auc_1: 0.9810\n",
            "Epoch 28/100\n",
            "8/8 [==============================] - 19s 2s/step - loss: 0.0918 - accuracy: 0.9613 - sensitivity: 0.9137 - specificity: 0.9799 - dice_coefficient: 0.8884 - jaccard_index: 0.8046 - auc_1: 0.9931 - val_loss: 0.2117 - val_accuracy: 0.9182 - val_sensitivity: 0.8950 - val_specificity: 0.9293 - val_dice_coefficient: 0.8655 - val_jaccard_index: 0.7843 - val_auc_1: 0.9747\n",
            "Epoch 29/100\n",
            "8/8 [==============================] - 21s 2s/step - loss: 0.0960 - accuracy: 0.9613 - sensitivity: 0.9191 - specificity: 0.9782 - dice_coefficient: 0.8845 - jaccard_index: 0.7976 - auc_1: 0.9926 - val_loss: 0.2018 - val_accuracy: 0.9187 - val_sensitivity: 0.8793 - val_specificity: 0.9422 - val_dice_coefficient: 0.8645 - val_jaccard_index: 0.7808 - val_auc_1: 0.9779\n",
            "Epoch 30/100\n",
            "8/8 [==============================] - 19s 2s/step - loss: 0.0875 - accuracy: 0.9633 - sensitivity: 0.9264 - specificity: 0.9780 - dice_coefficient: 0.8946 - jaccard_index: 0.8136 - auc_1: 0.9939 - val_loss: 0.2452 - val_accuracy: 0.9144 - val_sensitivity: 0.8505 - val_specificity: 0.9561 - val_dice_coefficient: 0.8659 - val_jaccard_index: 0.7824 - val_auc_1: 0.9747\n",
            "Epoch 31/100\n",
            "8/8 [==============================] - 22s 3s/step - loss: 0.0827 - accuracy: 0.9653 - sensitivity: 0.9180 - specificity: 0.9829 - dice_coefficient: 0.8984 - jaccard_index: 0.8193 - auc_1: 0.9944 - val_loss: 0.1922 - val_accuracy: 0.9265 - val_sensitivity: 0.8814 - val_specificity: 0.9548 - val_dice_coefficient: 0.8727 - val_jaccard_index: 0.7900 - val_auc_1: 0.9801\n",
            "Epoch 32/100\n",
            "8/8 [==============================] - 19s 2s/step - loss: 0.0815 - accuracy: 0.9660 - sensitivity: 0.9310 - specificity: 0.9798 - dice_coefficient: 0.9024 - jaccard_index: 0.8254 - auc_1: 0.9947 - val_loss: 0.2021 - val_accuracy: 0.9276 - val_sensitivity: 0.8844 - val_specificity: 0.9548 - val_dice_coefficient: 0.8787 - val_jaccard_index: 0.8008 - val_auc_1: 0.9790\n",
            "Epoch 33/100\n",
            "8/8 [==============================] - 19s 2s/step - loss: 0.0789 - accuracy: 0.9663 - sensitivity: 0.9271 - specificity: 0.9813 - dice_coefficient: 0.9037 - jaccard_index: 0.8285 - auc_1: 0.9950 - val_loss: 0.2143 - val_accuracy: 0.9193 - val_sensitivity: 0.8670 - val_specificity: 0.9527 - val_dice_coefficient: 0.8674 - val_jaccard_index: 0.7847 - val_auc_1: 0.9773\n",
            "Epoch 34/100\n",
            "8/8 [==============================] - 20s 2s/step - loss: 0.0778 - accuracy: 0.9673 - sensitivity: 0.9316 - specificity: 0.9814 - dice_coefficient: 0.9018 - jaccard_index: 0.8255 - auc_1: 0.9952 - val_loss: 0.2148 - val_accuracy: 0.9199 - val_sensitivity: 0.8726 - val_specificity: 0.9491 - val_dice_coefficient: 0.8703 - val_jaccard_index: 0.7888 - val_auc_1: 0.9767\n",
            "Epoch 35/100\n",
            "8/8 [==============================] - 19s 2s/step - loss: 0.0826 - accuracy: 0.9649 - sensitivity: 0.9276 - specificity: 0.9796 - dice_coefficient: 0.9045 - jaccard_index: 0.8295 - auc_1: 0.9942 - val_loss: 0.1735 - val_accuracy: 0.9355 - val_sensitivity: 0.8972 - val_specificity: 0.9599 - val_dice_coefficient: 0.8835 - val_jaccard_index: 0.8057 - val_auc_1: 0.9826\n",
            "Epoch 36/100\n",
            "8/8 [==============================] - 19s 2s/step - loss: 0.0934 - accuracy: 0.9617 - sensitivity: 0.9067 - specificity: 0.9821 - dice_coefficient: 0.8863 - jaccard_index: 0.8007 - auc_1: 0.9931 - val_loss: 0.2128 - val_accuracy: 0.9164 - val_sensitivity: 0.9109 - val_specificity: 0.9151 - val_dice_coefficient: 0.8534 - val_jaccard_index: 0.7692 - val_auc_1: 0.9758\n",
            "Epoch 37/100\n",
            "8/8 [==============================] - 20s 2s/step - loss: 0.0922 - accuracy: 0.9627 - sensitivity: 0.9281 - specificity: 0.9770 - dice_coefficient: 0.8878 - jaccard_index: 0.8042 - auc_1: 0.9929 - val_loss: 0.1539 - val_accuracy: 0.9384 - val_sensitivity: 0.8896 - val_specificity: 0.9713 - val_dice_coefficient: 0.8834 - val_jaccard_index: 0.8010 - val_auc_1: 0.9864\n",
            "Epoch 38/100\n",
            "8/8 [==============================] - 18s 2s/step - loss: 0.0813 - accuracy: 0.9658 - sensitivity: 0.9299 - specificity: 0.9811 - dice_coefficient: 0.8976 - jaccard_index: 0.8182 - auc_1: 0.9949 - val_loss: 0.1861 - val_accuracy: 0.9329 - val_sensitivity: 0.8774 - val_specificity: 0.9697 - val_dice_coefficient: 0.8915 - val_jaccard_index: 0.8142 - val_auc_1: 0.9829\n",
            "Epoch 39/100\n",
            "8/8 [==============================] - 20s 3s/step - loss: 0.0753 - accuracy: 0.9685 - sensitivity: 0.9409 - specificity: 0.9786 - dice_coefficient: 0.9127 - jaccard_index: 0.8427 - auc_1: 0.9954 - val_loss: 0.1865 - val_accuracy: 0.9317 - val_sensitivity: 0.8618 - val_specificity: 0.9801 - val_dice_coefficient: 0.8882 - val_jaccard_index: 0.8080 - val_auc_1: 0.9848\n",
            "Epoch 40/100\n",
            "8/8 [==============================] - 19s 2s/step - loss: 0.0767 - accuracy: 0.9678 - sensitivity: 0.9320 - specificity: 0.9819 - dice_coefficient: 0.9058 - jaccard_index: 0.8308 - auc_1: 0.9954 - val_loss: 0.1915 - val_accuracy: 0.9278 - val_sensitivity: 0.8617 - val_specificity: 0.9726 - val_dice_coefficient: 0.8795 - val_jaccard_index: 0.7971 - val_auc_1: 0.9830\n",
            "Epoch 41/100\n",
            "8/8 [==============================] - 19s 2s/step - loss: 0.0768 - accuracy: 0.9677 - sensitivity: 0.9297 - specificity: 0.9823 - dice_coefficient: 0.9091 - jaccard_index: 0.8370 - auc_1: 0.9951 - val_loss: 0.2239 - val_accuracy: 0.9234 - val_sensitivity: 0.8376 - val_specificity: 0.9827 - val_dice_coefficient: 0.8783 - val_jaccard_index: 0.7933 - val_auc_1: 0.9811\n",
            "Epoch 42/100\n",
            "8/8 [==============================] - 22s 3s/step - loss: 0.0751 - accuracy: 0.9696 - sensitivity: 0.9416 - specificity: 0.9808 - dice_coefficient: 0.9067 - jaccard_index: 0.8331 - auc_1: 0.9954 - val_loss: 0.2165 - val_accuracy: 0.9228 - val_sensitivity: 0.8565 - val_specificity: 0.9668 - val_dice_coefficient: 0.8718 - val_jaccard_index: 0.7876 - val_auc_1: 0.9777\n",
            "Epoch 43/100\n",
            "8/8 [==============================] - 20s 3s/step - loss: 0.0750 - accuracy: 0.9682 - sensitivity: 0.9261 - specificity: 0.9858 - dice_coefficient: 0.9129 - jaccard_index: 0.8429 - auc_1: 0.9956 - val_loss: 0.1865 - val_accuracy: 0.9290 - val_sensitivity: 0.8903 - val_specificity: 0.9528 - val_dice_coefficient: 0.8789 - val_jaccard_index: 0.8023 - val_auc_1: 0.9811\n",
            "Epoch 44/100\n",
            "8/8 [==============================] - 23s 3s/step - loss: 0.0767 - accuracy: 0.9679 - sensitivity: 0.9358 - specificity: 0.9799 - dice_coefficient: 0.9022 - jaccard_index: 0.8265 - auc_1: 0.9954 - val_loss: 0.1804 - val_accuracy: 0.9318 - val_sensitivity: 0.9215 - val_specificity: 0.9352 - val_dice_coefficient: 0.8802 - val_jaccard_index: 0.8062 - val_auc_1: 0.9813\n",
            "Epoch 45/100\n",
            "8/8 [==============================] - 20s 3s/step - loss: 0.0743 - accuracy: 0.9681 - sensitivity: 0.9390 - specificity: 0.9808 - dice_coefficient: 0.9092 - jaccard_index: 0.8368 - auc_1: 0.9955 - val_loss: 0.1838 - val_accuracy: 0.9332 - val_sensitivity: 0.8920 - val_specificity: 0.9598 - val_dice_coefficient: 0.8887 - val_jaccard_index: 0.8157 - val_auc_1: 0.9823\n",
            "Epoch 46/100\n",
            "8/8 [==============================] - 19s 2s/step - loss: 0.0654 - accuracy: 0.9721 - sensitivity: 0.9473 - specificity: 0.9822 - dice_coefficient: 0.9205 - jaccard_index: 0.8547 - auc_1: 0.9965 - val_loss: 0.2271 - val_accuracy: 0.9269 - val_sensitivity: 0.8860 - val_specificity: 0.9521 - val_dice_coefficient: 0.8822 - val_jaccard_index: 0.8077 - val_auc_1: 0.9762\n",
            "Epoch 47/100\n",
            "8/8 [==============================] - 22s 3s/step - loss: 0.0619 - accuracy: 0.9738 - sensitivity: 0.9460 - specificity: 0.9841 - dice_coefficient: 0.9222 - jaccard_index: 0.8581 - auc_1: 0.9969 - val_loss: 0.1795 - val_accuracy: 0.9360 - val_sensitivity: 0.8923 - val_specificity: 0.9648 - val_dice_coefficient: 0.8921 - val_jaccard_index: 0.8193 - val_auc_1: 0.9830\n",
            "\n",
            "Binary Cross-Entropy\n",
            "2/2 [==============================] - 2s 264ms/step - loss: 0.7862 - accuracy: 0.8546 - sensitivity: 0.7210 - specificity: 0.7997 - dice_coefficient: 0.7426 - jaccard_index: 0.6259 - auc_1: 0.9016\n",
            "Test Loss: 0.7862124443054199\n",
            "Test Accuracy: 0.8545562624931335\n",
            "Test Sensitivity: 0.7210339307785034\n",
            "Test Specificity: 0.7997129559516907\n",
            "Test Dice Coefficient: 0.7426335215568542\n",
            "Test Jaccard Index: 0.6258528828620911\n",
            "Test AUC: 0.9016229510307312\n"
          ]
        }
      ],
      "source": [
        "#################### Binary Cross-Entropy ####################\n",
        "#################### Binary Cross-Entropy ####################\n",
        "#################### Binary Cross-Entropy ####################\n",
        "model = tf.keras.Model(inputs=[inputs], outputs=[outputs])\n",
        "model.compile(optimizer='adam', loss='binary_crossentropy',\n",
        "              metrics=['accuracy', sensitivity, specificity, dice_coefficient, jaccard_index, tf.keras.metrics.AUC()])\n",
        "\n",
        "callbacks = [tf.keras.callbacks.EarlyStopping(patience=10, monitor='val_loss'), tf.keras.callbacks.TensorBoard(log_dir='logs')]\n",
        "results = model.fit(X_TRAIN_IMAGE, Y_TRAIN_TARGET, validation_split=0.2, batch_size=16, epochs=100, callbacks=callbacks)\n",
        "\n",
        "print('\\nBinary Cross-Entropy')\n",
        "model_results(model)"
      ]
    },
    {
      "cell_type": "code",
      "execution_count": null,
      "metadata": {
        "colab": {
          "base_uri": "https://localhost:8080/"
        },
        "id": "cgoZgEPPTSqN",
        "outputId": "7fb08649-7ad7-4aae-bece-bd14e6e7cd4b"
      },
      "outputs": [
        {
          "name": "stdout",
          "output_type": "stream",
          "text": [
            "Epoch 1/100\n",
            "8/8 [==============================] - 27s 3s/step - loss: 0.2319 - accuracy: 0.9547 - sensitivity: 0.9091 - specificity: 0.9691 - dice_coefficient: 0.8795 - jaccard_index: 0.7947 - auc_2: 0.9870 - val_loss: 0.4112 - val_accuracy: 0.9105 - val_sensitivity: 0.8213 - val_specificity: 0.9713 - val_dice_coefficient: 0.8607 - val_jaccard_index: 0.7700 - val_auc_2: 0.9717\n",
            "Epoch 2/100\n",
            "8/8 [==============================] - 21s 3s/step - loss: 0.1992 - accuracy: 0.9599 - sensitivity: 0.9155 - specificity: 0.9770 - dice_coefficient: 0.8934 - jaccard_index: 0.8137 - auc_2: 0.9910 - val_loss: 0.3975 - val_accuracy: 0.9053 - val_sensitivity: 0.8040 - val_specificity: 0.9748 - val_dice_coefficient: 0.8417 - val_jaccard_index: 0.7409 - val_auc_2: 0.9767\n",
            "Epoch 3/100\n",
            "8/8 [==============================] - 22s 3s/step - loss: 0.1848 - accuracy: 0.9624 - sensitivity: 0.9223 - specificity: 0.9787 - dice_coefficient: 0.8969 - jaccard_index: 0.8186 - auc_2: 0.9923 - val_loss: 0.3923 - val_accuracy: 0.9191 - val_sensitivity: 0.8556 - val_specificity: 0.9602 - val_dice_coefficient: 0.8757 - val_jaccard_index: 0.7969 - val_auc_2: 0.9700\n",
            "Epoch 4/100\n",
            "8/8 [==============================] - 20s 3s/step - loss: 0.1363 - accuracy: 0.9716 - sensitivity: 0.9485 - specificity: 0.9803 - dice_coefficient: 0.9283 - jaccard_index: 0.8685 - auc_2: 0.9955 - val_loss: 0.3625 - val_accuracy: 0.9257 - val_sensitivity: 0.8690 - val_specificity: 0.9631 - val_dice_coefficient: 0.8859 - val_jaccard_index: 0.8105 - val_auc_2: 0.9736\n",
            "Epoch 5/100\n",
            "8/8 [==============================] - 22s 3s/step - loss: 0.1375 - accuracy: 0.9711 - sensitivity: 0.9458 - specificity: 0.9813 - dice_coefficient: 0.9301 - jaccard_index: 0.8715 - auc_2: 0.9954 - val_loss: 0.3186 - val_accuracy: 0.9332 - val_sensitivity: 0.8761 - val_specificity: 0.9716 - val_dice_coefficient: 0.8949 - val_jaccard_index: 0.8228 - val_auc_2: 0.9782\n",
            "Epoch 6/100\n",
            "8/8 [==============================] - 20s 3s/step - loss: 0.1357 - accuracy: 0.9714 - sensitivity: 0.9543 - specificity: 0.9783 - dice_coefficient: 0.9276 - jaccard_index: 0.8671 - auc_2: 0.9959 - val_loss: 0.4005 - val_accuracy: 0.9142 - val_sensitivity: 0.8777 - val_specificity: 0.9347 - val_dice_coefficient: 0.8704 - val_jaccard_index: 0.7927 - val_auc_2: 0.9689\n",
            "Epoch 7/100\n",
            "8/8 [==============================] - 20s 3s/step - loss: 0.1162 - accuracy: 0.9754 - sensitivity: 0.9515 - specificity: 0.9847 - dice_coefficient: 0.9359 - jaccard_index: 0.8814 - auc_2: 0.9971 - val_loss: 0.4617 - val_accuracy: 0.9205 - val_sensitivity: 0.8360 - val_specificity: 0.9789 - val_dice_coefficient: 0.8814 - val_jaccard_index: 0.7993 - val_auc_2: 0.9648\n",
            "Epoch 8/100\n",
            "8/8 [==============================] - 21s 3s/step - loss: 0.1139 - accuracy: 0.9761 - sensitivity: 0.9538 - specificity: 0.9849 - dice_coefficient: 0.9410 - jaccard_index: 0.8901 - auc_2: 0.9966 - val_loss: 0.3858 - val_accuracy: 0.9286 - val_sensitivity: 0.8580 - val_specificity: 0.9766 - val_dice_coefficient: 0.8942 - val_jaccard_index: 0.8190 - val_auc_2: 0.9717\n",
            "Epoch 9/100\n",
            "8/8 [==============================] - 20s 3s/step - loss: 0.1034 - accuracy: 0.9779 - sensitivity: 0.9622 - specificity: 0.9841 - dice_coefficient: 0.9421 - jaccard_index: 0.8919 - auc_2: 0.9977 - val_loss: 0.4002 - val_accuracy: 0.9287 - val_sensitivity: 0.8622 - val_specificity: 0.9733 - val_dice_coefficient: 0.8926 - val_jaccard_index: 0.8185 - val_auc_2: 0.9701\n",
            "Epoch 10/100\n",
            "8/8 [==============================] - 22s 3s/step - loss: 0.1109 - accuracy: 0.9765 - sensitivity: 0.9591 - specificity: 0.9830 - dice_coefficient: 0.9422 - jaccard_index: 0.8923 - auc_2: 0.9971 - val_loss: 0.5374 - val_accuracy: 0.9121 - val_sensitivity: 0.8135 - val_specificity: 0.9789 - val_dice_coefficient: 0.8684 - val_jaccard_index: 0.7800 - val_auc_2: 0.9568\n",
            "Epoch 11/100\n",
            "8/8 [==============================] - 21s 3s/step - loss: 0.1327 - accuracy: 0.9717 - sensitivity: 0.9459 - specificity: 0.9805 - dice_coefficient: 0.9303 - jaccard_index: 0.8719 - auc_2: 0.9958 - val_loss: 0.3764 - val_accuracy: 0.9251 - val_sensitivity: 0.8517 - val_specificity: 0.9743 - val_dice_coefficient: 0.8873 - val_jaccard_index: 0.8095 - val_auc_2: 0.9733\n",
            "Epoch 12/100\n",
            "8/8 [==============================] - 22s 3s/step - loss: 0.1149 - accuracy: 0.9757 - sensitivity: 0.9526 - specificity: 0.9846 - dice_coefficient: 0.9345 - jaccard_index: 0.8789 - auc_2: 0.9973 - val_loss: 0.4396 - val_accuracy: 0.9199 - val_sensitivity: 0.8262 - val_specificity: 0.9845 - val_dice_coefficient: 0.8799 - val_jaccard_index: 0.7955 - val_auc_2: 0.9683\n",
            "Epoch 13/100\n",
            "8/8 [==============================] - 20s 2s/step - loss: 0.1159 - accuracy: 0.9756 - sensitivity: 0.9577 - specificity: 0.9829 - dice_coefficient: 0.9381 - jaccard_index: 0.8856 - auc_2: 0.9966 - val_loss: 0.4151 - val_accuracy: 0.9269 - val_sensitivity: 0.8558 - val_specificity: 0.9746 - val_dice_coefficient: 0.8929 - val_jaccard_index: 0.8178 - val_auc_2: 0.9681\n",
            "Epoch 14/100\n",
            "8/8 [==============================] - 19s 2s/step - loss: 0.1183 - accuracy: 0.9750 - sensitivity: 0.9528 - specificity: 0.9840 - dice_coefficient: 0.9380 - jaccard_index: 0.8852 - auc_2: 0.9965 - val_loss: 0.3521 - val_accuracy: 0.9319 - val_sensitivity: 0.8692 - val_specificity: 0.9738 - val_dice_coefficient: 0.8975 - val_jaccard_index: 0.8253 - val_auc_2: 0.9753\n",
            "Epoch 15/100\n",
            "8/8 [==============================] - 20s 3s/step - loss: 0.1050 - accuracy: 0.9779 - sensitivity: 0.9559 - specificity: 0.9855 - dice_coefficient: 0.9425 - jaccard_index: 0.8924 - auc_2: 0.9976 - val_loss: 0.4103 - val_accuracy: 0.9268 - val_sensitivity: 0.8494 - val_specificity: 0.9792 - val_dice_coefficient: 0.8890 - val_jaccard_index: 0.8109 - val_auc_2: 0.9689\n",
            "\n",
            "Binary Cross-Entropy + Dice Coefficient\n",
            "2/2 [==============================] - 2s 448ms/step - loss: 1.4828 - accuracy: 0.8518 - sensitivity: 0.6791 - specificity: 0.8385 - dice_coefficient: 0.7378 - jaccard_index: 0.6237 - auc_2: 0.8855\n",
            "Test Loss: 1.4827851057052612\n",
            "Test Accuracy: 0.8517959713935852\n",
            "Test Sensitivity: 0.679051399230957\n",
            "Test Specificity: 0.8385083675384521\n",
            "Test Dice Coefficient: 0.7378220558166504\n",
            "Test Jaccard Index: 0.6236789226531982\n",
            "Test AUC: 0.8854853510856628\n"
          ]
        }
      ],
      "source": [
        "#################### Binary Cross-Entropy + Dice Coefficient ####################\n",
        "#################### Binary Cross-Entropy + Dice Coefficient ####################\n",
        "#################### Binary Cross-Entropy + Dice Coefficient ####################\n",
        "model1 = tf.keras.Model(inputs=[inputs], outputs=[outputs])\n",
        "model1.compile(optimizer='adam', loss=bce_dice_loss,\n",
        "              metrics=['accuracy', sensitivity, specificity, dice_coefficient, jaccard_index, tf.keras.metrics.AUC()])\n",
        "\n",
        "callbacks = [tf.keras.callbacks.EarlyStopping(patience=10, monitor='val_loss'), tf.keras.callbacks.TensorBoard(log_dir='logs')]\n",
        "results = model1.fit(X_TRAIN_IMAGE, Y_TRAIN_TARGET, validation_split=0.2, batch_size=16, epochs=100, callbacks=callbacks)\n",
        "\n",
        "print('\\nBinary Cross-Entropy + Dice Coefficient')\n",
        "model_results(model1)"
      ]
    },
    {
      "cell_type": "code",
      "execution_count": null,
      "metadata": {
        "colab": {
          "base_uri": "https://localhost:8080/"
        },
        "id": "wrdUZMvZTU4a",
        "outputId": "942a07d7-f610-4749-e472-9eb3b31552d3"
      },
      "outputs": [
        {
          "name": "stdout",
          "output_type": "stream",
          "text": [
            "Epoch 1/100\n",
            "8/8 [==============================] - 25s 3s/step - loss: -0.7724 - accuracy: 0.9673 - sensitivity: 0.9548 - specificity: 0.9719 - dice_coefficient: 0.9318 - jaccard_index: 0.8762 - auc_3: 0.9855 - val_loss: -0.6950 - val_accuracy: 0.9334 - val_sensitivity: 0.8824 - val_specificity: 0.9661 - val_dice_coefficient: 0.9038 - val_jaccard_index: 0.8376 - val_auc_3: 0.9459\n",
            "Epoch 2/100\n",
            "8/8 [==============================] - 21s 3s/step - loss: -0.8258 - accuracy: 0.9749 - sensitivity: 0.9518 - specificity: 0.9841 - dice_coefficient: 0.9498 - jaccard_index: 0.9055 - auc_3: 0.9805 - val_loss: -0.6521 - val_accuracy: 0.9247 - val_sensitivity: 0.8527 - val_specificity: 0.9730 - val_dice_coefficient: 0.8888 - val_jaccard_index: 0.8132 - val_auc_3: 0.9315\n",
            "Epoch 3/100\n",
            "8/8 [==============================] - 19s 2s/step - loss: -0.8388 - accuracy: 0.9768 - sensitivity: 0.9587 - specificity: 0.9837 - dice_coefficient: 0.9527 - jaccard_index: 0.9111 - auc_3: 0.9830 - val_loss: -0.6572 - val_accuracy: 0.9256 - val_sensitivity: 0.8563 - val_specificity: 0.9717 - val_dice_coefficient: 0.8947 - val_jaccard_index: 0.8212 - val_auc_3: 0.9310\n",
            "Epoch 4/100\n",
            "8/8 [==============================] - 19s 2s/step - loss: -0.8502 - accuracy: 0.9785 - sensitivity: 0.9585 - specificity: 0.9861 - dice_coefficient: 0.9568 - jaccard_index: 0.9181 - auc_3: 0.9829 - val_loss: -0.6756 - val_accuracy: 0.9294 - val_sensitivity: 0.8647 - val_specificity: 0.9733 - val_dice_coefficient: 0.9027 - val_jaccard_index: 0.8326 - val_auc_3: 0.9329\n",
            "Epoch 5/100\n",
            "8/8 [==============================] - 21s 3s/step - loss: -0.8562 - accuracy: 0.9792 - sensitivity: 0.9651 - specificity: 0.9845 - dice_coefficient: 0.9583 - jaccard_index: 0.9208 - auc_3: 0.9836 - val_loss: -0.6750 - val_accuracy: 0.9305 - val_sensitivity: 0.8573 - val_specificity: 0.9804 - val_dice_coefficient: 0.8998 - val_jaccard_index: 0.8275 - val_auc_3: 0.9318\n",
            "Epoch 6/100\n",
            "8/8 [==============================] - 19s 2s/step - loss: -0.8592 - accuracy: 0.9796 - sensitivity: 0.9655 - specificity: 0.9846 - dice_coefficient: 0.9589 - jaccard_index: 0.9219 - auc_3: 0.9834 - val_loss: -0.6676 - val_accuracy: 0.9289 - val_sensitivity: 0.8541 - val_specificity: 0.9794 - val_dice_coefficient: 0.8993 - val_jaccard_index: 0.8270 - val_auc_3: 0.9292\n",
            "Epoch 7/100\n",
            "8/8 [==============================] - 19s 2s/step - loss: -0.8672 - accuracy: 0.9811 - sensitivity: 0.9628 - specificity: 0.9882 - dice_coefficient: 0.9611 - jaccard_index: 0.9258 - auc_3: 0.9832 - val_loss: -0.7034 - val_accuracy: 0.9347 - val_sensitivity: 0.8852 - val_specificity: 0.9670 - val_dice_coefficient: 0.9078 - val_jaccard_index: 0.8428 - val_auc_3: 0.9380\n",
            "Epoch 8/100\n",
            "8/8 [==============================] - 20s 2s/step - loss: -0.8686 - accuracy: 0.9809 - sensitivity: 0.9696 - specificity: 0.9847 - dice_coefficient: 0.9611 - jaccard_index: 0.9257 - auc_3: 0.9848 - val_loss: -0.6595 - val_accuracy: 0.9251 - val_sensitivity: 0.8619 - val_specificity: 0.9664 - val_dice_coefficient: 0.8922 - val_jaccard_index: 0.8208 - val_auc_3: 0.9270\n",
            "Epoch 9/100\n",
            "8/8 [==============================] - 19s 2s/step - loss: -0.8685 - accuracy: 0.9812 - sensitivity: 0.9623 - specificity: 0.9881 - dice_coefficient: 0.9618 - jaccard_index: 0.9271 - auc_3: 0.9828 - val_loss: -0.6653 - val_accuracy: 0.9284 - val_sensitivity: 0.8524 - val_specificity: 0.9801 - val_dice_coefficient: 0.8988 - val_jaccard_index: 0.8270 - val_auc_3: 0.9276\n",
            "Epoch 10/100\n",
            "8/8 [==============================] - 21s 3s/step - loss: -0.8682 - accuracy: 0.9810 - sensitivity: 0.9604 - specificity: 0.9890 - dice_coefficient: 0.9615 - jaccard_index: 0.9267 - auc_3: 0.9816 - val_loss: -0.6965 - val_accuracy: 0.9332 - val_sensitivity: 0.8859 - val_specificity: 0.9632 - val_dice_coefficient: 0.9048 - val_jaccard_index: 0.8392 - val_auc_3: 0.9360\n",
            "Epoch 11/100\n",
            "8/8 [==============================] - 19s 2s/step - loss: -0.8686 - accuracy: 0.9810 - sensitivity: 0.9708 - specificity: 0.9849 - dice_coefficient: 0.9610 - jaccard_index: 0.9257 - auc_3: 0.9841 - val_loss: -0.6877 - val_accuracy: 0.9313 - val_sensitivity: 0.8741 - val_specificity: 0.9690 - val_dice_coefficient: 0.8964 - val_jaccard_index: 0.8280 - val_auc_3: 0.9320\n",
            "Epoch 12/100\n",
            "8/8 [==============================] - 19s 2s/step - loss: -0.8749 - accuracy: 0.9820 - sensitivity: 0.9703 - specificity: 0.9866 - dice_coefficient: 0.9627 - jaccard_index: 0.9288 - auc_3: 0.9844 - val_loss: -0.6657 - val_accuracy: 0.9268 - val_sensitivity: 0.8623 - val_specificity: 0.9693 - val_dice_coefficient: 0.8950 - val_jaccard_index: 0.8253 - val_auc_3: 0.9275\n",
            "Epoch 13/100\n",
            "8/8 [==============================] - 21s 3s/step - loss: -0.8687 - accuracy: 0.9811 - sensitivity: 0.9663 - specificity: 0.9873 - dice_coefficient: 0.9617 - jaccard_index: 0.9269 - auc_3: 0.9828 - val_loss: -0.6552 - val_accuracy: 0.9257 - val_sensitivity: 0.8487 - val_specificity: 0.9783 - val_dice_coefficient: 0.8958 - val_jaccard_index: 0.8223 - val_auc_3: 0.9235\n",
            "Epoch 14/100\n",
            "8/8 [==============================] - 19s 2s/step - loss: -0.8805 - accuracy: 0.9831 - sensitivity: 0.9677 - specificity: 0.9885 - dice_coefficient: 0.9645 - jaccard_index: 0.9321 - auc_3: 0.9847 - val_loss: -0.6526 - val_accuracy: 0.9248 - val_sensitivity: 0.8516 - val_specificity: 0.9738 - val_dice_coefficient: 0.8939 - val_jaccard_index: 0.8208 - val_auc_3: 0.9234\n",
            "Epoch 15/100\n",
            "8/8 [==============================] - 19s 2s/step - loss: -0.8851 - accuracy: 0.9834 - sensitivity: 0.9717 - specificity: 0.9881 - dice_coefficient: 0.9650 - jaccard_index: 0.9330 - auc_3: 0.9856 - val_loss: -0.6643 - val_accuracy: 0.9277 - val_sensitivity: 0.8551 - val_specificity: 0.9768 - val_dice_coefficient: 0.8973 - val_jaccard_index: 0.8247 - val_auc_3: 0.9255\n",
            "Epoch 16/100\n",
            "8/8 [==============================] - 21s 2s/step - loss: -0.8810 - accuracy: 0.9830 - sensitivity: 0.9658 - specificity: 0.9891 - dice_coefficient: 0.9639 - jaccard_index: 0.9310 - auc_3: 0.9838 - val_loss: -0.6854 - val_accuracy: 0.9318 - val_sensitivity: 0.8677 - val_specificity: 0.9749 - val_dice_coefficient: 0.9055 - val_jaccard_index: 0.8394 - val_auc_3: 0.9306\n",
            "Epoch 17/100\n",
            "8/8 [==============================] - 19s 2s/step - loss: -0.8739 - accuracy: 0.9818 - sensitivity: 0.9700 - specificity: 0.9865 - dice_coefficient: 0.9602 - jaccard_index: 0.9250 - auc_3: 0.9834 - val_loss: -0.6802 - val_accuracy: 0.9313 - val_sensitivity: 0.8604 - val_specificity: 0.9795 - val_dice_coefficient: 0.9032 - val_jaccard_index: 0.8346 - val_auc_3: 0.9292\n",
            "\n",
            "Shape-Aware Loss\n",
            "2/2 [==============================] - 2s 258ms/step - loss: -0.3643 - accuracy: 0.8527 - sensitivity: 0.6985 - specificity: 0.8176 - dice_coefficient: 0.7532 - jaccard_index: 0.6445 - auc_3: 0.8376\n",
            "Test Loss: -0.3642825186252594\n",
            "Test Accuracy: 0.8527358770370483\n",
            "Test Sensitivity: 0.6985466480255127\n",
            "Test Specificity: 0.8176226019859314\n",
            "Test Dice Coefficient: 0.7532131671905518\n",
            "Test Jaccard Index: 0.6445375680923462\n",
            "Test AUC: 0.837584376335144\n"
          ]
        }
      ],
      "source": [
        "#################### Shape-Aware Loss ####################\n",
        "#################### Shape-Aware Loss ####################\n",
        "#################### Shape-Aware Loss ####################\n",
        "model2 = tf.keras.Model(inputs=[inputs], outputs=[outputs])\n",
        "model2.compile(optimizer='adam', loss=shape_aware_loss,\n",
        "              metrics=['accuracy', sensitivity, specificity, dice_coefficient, jaccard_index, tf.keras.metrics.AUC()])\n",
        "\n",
        "callbacks = [tf.keras.callbacks.EarlyStopping(patience=10, monitor='val_loss'), tf.keras.callbacks.TensorBoard(log_dir='logs')]\n",
        "results = model2.fit(X_TRAIN_IMAGE, Y_TRAIN_TARGET, validation_split=0.2, batch_size=16, epochs=100, callbacks=callbacks)\n",
        "\n",
        "print('\\nShape-Aware Loss')\n",
        "model_results(model2)"
      ]
    },
    {
      "cell_type": "markdown",
      "metadata": {
        "id": "IOiyBGjO_7aQ"
      },
      "source": [
        "## Loss Functions - Analysis\n",
        "The test set was employed to calculate various metrics derived from the model's performance.\n",
        "\n",
        "The model selection was based on the Jaccard Index, and it was determined that the Shape-Aware loss function yielded the highest value. This outcome aligns with expectations, as the Shape-Aware loss function was previously employed in the official paper of U-Net.\n",
        "\n",
        "Across all the metrics, the following loss functions demonstrated the best performance:\n",
        "\n",
        "*   Test Loss: Shape-Aware Loss\n",
        "*   Test Accuracy: Binary Cross-Entropy\n",
        "*   Test Sensitivity: Binary Cross-Entropy\n",
        "*   Test Specificity: Binary Cross-Entropy + Dice Coefficient\n",
        "*   Test Dice Coefficient: Shape-Aware Loss\n",
        "*   Test Jaccard Index: Shape-Aware Loss\n",
        "*   Test AUC: Binary Cross-Entropy\n",
        "\n",
        "Therefore, based on the results obtained, the loss functions showed balanced results among all the metrics. However, Shape-Aware outperformed the others in the Jaccard Index (the main metric of the challege) and, therefore, this is the chosen loss."
      ]
    },
    {
      "cell_type": "markdown",
      "metadata": {
        "id": "8iQX_pPTo0qu"
      },
      "source": [
        "## Optimizer Functions\n",
        "\n",
        "In order to optimize the model, the following loss functions are tested:\n",
        "\n",
        "*   ADAM (already performed on the previous example)\n",
        "*   Adagrad\n",
        "*   Adafactor\n",
        "*   Adadelta\n",
        "*   SGD\n"
      ]
    },
    {
      "cell_type": "code",
      "execution_count": null,
      "metadata": {
        "colab": {
          "base_uri": "https://localhost:8080/"
        },
        "id": "j-SR6rNUovk4",
        "outputId": "d6596302-79db-436c-f83c-f470f7f414da"
      },
      "outputs": [
        {
          "name": "stdout",
          "output_type": "stream",
          "text": [
            "Epoch 1/100\n",
            "8/8 [==============================] - 24s 3s/step - loss: -0.8828 - accuracy: 0.9833 - sensitivity: 0.9660 - specificity: 0.9897 - dice_coefficient: 0.9650 - jaccard_index: 0.9330 - auc_4: 0.9838 - val_loss: -0.6846 - val_accuracy: 0.9320 - val_sensitivity: 0.8644 - val_specificity: 0.9777 - val_dice_coefficient: 0.9043 - val_jaccard_index: 0.8367 - val_auc_4: 0.9304\n",
            "Epoch 2/100\n",
            "8/8 [==============================] - 21s 3s/step - loss: -0.8868 - accuracy: 0.9838 - sensitivity: 0.9678 - specificity: 0.9901 - dice_coefficient: 0.9663 - jaccard_index: 0.9353 - auc_4: 0.9845 - val_loss: -0.6865 - val_accuracy: 0.9323 - val_sensitivity: 0.8658 - val_specificity: 0.9772 - val_dice_coefficient: 0.9048 - val_jaccard_index: 0.8376 - val_auc_4: 0.9309\n",
            "Epoch 3/100\n",
            "8/8 [==============================] - 20s 2s/step - loss: -0.8871 - accuracy: 0.9837 - sensitivity: 0.9710 - specificity: 0.9885 - dice_coefficient: 0.9662 - jaccard_index: 0.9352 - auc_4: 0.9853 - val_loss: -0.6861 - val_accuracy: 0.9322 - val_sensitivity: 0.8658 - val_specificity: 0.9769 - val_dice_coefficient: 0.9046 - val_jaccard_index: 0.8374 - val_auc_4: 0.9309\n",
            "Epoch 4/100\n",
            "8/8 [==============================] - 19s 2s/step - loss: -0.8867 - accuracy: 0.9837 - sensitivity: 0.9699 - specificity: 0.9891 - dice_coefficient: 0.9656 - jaccard_index: 0.9342 - auc_4: 0.9850 - val_loss: -0.6877 - val_accuracy: 0.9325 - val_sensitivity: 0.8671 - val_specificity: 0.9765 - val_dice_coefficient: 0.9051 - val_jaccard_index: 0.8382 - val_auc_4: 0.9314\n",
            "Epoch 5/100\n",
            "8/8 [==============================] - 28s 4s/step - loss: -0.8897 - accuracy: 0.9842 - sensitivity: 0.9718 - specificity: 0.9889 - dice_coefficient: 0.9669 - jaccard_index: 0.9364 - auc_4: 0.9858 - val_loss: -0.6882 - val_accuracy: 0.9325 - val_sensitivity: 0.8679 - val_specificity: 0.9759 - val_dice_coefficient: 0.9052 - val_jaccard_index: 0.8385 - val_auc_4: 0.9315\n",
            "Epoch 6/100\n",
            "8/8 [==============================] - 25s 3s/step - loss: -0.8892 - accuracy: 0.9840 - sensitivity: 0.9711 - specificity: 0.9890 - dice_coefficient: 0.9663 - jaccard_index: 0.9354 - auc_4: 0.9856 - val_loss: -0.6883 - val_accuracy: 0.9326 - val_sensitivity: 0.8675 - val_specificity: 0.9764 - val_dice_coefficient: 0.9053 - val_jaccard_index: 0.8385 - val_auc_4: 0.9314\n",
            "Epoch 7/100\n",
            "8/8 [==============================] - 23s 3s/step - loss: -0.8885 - accuracy: 0.9839 - sensitivity: 0.9724 - specificity: 0.9884 - dice_coefficient: 0.9665 - jaccard_index: 0.9358 - auc_4: 0.9857 - val_loss: -0.6867 - val_accuracy: 0.9323 - val_sensitivity: 0.8668 - val_specificity: 0.9763 - val_dice_coefficient: 0.9048 - val_jaccard_index: 0.8377 - val_auc_4: 0.9311\n",
            "Epoch 8/100\n",
            "8/8 [==============================] - 19s 2s/step - loss: -0.8900 - accuracy: 0.9842 - sensitivity: 0.9717 - specificity: 0.9891 - dice_coefficient: 0.9664 - jaccard_index: 0.9356 - auc_4: 0.9859 - val_loss: -0.6880 - val_accuracy: 0.9325 - val_sensitivity: 0.8677 - val_specificity: 0.9761 - val_dice_coefficient: 0.9052 - val_jaccard_index: 0.8384 - val_auc_4: 0.9314\n",
            "Epoch 9/100\n",
            "8/8 [==============================] - 22s 3s/step - loss: -0.8856 - accuracy: 0.9834 - sensitivity: 0.9709 - specificity: 0.9882 - dice_coefficient: 0.9657 - jaccard_index: 0.9344 - auc_4: 0.9850 - val_loss: -0.6873 - val_accuracy: 0.9324 - val_sensitivity: 0.8666 - val_specificity: 0.9768 - val_dice_coefficient: 0.9051 - val_jaccard_index: 0.8380 - val_auc_4: 0.9311\n",
            "Epoch 10/100\n",
            "8/8 [==============================] - 24s 3s/step - loss: -0.8888 - accuracy: 0.9843 - sensitivity: 0.9714 - specificity: 0.9891 - dice_coefficient: 0.9674 - jaccard_index: 0.9374 - auc_4: 0.9858 - val_loss: -0.6873 - val_accuracy: 0.9324 - val_sensitivity: 0.8676 - val_specificity: 0.9759 - val_dice_coefficient: 0.9050 - val_jaccard_index: 0.8380 - val_auc_4: 0.9312\n",
            "Epoch 11/100\n",
            "8/8 [==============================] - 26s 3s/step - loss: -0.8873 - accuracy: 0.9839 - sensitivity: 0.9717 - specificity: 0.9882 - dice_coefficient: 0.9668 - jaccard_index: 0.9362 - auc_4: 0.9858 - val_loss: -0.6863 - val_accuracy: 0.9321 - val_sensitivity: 0.8671 - val_specificity: 0.9758 - val_dice_coefficient: 0.9047 - val_jaccard_index: 0.8375 - val_auc_4: 0.9310\n",
            "Epoch 12/100\n",
            "8/8 [==============================] - 21s 3s/step - loss: -0.8884 - accuracy: 0.9840 - sensitivity: 0.9724 - specificity: 0.9884 - dice_coefficient: 0.9668 - jaccard_index: 0.9363 - auc_4: 0.9861 - val_loss: -0.6867 - val_accuracy: 0.9322 - val_sensitivity: 0.8675 - val_specificity: 0.9756 - val_dice_coefficient: 0.9048 - val_jaccard_index: 0.8378 - val_auc_4: 0.9310\n",
            "Epoch 13/100\n",
            "8/8 [==============================] - 21s 3s/step - loss: -0.8907 - accuracy: 0.9843 - sensitivity: 0.9717 - specificity: 0.9892 - dice_coefficient: 0.9673 - jaccard_index: 0.9372 - auc_4: 0.9858 - val_loss: -0.6873 - val_accuracy: 0.9323 - val_sensitivity: 0.8676 - val_specificity: 0.9758 - val_dice_coefficient: 0.9050 - val_jaccard_index: 0.8381 - val_auc_4: 0.9312\n",
            "Epoch 14/100\n",
            "8/8 [==============================] - 19s 2s/step - loss: -0.8904 - accuracy: 0.9843 - sensitivity: 0.9733 - specificity: 0.9886 - dice_coefficient: 0.9673 - jaccard_index: 0.9372 - auc_4: 0.9863 - val_loss: -0.6852 - val_accuracy: 0.9320 - val_sensitivity: 0.8659 - val_specificity: 0.9765 - val_dice_coefficient: 0.9044 - val_jaccard_index: 0.8371 - val_auc_4: 0.9306\n",
            "Epoch 15/100\n",
            "8/8 [==============================] - 19s 2s/step - loss: -0.8931 - accuracy: 0.9847 - sensitivity: 0.9731 - specificity: 0.9892 - dice_coefficient: 0.9681 - jaccard_index: 0.9386 - auc_4: 0.9866 - val_loss: -0.6851 - val_accuracy: 0.9319 - val_sensitivity: 0.8662 - val_specificity: 0.9761 - val_dice_coefficient: 0.9044 - val_jaccard_index: 0.8370 - val_auc_4: 0.9306\n",
            "Epoch 16/100\n",
            "8/8 [==============================] - 20s 2s/step - loss: -0.8918 - accuracy: 0.9846 - sensitivity: 0.9718 - specificity: 0.9895 - dice_coefficient: 0.9675 - jaccard_index: 0.9376 - auc_4: 0.9862 - val_loss: -0.6869 - val_accuracy: 0.9323 - val_sensitivity: 0.8670 - val_specificity: 0.9763 - val_dice_coefficient: 0.9049 - val_jaccard_index: 0.8379 - val_auc_4: 0.9310\n",
            "\n",
            "Adagrad\n",
            "2/2 [==============================] - 2s 269ms/step - loss: -0.3786 - accuracy: 0.8547 - sensitivity: 0.7117 - specificity: 0.8104 - dice_coefficient: 0.7577 - jaccard_index: 0.6505 - auc_4: 0.8423\n",
            "Test Loss: -0.3785703480243683\n",
            "Test Accuracy: 0.854687511920929\n",
            "Test Sensitivity: 0.7116609811782837\n",
            "Test Specificity: 0.8104141354560852\n",
            "Test Dice Coefficient: 0.7576578855514526\n",
            "Test Jaccard Index: 0.6504814624786377\n",
            "Test AUC: 0.8423283696174622\n"
          ]
        }
      ],
      "source": [
        "#################### Adagrad ####################\n",
        "#################### Adagrad ####################\n",
        "#################### Adagrad ####################\n",
        "model = tf.keras.Model(inputs=[inputs], outputs=[outputs])\n",
        "model.compile(optimizer='Adagrad', loss=shape_aware_loss,\n",
        "              metrics=['accuracy', sensitivity, specificity, dice_coefficient, jaccard_index, tf.keras.metrics.AUC()])\n",
        "\n",
        "callbacks = [tf.keras.callbacks.EarlyStopping(patience=10, monitor='val_loss'), tf.keras.callbacks.TensorBoard(log_dir='logs')]\n",
        "results = model.fit(X_TRAIN_IMAGE, Y_TRAIN_TARGET, validation_split=0.2, batch_size=16, epochs=100, callbacks=callbacks)\n",
        "\n",
        "print('\\nAdagrad')\n",
        "model_results(model)"
      ]
    },
    {
      "cell_type": "code",
      "source": [
        "#################### Adafactor ####################\n",
        "#################### Adafactor ####################\n",
        "#################### Adafactor ####################\n",
        "del model\n",
        "model = tf.keras.Model(inputs=[inputs], outputs=[outputs])\n",
        "model.compile(optimizer=tf.keras.optimizers.Adafactor(), loss=shape_aware_loss,\n",
        "              metrics=['accuracy', sensitivity, specificity, dice_coefficient, jaccard_index, tf.keras.metrics.AUC()])\n",
        "\n",
        "callbacks = [tf.keras.callbacks.EarlyStopping(patience=3, monitor='val_loss'), tf.keras.callbacks.TensorBoard(log_dir='logs')]\n",
        "results = model.fit(X_TRAIN_IMAGE, Y_TRAIN_TARGET, validation_split=0.2, batch_size=16, epochs=100, callbacks=callbacks)\n",
        "\n",
        "print('\\nAdafactor')\n",
        "model_results(model)"
      ],
      "metadata": {
        "id": "FDIh56yRQ-cL"
      },
      "execution_count": null,
      "outputs": []
    },
    {
      "cell_type": "markdown",
      "metadata": {
        "id": "Notd-I5hjTtw"
      },
      "source": [
        "\n",
        "\n",
        "Test Loss: 0.5307576656341553\n",
        "\n",
        "Test Accuracy: 0.609027087688446\n",
        "\n",
        "Test Sensitivity: 0.12046891450881958\n",
        "\n",
        "Test Specificity: 0.9291584491729736\n",
        "\n",
        "Test Dice Coefficient: 0.3792076110839844\n",
        "\n",
        "Test Jaccard Index: 0.23844262957572937\n",
        "\n",
        "Test AUC: 0.6816760301589966\n",
        "\n",
        "**Note: This cell was ran on another account due to resource problems. These are the results obtained.**"
      ]
    },
    {
      "cell_type": "code",
      "execution_count": null,
      "metadata": {
        "id": "JEnBdghuxTYh"
      },
      "outputs": [],
      "source": [
        "#################### Adadelta ####################\n",
        "#################### Adadelta ####################\n",
        "#################### Adadelta ####################\n",
        "model3 = tf.keras.Model(inputs=[inputs], outputs=[outputs])\n",
        "model3.compile(optimizer=tf.keras.optimizers.Adadelta(), loss=shape_aware_loss,\n",
        "              metrics=['accuracy', sensitivity, specificity, dice_coefficient, jaccard_index, tf.keras.metrics.AUC()])\n",
        "\n",
        "callbacks = [tf.keras.callbacks.EarlyStopping(patience=3, monitor='val_loss'), tf.keras.callbacks.TensorBoard(log_dir='logs')]\n",
        "results = model3.fit(X_TRAIN_IMAGE, Y_TRAIN_TARGET, validation_split=0.2, batch_size=16, epochs=100, callbacks=callbacks)\n",
        "\n",
        "print('\\nAdadelta')\n",
        "model_results(model3)"
      ]
    },
    {
      "cell_type": "markdown",
      "metadata": {
        "id": "4afjsdaMjZ1t"
      },
      "source": [
        "Test Loss: 0.5264132022857666\n",
        "\n",
        "Test Accuracy: 0.6199447512626648\n",
        "\n",
        "Test Sensitivity: 0.15423181653022766\n",
        "\n",
        "Test Specificity: 0.9266226291656494\n",
        "\n",
        "Test Dice Coefficient: 0.3833346962928772\n",
        "\n",
        "Test Jaccard Index: 0.24133992195129395\n",
        "\n",
        "Test AUC: 0.6885446310043335\n",
        "\n",
        "**Note: This cell was ran on another account due to resource problems. These are the results obtained.**"
      ]
    },
    {
      "cell_type": "code",
      "execution_count": null,
      "metadata": {
        "id": "XStBGC5XHA80"
      },
      "outputs": [],
      "source": [
        "#################### SGD ####################\n",
        "#################### SGD ####################\n",
        "#################### SGD ####################\n",
        "model1 = tf.keras.Model(inputs=[inputs], outputs=[outputs])\n",
        "model1.compile(optimizer=tf.keras.optimizers.experimental.SGD(learning_rate=0.01,momentum=0.8), loss=shape_aware_loss,\n",
        "              metrics=['accuracy', sensitivity, specificity, dice_coefficient, jaccard_index, tf.keras.metrics.AUC()])\n",
        "\n",
        "callbacks = [tf.keras.callbacks.EarlyStopping(patience=3, monitor='val_loss'), tf.keras.callbacks.TensorBoard(log_dir='logs')]\n",
        "results = model1.fit(X_TRAIN_IMAGE, Y_TRAIN_TARGET, validation_split=0.2, batch_size=16, epochs=100, callbacks=callbacks)\n",
        "\n",
        "print('\\nSGD')\n",
        "model_results(model1)"
      ]
    },
    {
      "cell_type": "markdown",
      "metadata": {
        "id": "XKSaFemEjf4i"
      },
      "source": [
        "Test Loss: 0.7586497068405151\n",
        "\n",
        "Test Accuracy: 0.6204147338867188\n",
        "\n",
        "Test Sensitivity: 0.118413046002388\n",
        "\n",
        "Test Specificity: 0.9520232677459717\n",
        "\n",
        "Test Dice Coefficient: 0.2376861721277237\n",
        "\n",
        "Test Jaccard Index: 0.15513652563095093\n",
        "\n",
        "Test AUC: 0.5416691303253174\n",
        "\n",
        "**Note: This cell was ran on another account due to resource problems. These are the results obtained.**"
      ]
    },
    {
      "cell_type": "markdown",
      "metadata": {
        "id": "7BVYb0SZ-Z_B"
      },
      "source": [
        "## Optimizer Functions - Analysis\n",
        "The test set was employed to calculate various metrics derived from the model's performance.\n",
        "\n",
        "The model selection was based on the Jaccard Index, and it was determined that the Adagrad optimizer function yielded the highest value.\n",
        "\n",
        "Across all the metrics, the following optimization functions demonstrated the best performance:\n",
        "\n",
        "*   Test Loss: adam\n",
        "*   Test Accuracy: Adagrad\n",
        "*   Test Sensitivity: Adagrad\n",
        "*   Test Specificity: SGD\n",
        "*   Test Dice Coefficient: Adagrad\n",
        "*   Test Jaccard Index: Adagrad\n",
        "*   Test AUC: Adagrad\n",
        "\n",
        "Therefore, based on the results obtained, the top performing optimizer function was Adagrad."
      ]
    },
    {
      "cell_type": "markdown",
      "metadata": {
        "id": "QnqeuiaE-pJc"
      },
      "source": [
        "## Batch Sizes\n",
        "\n",
        "In order to optimize the model, different batch sizes are tested:\n",
        "\n",
        "*   8\n",
        "*   16 (already performed on the previous example)\n",
        "*   32\n",
        "*   64"
      ]
    },
    {
      "cell_type": "code",
      "execution_count": null,
      "metadata": {
        "id": "y_yIwY9Z-9_m"
      },
      "outputs": [],
      "source": [
        "#################### 8 ####################\n",
        "#################### 8 ####################\n",
        "#################### 8 ####################\n",
        "model = tf.keras.Model(inputs=[inputs], outputs=[outputs])\n",
        "model.compile(optimizer='Adagrad', loss=shape_aware_loss,\n",
        "              metrics=['accuracy', sensitivity, specificity, dice_coefficient, jaccard_index, tf.keras.metrics.AUC()])\n",
        "\n",
        "callbacks = [tf.keras.callbacks.EarlyStopping(patience=3, monitor='val_loss'), tf.keras.callbacks.TensorBoard(log_dir='logs')]\n",
        "results = model.fit(X_TRAIN_IMAGE, Y_TRAIN_TARGET, validation_split=0.2, batch_size=16, epochs=100, callbacks=callbacks)\n",
        "\n",
        "print('\\n8')\n",
        "model_results(model)"
      ]
    },
    {
      "cell_type": "markdown",
      "metadata": {
        "id": "CajgNI-Gjl_Y"
      },
      "source": [
        "Test Loss: 0.41512471437454224\n",
        "\n",
        "Test Accuracy: 0.491842657327652\n",
        "\n",
        "Test Sensitivity: 0.5622638463973999\n",
        "\n",
        "Test Specificity: 0.4511493444442749\n",
        "\n",
        "Test Dice Coefficient: 0.4579499661922455\n",
        "\n",
        "Test Jaccard Index: 0.3139209747314453\n",
        "\n",
        "Test AUC: 0.5055501461029053\n",
        "\n",
        "**Note: This cell was ran on another account due to resource problems. These are the results obtained.**"
      ]
    },
    {
      "cell_type": "code",
      "execution_count": null,
      "metadata": {
        "id": "dr4YkTMW--Jn"
      },
      "outputs": [],
      "source": [
        "#################### 32 ####################\n",
        "#################### 32 ####################\n",
        "#################### 32 ####################\n",
        "model1 = tf.keras.Model(inputs=[inputs], outputs=[outputs])\n",
        "model1.compile(optimizer='Adagrad', loss=shape_aware_loss,\n",
        "              metrics=['accuracy', sensitivity, specificity, dice_coefficient, jaccard_index, tf.keras.metrics.AUC()])\n",
        "\n",
        "callbacks = [tf.keras.callbacks.EarlyStopping(patience=3, monitor='val_loss'), tf.keras.callbacks.TensorBoard(log_dir='logs')]\n",
        "results = model1.fit(X_TRAIN_IMAGE, Y_TRAIN_TARGET, validation_split=0.2, batch_size=32, epochs=100, callbacks=callbacks)\n",
        "\n",
        "print('\\n32')\n",
        "model_results(model1)"
      ]
    },
    {
      "cell_type": "markdown",
      "metadata": {
        "id": "5ojq365Ijrv7"
      },
      "source": [
        "Test Loss: 0.6194795370101929\n",
        "\n",
        "Test Accuracy: 0.5609024167060852\n",
        "\n",
        "Test Sensitivity: 0.276769757270813\n",
        "\n",
        "Test Specificity: 0.735434889793396\n",
        "\n",
        "Test Dice Coefficient: 0.3136146366596222\n",
        "\n",
        "Test Jaccard Index: 0.1894935667514801\n",
        "\n",
        "Test AUC: 0.5055112838745117\n",
        "\n",
        "**Note: This cell was ran on another account due to resource problems. These are the results obtained.**"
      ]
    },
    {
      "cell_type": "code",
      "execution_count": null,
      "metadata": {
        "id": "RLwxI9y9VxYQ"
      },
      "outputs": [],
      "source": [
        "#################### 64 ####################\n",
        "#################### 64 ####################\n",
        "#################### 64 ####################\n",
        "\n",
        "model2 = tf.keras.Model(inputs=[inputs], outputs=[outputs])\n",
        "model2.compile(optimizer='Adagrad', loss=shape_aware_loss,\n",
        "              metrics=['accuracy', sensitivity, specificity, dice_coefficient, jaccard_index, tf.keras.metrics.AUC()])\n",
        "\n",
        "callbacks = [tf.keras.callbacks.EarlyStopping(patience=3, monitor='val_loss'), tf.keras.callbacks.TensorBoard(log_dir='logs')]\n",
        "results = model2.fit(X_TRAIN_IMAGE, Y_TRAIN_TARGET, validation_split=0.2, batch_size=64, epochs=100, callbacks=callbacks)\n",
        "\n",
        "print('\\n64')\n",
        "model_results(model2)"
      ]
    },
    {
      "cell_type": "markdown",
      "metadata": {
        "id": "LcJbbRtIjwAb"
      },
      "source": [
        "Test Loss: 0.5194851756095886\n",
        "\n",
        "Test Accuracy: 0.5457611083984375\n",
        "\n",
        "Test Sensitivity: 0.38458770513534546\n",
        "\n",
        "Test Specificity: 0.6484737992286682\n",
        "\n",
        "Test Dice Coefficient: 0.38316911458969116\n",
        "\n",
        "Test Jaccard Index: 0.24473731219768524\n",
        "\n",
        "Test AUC: 0.5144827365875244\n",
        "\n",
        "**Note: This cell was ran on another account due to resource problems. These are the results obtained.**"
      ]
    },
    {
      "cell_type": "markdown",
      "metadata": {
        "id": "m5zzek_3_CLV"
      },
      "source": [
        "## Batch Sizes - Analysis\n",
        "The test set was employed to calculate various metrics derived from the model's performance.\n",
        "\n",
        "The model selection was based on the Jaccard Index, and it was determined that a batch size of 16 yielded the highest value.\n",
        "\n",
        "Across all the metrics, the following loss functions demonstrated the best performance:\n",
        "\n",
        "*   Test Loss: 16\n",
        "*   Test Accuracy: 16\n",
        "*   Test Sensitivity: 16\n",
        "*   Test Specificity: 16\n",
        "*   Test Dice Coefficient: 16\n",
        "*   Test Jaccard Index: 16\n",
        "*   Test AUC: 16\n",
        "\n",
        "\n",
        "Therefore, based on the results obtained, the a batch size of 16 outperformed the others across all of the metrics utilized."
      ]
    },
    {
      "cell_type": "markdown",
      "metadata": {
        "id": "PApkYBcU_HHm"
      },
      "source": [
        "## Overall Model's Refinement - Analysis\n",
        "\n",
        "Considering all the tests performed, the optimal model found for the data used is:\n",
        "\n",
        "\n",
        "*   Loss Function: Shape-Aware\n",
        "*   Optimizer Function: Adagrad\n",
        "*   Batch Size: 16"
      ]
    },
    {
      "cell_type": "markdown",
      "metadata": {
        "id": "QpPiWaI8l-5i"
      },
      "source": [
        "## Preprocessing Techniques"
      ]
    },
    {
      "cell_type": "markdown",
      "metadata": {
        "id": "owUcdajXmIBN"
      },
      "source": [
        "## Edge Detection\n",
        "\n",
        "The initial step in our preprocessing methodology involves the application of edge detection techniques. Given that the primary objective of this endeavor revolves around segmentation, the accurate identification of edges holds significant importance. Consequently, we explore various edge detection methods to ascertain their potential in enhancing the model's performance.\n",
        "\n",
        "In pursuit of this goal, we consider a range of distinct approaches:\n",
        "\n",
        "*   Gradient-Based Method: We employ the Scharr Operator, a refined iteration of the Sobel and Prewitt operators. This operator features nuanced kernel weights that exhibit superior edge detection capabilities.\n",
        "*   Laplacian of Gaussian: This method is another avenue explored, where we apply the Laplacian of Gaussian to capture edges with precision.\n",
        "*   Canny Edge Detector: Lastly, the Canny Edge Detector is incorporated into our analysis, offering its distinct advantages in edge detection.\n",
        "\n",
        "By investigating and comparing these diverse techniques, we aim to determine their effectiveness in optimizing the outcomes of our model.\n",
        "\n"
      ]
    },
    {
      "cell_type": "markdown",
      "metadata": {
        "id": "n9GLsutTmBCk"
      },
      "source": [
        "## Scharr Operator"
      ]
    },
    {
      "cell_type": "code",
      "execution_count": null,
      "metadata": {
        "id": "AaQETghGdKvZ"
      },
      "outputs": [],
      "source": [
        "def get_scharr(X):\n",
        "  X_scharr = np.empty_like(X)\n",
        "  scharr_kernel_x = np.array([[3, 0, -3],\n",
        "                              [10, 0, -10],\n",
        "                              [3, 0, -3]])\n",
        "  scharr_kernel_y = np.array([[3, 10, 3],\n",
        "                              [0, 0, 0],\n",
        "                              [-3, -10, -3]])\n",
        "  for i in range(X.shape[0]):\n",
        "      for channel in range(X.shape[3]):\n",
        "          image = X[i, :, :, channel]\n",
        "          grad_x = convolve(image, scharr_kernel_x)\n",
        "          grad_y = convolve(image, scharr_kernel_y)\n",
        "          magnitude = np.sqrt(grad_x**2 + grad_y**2)\n",
        "          X_scharr[i, :, :, channel] = magnitude\n",
        "  return X_scharr\n",
        "\n",
        "X_TRAIN_EDGE = tf.constant(get_scharr(X_train), dtype=tf.float32)\n",
        "X_TEST_EDGE = tf.constant(get_scharr(X_test), dtype=tf.float32)"
      ]
    },
    {
      "cell_type": "code",
      "execution_count": null,
      "metadata": {
        "colab": {
          "base_uri": "https://localhost:8080/"
        },
        "id": "GTxNRH8zY53y",
        "outputId": "59af296b-977b-4f54-d5a3-ede57fcb31c2"
      },
      "outputs": [
        {
          "name": "stdout",
          "output_type": "stream",
          "text": [
            "Epoch 1/50\n",
            "8/8 [==============================] - 38s 3s/step - loss: 0.5683 - accuracy: 0.7125 - sensitivity: 0.0088 - specificity: 0.9882 - dice_coefficient: 0.3343 - jaccard_index: 0.2067 - auc_1: 0.4660 - val_loss: 0.4192 - val_accuracy: 0.5773 - val_sensitivity: 8.7859e-04 - val_specificity: 0.9945 - val_dice_coefficient: 0.4148 - val_jaccard_index: 0.2722 - val_auc_1: 0.4734\n",
            "Epoch 2/50\n",
            "8/8 [==============================] - 24s 3s/step - loss: 0.5668 - accuracy: 0.7064 - sensitivity: 0.0171 - specificity: 0.9763 - dice_coefficient: 0.3349 - jaccard_index: 0.2071 - auc_1: 0.4692 - val_loss: 0.4179 - val_accuracy: 0.5737 - val_sensitivity: 0.0033 - val_specificity: 0.9864 - val_dice_coefficient: 0.4155 - val_jaccard_index: 0.2728 - val_auc_1: 0.4739\n",
            "Epoch 3/50\n",
            "8/8 [==============================] - 23s 3s/step - loss: 0.5673 - accuracy: 0.6977 - sensitivity: 0.0313 - specificity: 0.9588 - dice_coefficient: 0.3354 - jaccard_index: 0.2075 - auc_1: 0.4684 - val_loss: 0.4167 - val_accuracy: 0.5692 - val_sensitivity: 0.0107 - val_specificity: 0.9732 - val_dice_coefficient: 0.4162 - val_jaccard_index: 0.2734 - val_auc_1: 0.4753\n",
            "Epoch 4/50\n",
            "8/8 [==============================] - 23s 3s/step - loss: 0.5658 - accuracy: 0.6871 - sensitivity: 0.0507 - specificity: 0.9361 - dice_coefficient: 0.3358 - jaccard_index: 0.2079 - auc_1: 0.4726 - val_loss: 0.4156 - val_accuracy: 0.5625 - val_sensitivity: 0.0279 - val_specificity: 0.9490 - val_dice_coefficient: 0.4168 - val_jaccard_index: 0.2740 - val_auc_1: 0.4759\n",
            "Epoch 5/50\n",
            "8/8 [==============================] - 23s 3s/step - loss: 0.5647 - accuracy: 0.6705 - sensitivity: 0.0800 - specificity: 0.9021 - dice_coefficient: 0.3362 - jaccard_index: 0.2082 - auc_1: 0.4702 - val_loss: 0.4146 - val_accuracy: 0.5528 - val_sensitivity: 0.0622 - val_specificity: 0.9075 - val_dice_coefficient: 0.4174 - val_jaccard_index: 0.2745 - val_auc_1: 0.4768\n",
            "Epoch 6/50\n",
            "8/8 [==============================] - 22s 3s/step - loss: 0.5644 - accuracy: 0.6513 - sensitivity: 0.1154 - specificity: 0.8608 - dice_coefficient: 0.3366 - jaccard_index: 0.2085 - auc_1: 0.4728 - val_loss: 0.4137 - val_accuracy: 0.5406 - val_sensitivity: 0.1193 - val_specificity: 0.8453 - val_dice_coefficient: 0.4179 - val_jaccard_index: 0.2750 - val_auc_1: 0.4779\n",
            "Epoch 7/50\n",
            "8/8 [==============================] - 24s 3s/step - loss: 0.5650 - accuracy: 0.6257 - sensitivity: 0.1655 - specificity: 0.8066 - dice_coefficient: 0.3370 - jaccard_index: 0.2088 - auc_1: 0.4717 - val_loss: 0.4128 - val_accuracy: 0.5260 - val_sensitivity: 0.2004 - val_specificity: 0.7612 - val_dice_coefficient: 0.4184 - val_jaccard_index: 0.2754 - val_auc_1: 0.4797\n",
            "Epoch 8/50\n",
            "8/8 [==============================] - 22s 3s/step - loss: 0.5636 - accuracy: 0.5975 - sensitivity: 0.2221 - specificity: 0.7451 - dice_coefficient: 0.3373 - jaccard_index: 0.2090 - auc_1: 0.4725 - val_loss: 0.4120 - val_accuracy: 0.5103 - val_sensitivity: 0.3005 - val_specificity: 0.6619 - val_dice_coefficient: 0.4189 - val_jaccard_index: 0.2759 - val_auc_1: 0.4807\n",
            "Epoch 9/50\n",
            "8/8 [==============================] - 24s 3s/step - loss: 0.5632 - accuracy: 0.5693 - sensitivity: 0.2855 - specificity: 0.6801 - dice_coefficient: 0.3376 - jaccard_index: 0.2093 - auc_1: 0.4756 - val_loss: 0.4112 - val_accuracy: 0.4944 - val_sensitivity: 0.4123 - val_specificity: 0.5536 - val_dice_coefficient: 0.4193 - val_jaccard_index: 0.2763 - val_auc_1: 0.4817\n",
            "Epoch 10/50\n",
            "8/8 [==============================] - 23s 3s/step - loss: 0.5650 - accuracy: 0.5373 - sensitivity: 0.3527 - specificity: 0.6085 - dice_coefficient: 0.3379 - jaccard_index: 0.2095 - auc_1: 0.4760 - val_loss: 0.4105 - val_accuracy: 0.4788 - val_sensitivity: 0.5264 - val_specificity: 0.4441 - val_dice_coefficient: 0.4197 - val_jaccard_index: 0.2766 - val_auc_1: 0.4821\n",
            "Epoch 11/50\n",
            "8/8 [==============================] - 24s 3s/step - loss: 0.5619 - accuracy: 0.5024 - sensitivity: 0.4288 - specificity: 0.5320 - dice_coefficient: 0.3382 - jaccard_index: 0.2098 - auc_1: 0.4759 - val_loss: 0.4097 - val_accuracy: 0.4649 - val_sensitivity: 0.6323 - val_specificity: 0.3437 - val_dice_coefficient: 0.4201 - val_jaccard_index: 0.2770 - val_auc_1: 0.4837\n",
            "Epoch 12/50\n",
            "8/8 [==============================] - 22s 3s/step - loss: 0.5622 - accuracy: 0.4720 - sensitivity: 0.5023 - specificity: 0.4600 - dice_coefficient: 0.3385 - jaccard_index: 0.2100 - auc_1: 0.4784 - val_loss: 0.4091 - val_accuracy: 0.4535 - val_sensitivity: 0.7252 - val_specificity: 0.2568 - val_dice_coefficient: 0.4205 - val_jaccard_index: 0.2774 - val_auc_1: 0.4858\n",
            "Epoch 13/50\n",
            "8/8 [==============================] - 24s 3s/step - loss: 0.5613 - accuracy: 0.4399 - sensitivity: 0.5738 - specificity: 0.3879 - dice_coefficient: 0.3388 - jaccard_index: 0.2102 - auc_1: 0.4784 - val_loss: 0.4084 - val_accuracy: 0.4441 - val_sensitivity: 0.8027 - val_specificity: 0.1847 - val_dice_coefficient: 0.4209 - val_jaccard_index: 0.2777 - val_auc_1: 0.4878\n",
            "Epoch 14/50\n",
            "8/8 [==============================] - 23s 3s/step - loss: 0.5625 - accuracy: 0.4111 - sensitivity: 0.6436 - specificity: 0.3217 - dice_coefficient: 0.3390 - jaccard_index: 0.2104 - auc_1: 0.4784 - val_loss: 0.4078 - val_accuracy: 0.4369 - val_sensitivity: 0.8637 - val_specificity: 0.1282 - val_dice_coefficient: 0.4212 - val_jaccard_index: 0.2780 - val_auc_1: 0.4899\n",
            "Epoch 15/50\n",
            "8/8 [==============================] - 23s 3s/step - loss: 0.5607 - accuracy: 0.3899 - sensitivity: 0.6990 - specificity: 0.2683 - dice_coefficient: 0.3393 - jaccard_index: 0.2106 - auc_1: 0.4830 - val_loss: 0.4072 - val_accuracy: 0.4310 - val_sensitivity: 0.9082 - val_specificity: 0.0857 - val_dice_coefficient: 0.4216 - val_jaccard_index: 0.2783 - val_auc_1: 0.4919\n",
            "Epoch 16/50\n",
            "8/8 [==============================] - 24s 3s/step - loss: 0.5600 - accuracy: 0.3668 - sensitivity: 0.7552 - specificity: 0.2151 - dice_coefficient: 0.3395 - jaccard_index: 0.2108 - auc_1: 0.4822 - val_loss: 0.4066 - val_accuracy: 0.4268 - val_sensitivity: 0.9410 - val_specificity: 0.0547 - val_dice_coefficient: 0.4219 - val_jaccard_index: 0.2786 - val_auc_1: 0.4930\n",
            "Epoch 17/50\n",
            "8/8 [==============================] - 22s 3s/step - loss: 0.5597 - accuracy: 0.3493 - sensitivity: 0.8022 - specificity: 0.1720 - dice_coefficient: 0.3397 - jaccard_index: 0.2109 - auc_1: 0.4842 - val_loss: 0.4061 - val_accuracy: 0.4240 - val_sensitivity: 0.9633 - val_specificity: 0.0337 - val_dice_coefficient: 0.4222 - val_jaccard_index: 0.2789 - val_auc_1: 0.4929\n",
            "Epoch 18/50\n",
            "8/8 [==============================] - 24s 3s/step - loss: 0.5594 - accuracy: 0.3337 - sensitivity: 0.8438 - specificity: 0.1342 - dice_coefficient: 0.3399 - jaccard_index: 0.2111 - auc_1: 0.4850 - val_loss: 0.4056 - val_accuracy: 0.4221 - val_sensitivity: 0.9777 - val_specificity: 0.0200 - val_dice_coefficient: 0.4225 - val_jaccard_index: 0.2792 - val_auc_1: 0.4929\n",
            "Epoch 19/50\n",
            "8/8 [==============================] - 22s 3s/step - loss: 0.5590 - accuracy: 0.3217 - sensitivity: 0.8779 - specificity: 0.1038 - dice_coefficient: 0.3401 - jaccard_index: 0.2113 - auc_1: 0.4860 - val_loss: 0.4050 - val_accuracy: 0.4210 - val_sensitivity: 0.9871 - val_specificity: 0.0113 - val_dice_coefficient: 0.4228 - val_jaccard_index: 0.2794 - val_auc_1: 0.4941\n",
            "Epoch 20/50\n",
            "8/8 [==============================] - 26s 3s/step - loss: 0.5599 - accuracy: 0.3119 - sensitivity: 0.9063 - specificity: 0.0789 - dice_coefficient: 0.3403 - jaccard_index: 0.2114 - auc_1: 0.4872 - val_loss: 0.4045 - val_accuracy: 0.4206 - val_sensitivity: 0.9927 - val_specificity: 0.0065 - val_dice_coefficient: 0.4231 - val_jaccard_index: 0.2797 - val_auc_1: 0.4951\n",
            "Epoch 21/50\n",
            "8/8 [==============================] - 21s 3s/step - loss: 0.5593 - accuracy: 0.3036 - sensitivity: 0.9290 - specificity: 0.0588 - dice_coefficient: 0.3405 - jaccard_index: 0.2116 - auc_1: 0.4874 - val_loss: 0.4040 - val_accuracy: 0.4202 - val_sensitivity: 0.9961 - val_specificity: 0.0033 - val_dice_coefficient: 0.4234 - val_jaccard_index: 0.2799 - val_auc_1: 0.4967\n",
            "Epoch 22/50\n",
            "8/8 [==============================] - 24s 3s/step - loss: 0.5585 - accuracy: 0.2977 - sensitivity: 0.9469 - specificity: 0.0434 - dice_coefficient: 0.3407 - jaccard_index: 0.2117 - auc_1: 0.4891 - val_loss: 0.4036 - val_accuracy: 0.4200 - val_sensitivity: 0.9979 - val_specificity: 0.0017 - val_dice_coefficient: 0.4236 - val_jaccard_index: 0.2802 - val_auc_1: 0.4992\n",
            "Epoch 23/50\n",
            "8/8 [==============================] - 22s 3s/step - loss: 0.5582 - accuracy: 0.2932 - sensitivity: 0.9602 - specificity: 0.0319 - dice_coefficient: 0.3409 - jaccard_index: 0.2119 - auc_1: 0.4906 - val_loss: 0.4031 - val_accuracy: 0.4199 - val_sensitivity: 0.9989 - val_specificity: 7.7991e-04 - val_dice_coefficient: 0.4239 - val_jaccard_index: 0.2804 - val_auc_1: 0.5006\n",
            "Epoch 24/50\n",
            "8/8 [==============================] - 38s 5s/step - loss: 0.5582 - accuracy: 0.2896 - sensitivity: 0.9712 - specificity: 0.0227 - dice_coefficient: 0.3410 - jaccard_index: 0.2120 - auc_1: 0.4905 - val_loss: 0.4026 - val_accuracy: 0.4199 - val_sensitivity: 0.9995 - val_specificity: 3.5739e-04 - val_dice_coefficient: 0.4242 - val_jaccard_index: 0.2807 - val_auc_1: 0.5019\n",
            "Epoch 25/50\n",
            "8/8 [==============================] - 22s 3s/step - loss: 0.5576 - accuracy: 0.2872 - sensitivity: 0.9792 - specificity: 0.0161 - dice_coefficient: 0.3412 - jaccard_index: 0.2122 - auc_1: 0.4917 - val_loss: 0.4022 - val_accuracy: 0.4199 - val_sensitivity: 0.9997 - val_specificity: 1.6756e-04 - val_dice_coefficient: 0.4244 - val_jaccard_index: 0.2809 - val_auc_1: 0.5027\n",
            "Epoch 26/50\n",
            "8/8 [==============================] - 23s 3s/step - loss: 0.5581 - accuracy: 0.2854 - sensitivity: 0.9850 - specificity: 0.0113 - dice_coefficient: 0.3414 - jaccard_index: 0.2123 - auc_1: 0.4932 - val_loss: 0.4017 - val_accuracy: 0.4199 - val_sensitivity: 0.9999 - val_specificity: 8.8003e-05 - val_dice_coefficient: 0.4247 - val_jaccard_index: 0.2812 - val_auc_1: 0.5040\n",
            "Epoch 27/50\n",
            "8/8 [==============================] - 23s 3s/step - loss: 0.5569 - accuracy: 0.2842 - sensitivity: 0.9895 - specificity: 0.0079 - dice_coefficient: 0.3416 - jaccard_index: 0.2124 - auc_1: 0.4933 - val_loss: 0.4012 - val_accuracy: 0.4199 - val_sensitivity: 0.9999 - val_specificity: 6.1486e-05 - val_dice_coefficient: 0.4250 - val_jaccard_index: 0.2814 - val_auc_1: 0.5042\n",
            "Epoch 28/50\n",
            "8/8 [==============================] - 22s 3s/step - loss: 0.5570 - accuracy: 0.2833 - sensitivity: 0.9927 - specificity: 0.0055 - dice_coefficient: 0.3417 - jaccard_index: 0.2126 - auc_1: 0.4945 - val_loss: 0.4008 - val_accuracy: 0.4199 - val_sensitivity: 1.0000 - val_specificity: 2.9534e-05 - val_dice_coefficient: 0.4252 - val_jaccard_index: 0.2816 - val_auc_1: 0.5047\n",
            "Epoch 29/50\n",
            "8/8 [==============================] - 23s 3s/step - loss: 0.5567 - accuracy: 0.2826 - sensitivity: 0.9951 - specificity: 0.0036 - dice_coefficient: 0.3419 - jaccard_index: 0.2127 - auc_1: 0.4942 - val_loss: 0.4003 - val_accuracy: 0.4199 - val_sensitivity: 1.0000 - val_specificity: 1.3259e-05 - val_dice_coefficient: 0.4255 - val_jaccard_index: 0.2819 - val_auc_1: 0.5052\n",
            "Epoch 30/50\n",
            "8/8 [==============================] - 22s 3s/step - loss: 0.5571 - accuracy: 0.2822 - sensitivity: 0.9965 - specificity: 0.0024 - dice_coefficient: 0.3421 - jaccard_index: 0.2128 - auc_1: 0.4948 - val_loss: 0.3998 - val_accuracy: 0.4199 - val_sensitivity: 1.0000 - val_specificity: 3.6136e-06 - val_dice_coefficient: 0.4257 - val_jaccard_index: 0.2821 - val_auc_1: 0.5066\n",
            "Epoch 31/50\n",
            "8/8 [==============================] - 23s 3s/step - loss: 0.5564 - accuracy: 0.2820 - sensitivity: 0.9978 - specificity: 0.0016 - dice_coefficient: 0.3422 - jaccard_index: 0.2130 - auc_1: 0.4963 - val_loss: 0.3994 - val_accuracy: 0.4199 - val_sensitivity: 1.0000 - val_specificity: 0.0000e+00 - val_dice_coefficient: 0.4260 - val_jaccard_index: 0.2824 - val_auc_1: 0.5080\n",
            "Epoch 32/50\n",
            "8/8 [==============================] - 22s 3s/step - loss: 0.5558 - accuracy: 0.2818 - sensitivity: 0.9984 - specificity: 0.0011 - dice_coefficient: 0.3424 - jaccard_index: 0.2131 - auc_1: 0.4968 - val_loss: 0.3989 - val_accuracy: 0.4199 - val_sensitivity: 1.0000 - val_specificity: 0.0000e+00 - val_dice_coefficient: 0.4262 - val_jaccard_index: 0.2826 - val_auc_1: 0.5094\n",
            "Epoch 33/50\n",
            "8/8 [==============================] - 23s 3s/step - loss: 0.5559 - accuracy: 0.2816 - sensitivity: 0.9988 - specificity: 7.3243e-04 - dice_coefficient: 0.3426 - jaccard_index: 0.2132 - auc_1: 0.4981 - val_loss: 0.3985 - val_accuracy: 0.4199 - val_sensitivity: 1.0000 - val_specificity: 0.0000e+00 - val_dice_coefficient: 0.4265 - val_jaccard_index: 0.2828 - val_auc_1: 0.5100\n",
            "Epoch 34/50\n",
            "8/8 [==============================] - 22s 3s/step - loss: 0.5557 - accuracy: 0.2816 - sensitivity: 0.9993 - specificity: 4.6104e-04 - dice_coefficient: 0.3427 - jaccard_index: 0.2134 - auc_1: 0.4986 - val_loss: 0.3980 - val_accuracy: 0.4199 - val_sensitivity: 1.0000 - val_specificity: 0.0000e+00 - val_dice_coefficient: 0.4268 - val_jaccard_index: 0.2831 - val_auc_1: 0.5116\n",
            "Epoch 35/50\n",
            "8/8 [==============================] - 23s 3s/step - loss: 0.5559 - accuracy: 0.2815 - sensitivity: 0.9996 - specificity: 3.0285e-04 - dice_coefficient: 0.3429 - jaccard_index: 0.2135 - auc_1: 0.4983 - val_loss: 0.3976 - val_accuracy: 0.4199 - val_sensitivity: 1.0000 - val_specificity: 0.0000e+00 - val_dice_coefficient: 0.4270 - val_jaccard_index: 0.2833 - val_auc_1: 0.5122\n",
            "Epoch 36/50\n",
            "8/8 [==============================] - 22s 3s/step - loss: 0.5550 - accuracy: 0.2815 - sensitivity: 0.9997 - specificity: 1.7258e-04 - dice_coefficient: 0.3431 - jaccard_index: 0.2136 - auc_1: 0.5000 - val_loss: 0.3971 - val_accuracy: 0.4199 - val_sensitivity: 1.0000 - val_specificity: 0.0000e+00 - val_dice_coefficient: 0.4273 - val_jaccard_index: 0.2835 - val_auc_1: 0.5125\n",
            "Epoch 37/50\n",
            "8/8 [==============================] - 24s 3s/step - loss: 0.5541 - accuracy: 0.2814 - sensitivity: 0.9998 - specificity: 1.0482e-04 - dice_coefficient: 0.3432 - jaccard_index: 0.2138 - auc_1: 0.4995 - val_loss: 0.3967 - val_accuracy: 0.4199 - val_sensitivity: 1.0000 - val_specificity: 0.0000e+00 - val_dice_coefficient: 0.4275 - val_jaccard_index: 0.2838 - val_auc_1: 0.5126\n",
            "Epoch 38/50\n",
            "8/8 [==============================] - 22s 3s/step - loss: 0.5542 - accuracy: 0.2814 - sensitivity: 0.9999 - specificity: 7.2406e-05 - dice_coefficient: 0.3434 - jaccard_index: 0.2139 - auc_1: 0.4994 - val_loss: 0.3963 - val_accuracy: 0.4199 - val_sensitivity: 1.0000 - val_specificity: 0.0000e+00 - val_dice_coefficient: 0.4277 - val_jaccard_index: 0.2840 - val_auc_1: 0.5133\n",
            "Epoch 39/50\n",
            "8/8 [==============================] - 24s 3s/step - loss: 0.5538 - accuracy: 0.2814 - sensitivity: 0.9999 - specificity: 4.7812e-05 - dice_coefficient: 0.3435 - jaccard_index: 0.2140 - auc_1: 0.5004 - val_loss: 0.3958 - val_accuracy: 0.4199 - val_sensitivity: 1.0000 - val_specificity: 0.0000e+00 - val_dice_coefficient: 0.4280 - val_jaccard_index: 0.2842 - val_auc_1: 0.5135\n",
            "Epoch 40/50\n",
            "8/8 [==============================] - 22s 3s/step - loss: 0.5543 - accuracy: 0.2814 - sensitivity: 0.9999 - specificity: 3.8054e-05 - dice_coefficient: 0.3437 - jaccard_index: 0.2142 - auc_1: 0.5004 - val_loss: 0.3954 - val_accuracy: 0.4199 - val_sensitivity: 1.0000 - val_specificity: 0.0000e+00 - val_dice_coefficient: 0.4282 - val_jaccard_index: 0.2844 - val_auc_1: 0.5149\n",
            "Epoch 41/50\n",
            "8/8 [==============================] - 23s 3s/step - loss: 0.5533 - accuracy: 0.2814 - sensitivity: 1.0000 - specificity: 1.5844e-05 - dice_coefficient: 0.3439 - jaccard_index: 0.2143 - auc_1: 0.5027 - val_loss: 0.3950 - val_accuracy: 0.4199 - val_sensitivity: 1.0000 - val_specificity: 0.0000e+00 - val_dice_coefficient: 0.4285 - val_jaccard_index: 0.2847 - val_auc_1: 0.5160\n",
            "Epoch 42/50\n",
            "8/8 [==============================] - 21s 3s/step - loss: 0.5530 - accuracy: 0.2814 - sensitivity: 1.0000 - specificity: 1.2514e-05 - dice_coefficient: 0.3440 - jaccard_index: 0.2144 - auc_1: 0.5027 - val_loss: 0.3946 - val_accuracy: 0.4199 - val_sensitivity: 1.0000 - val_specificity: 0.0000e+00 - val_dice_coefficient: 0.4287 - val_jaccard_index: 0.2849 - val_auc_1: 0.5171\n",
            "Epoch 43/50\n",
            "8/8 [==============================] - 24s 3s/step - loss: 0.5532 - accuracy: 0.2814 - sensitivity: 1.0000 - specificity: 5.2488e-06 - dice_coefficient: 0.3442 - jaccard_index: 0.2146 - auc_1: 0.5029 - val_loss: 0.3941 - val_accuracy: 0.4199 - val_sensitivity: 1.0000 - val_specificity: 0.0000e+00 - val_dice_coefficient: 0.4289 - val_jaccard_index: 0.2851 - val_auc_1: 0.5178\n",
            "Epoch 44/50\n",
            "8/8 [==============================] - 21s 3s/step - loss: 0.5527 - accuracy: 0.2814 - sensitivity: 1.0000 - specificity: 2.7976e-06 - dice_coefficient: 0.3443 - jaccard_index: 0.2147 - auc_1: 0.5043 - val_loss: 0.3937 - val_accuracy: 0.4199 - val_sensitivity: 1.0000 - val_specificity: 0.0000e+00 - val_dice_coefficient: 0.4292 - val_jaccard_index: 0.2853 - val_auc_1: 0.5179\n",
            "Epoch 45/50\n",
            "8/8 [==============================] - 24s 3s/step - loss: 0.5534 - accuracy: 0.2814 - sensitivity: 1.0000 - specificity: 1.3005e-06 - dice_coefficient: 0.3445 - jaccard_index: 0.2148 - auc_1: 0.5045 - val_loss: 0.3933 - val_accuracy: 0.4199 - val_sensitivity: 1.0000 - val_specificity: 0.0000e+00 - val_dice_coefficient: 0.4294 - val_jaccard_index: 0.2855 - val_auc_1: 0.5177\n",
            "Epoch 46/50\n",
            "8/8 [==============================] - 24s 3s/step - loss: 0.5524 - accuracy: 0.2814 - sensitivity: 1.0000 - specificity: 0.0000e+00 - dice_coefficient: 0.3447 - jaccard_index: 0.2149 - auc_1: 0.5055 - val_loss: 0.3929 - val_accuracy: 0.4199 - val_sensitivity: 1.0000 - val_specificity: 0.0000e+00 - val_dice_coefficient: 0.4296 - val_jaccard_index: 0.2857 - val_auc_1: 0.5183\n",
            "Epoch 47/50\n",
            "8/8 [==============================] - 24s 3s/step - loss: 0.5533 - accuracy: 0.2814 - sensitivity: 1.0000 - specificity: 1.9680e-06 - dice_coefficient: 0.3448 - jaccard_index: 0.2150 - auc_1: 0.5058 - val_loss: 0.3925 - val_accuracy: 0.4199 - val_sensitivity: 1.0000 - val_specificity: 0.0000e+00 - val_dice_coefficient: 0.4298 - val_jaccard_index: 0.2859 - val_auc_1: 0.5181\n",
            "Epoch 48/50\n",
            "8/8 [==============================] - 22s 3s/step - loss: 0.5526 - accuracy: 0.2814 - sensitivity: 1.0000 - specificity: 1.2916e-06 - dice_coefficient: 0.3450 - jaccard_index: 0.2152 - auc_1: 0.5063 - val_loss: 0.3921 - val_accuracy: 0.4199 - val_sensitivity: 1.0000 - val_specificity: 0.0000e+00 - val_dice_coefficient: 0.4301 - val_jaccard_index: 0.2861 - val_auc_1: 0.5181\n",
            "Epoch 49/50\n",
            "8/8 [==============================] - 24s 3s/step - loss: 0.5517 - accuracy: 0.2814 - sensitivity: 1.0000 - specificity: 0.0000e+00 - dice_coefficient: 0.3451 - jaccard_index: 0.2153 - auc_1: 0.5058 - val_loss: 0.3917 - val_accuracy: 0.4199 - val_sensitivity: 1.0000 - val_specificity: 0.0000e+00 - val_dice_coefficient: 0.4303 - val_jaccard_index: 0.2863 - val_auc_1: 0.5192\n",
            "Epoch 50/50\n",
            "8/8 [==============================] - 22s 3s/step - loss: 0.5512 - accuracy: 0.2814 - sensitivity: 1.0000 - specificity: 6.5594e-07 - dice_coefficient: 0.3453 - jaccard_index: 0.2154 - auc_1: 0.5065 - val_loss: 0.3914 - val_accuracy: 0.4199 - val_sensitivity: 1.0000 - val_specificity: 0.0000e+00 - val_dice_coefficient: 0.4305 - val_jaccard_index: 0.2865 - val_auc_1: 0.5209\n",
            "\n",
            "Scharr Operator\n",
            "2/2 [==============================] - 2s 288ms/step - loss: 0.4399 - accuracy: 0.3790 - sensitivity: 1.0000 - specificity: 0.0000e+00 - dice_coefficient: 0.4414 - jaccard_index: 0.2981 - auc_1: 0.5235\n",
            "Test Loss: 0.4398973882198334\n",
            "Test Accuracy: 0.3789505064487457\n",
            "Test Sensitivity: 1.0\n",
            "Test Specificity: 0.0\n",
            "Test Dice Coefficient: 0.4414459466934204\n",
            "Test Jaccard Index: 0.2980533838272095\n",
            "Test AUC: 0.5235421657562256\n"
          ]
        }
      ],
      "source": [
        "#################### Scharr Operator ####################\n",
        "#################### Scharr Operator ####################\n",
        "#################### Scharr Operator ####################\n",
        "model = tf.keras.Model(inputs=[inputs], outputs=[outputs])\n",
        "model.compile(optimizer='Adagrad', loss=shape_aware_loss,\n",
        "              metrics=['accuracy', sensitivity, specificity, dice_coefficient, jaccard_index, tf.keras.metrics.AUC()])\n",
        "\n",
        "callbacks = [tf.keras.callbacks.EarlyStopping(patience=3, monitor='val_loss'), tf.keras.callbacks.TensorBoard(log_dir='logs')]\n",
        "results = model.fit(X_TRAIN_EDGE, Y_TRAIN_TARGET, validation_split=0.2, batch_size=16, epochs=50, callbacks=callbacks)\n",
        "\n",
        "print('\\nScharr Operator')\n",
        "model_results(model, X_TEST_EDGE)"
      ]
    },
    {
      "cell_type": "markdown",
      "metadata": {
        "id": "zd245wN3j_vl"
      },
      "source": [
        "## Laplacian of Gaussian"
      ]
    },
    {
      "cell_type": "code",
      "execution_count": null,
      "metadata": {
        "id": "2yXEFatxkAHj"
      },
      "outputs": [],
      "source": [
        "def get_laplacian_of_gaussian(X):\n",
        "    X_log = np.empty_like(X)\n",
        "    for i in range(X.shape[0]):\n",
        "        for channel in range(X.shape[3]):\n",
        "            image = X[i, :, :, channel]\n",
        "            log_output = gaussian_laplace(image, sigma=1.4)\n",
        "            X_log[i, :, :, channel] = log_output\n",
        "\n",
        "    return X_log\n",
        "\n",
        "X_TRAIN_EDGE = get_laplacian_of_gaussian(X_train)\n",
        "X_TEST_EDGE = get_laplacian_of_gaussian(X_test)"
      ]
    },
    {
      "cell_type": "code",
      "execution_count": null,
      "metadata": {
        "colab": {
          "base_uri": "https://localhost:8080/"
        },
        "id": "75WtzWlTkTyH",
        "outputId": "2f989519-1d71-42b5-99c6-3e62a5f3c5e6"
      },
      "outputs": [
        {
          "name": "stdout",
          "output_type": "stream",
          "text": [
            "Epoch 1/50\n",
            "8/8 [==============================] - 27s 3s/step - loss: 0.6022 - accuracy: 0.5246 - sensitivity: 0.1654 - specificity: 0.6651 - dice_coefficient: 0.3125 - jaccard_index: 0.1902 - auc_2: 0.3481 - val_loss: 0.4591 - val_accuracy: 0.4566 - val_sensitivity: 0.1343 - val_specificity: 0.6967 - val_dice_coefficient: 0.3930 - val_jaccard_index: 0.2532 - val_auc_2: 0.3569\n",
            "Epoch 2/50\n",
            "8/8 [==============================] - 23s 3s/step - loss: 0.5946 - accuracy: 0.5004 - sensitivity: 0.2128 - specificity: 0.6129 - dice_coefficient: 0.3174 - jaccard_index: 0.1939 - auc_2: 0.3616 - val_loss: 0.4489 - val_accuracy: 0.4468 - val_sensitivity: 0.1881 - val_specificity: 0.6406 - val_dice_coefficient: 0.3988 - val_jaccard_index: 0.2582 - val_auc_2: 0.3689\n",
            "Epoch 3/50\n",
            "8/8 [==============================] - 23s 3s/step - loss: 0.5879 - accuracy: 0.4768 - sensitivity: 0.2661 - specificity: 0.5599 - dice_coefficient: 0.3216 - jaccard_index: 0.1971 - auc_2: 0.3747 - val_loss: 0.4400 - val_accuracy: 0.4392 - val_sensitivity: 0.2503 - val_specificity: 0.5822 - val_dice_coefficient: 0.4038 - val_jaccard_index: 0.2626 - val_auc_2: 0.3815\n",
            "Epoch 4/50\n",
            "8/8 [==============================] - 24s 3s/step - loss: 0.5832 - accuracy: 0.4552 - sensitivity: 0.3196 - specificity: 0.5087 - dice_coefficient: 0.3253 - jaccard_index: 0.1999 - auc_2: 0.3872 - val_loss: 0.4320 - val_accuracy: 0.4332 - val_sensitivity: 0.3177 - val_specificity: 0.5225 - val_dice_coefficient: 0.4083 - val_jaccard_index: 0.2665 - val_auc_2: 0.3948\n",
            "Epoch 5/50\n",
            "8/8 [==============================] - 22s 3s/step - loss: 0.5779 - accuracy: 0.4368 - sensitivity: 0.3713 - specificity: 0.4629 - dice_coefficient: 0.3285 - jaccard_index: 0.2024 - auc_2: 0.4002 - val_loss: 0.4247 - val_accuracy: 0.4289 - val_sensitivity: 0.3885 - val_specificity: 0.4632 - val_dice_coefficient: 0.4123 - val_jaccard_index: 0.2701 - val_auc_2: 0.4086\n",
            "Epoch 6/50\n",
            "8/8 [==============================] - 24s 3s/step - loss: 0.5753 - accuracy: 0.4192 - sensitivity: 0.4245 - specificity: 0.4184 - dice_coefficient: 0.3314 - jaccard_index: 0.2046 - auc_2: 0.4126 - val_loss: 0.4180 - val_accuracy: 0.4265 - val_sensitivity: 0.4608 - val_specificity: 0.4061 - val_dice_coefficient: 0.4160 - val_jaccard_index: 0.2734 - val_auc_2: 0.4228\n",
            "Epoch 7/50\n",
            "8/8 [==============================] - 22s 3s/step - loss: 0.5695 - accuracy: 0.4034 - sensitivity: 0.4742 - specificity: 0.3761 - dice_coefficient: 0.3341 - jaccard_index: 0.2067 - auc_2: 0.4252 - val_loss: 0.4118 - val_accuracy: 0.4251 - val_sensitivity: 0.5314 - val_specificity: 0.3519 - val_dice_coefficient: 0.4194 - val_jaccard_index: 0.2764 - val_auc_2: 0.4374\n",
            "Epoch 8/50\n",
            "8/8 [==============================] - 24s 3s/step - loss: 0.5661 - accuracy: 0.3895 - sensitivity: 0.5230 - specificity: 0.3379 - dice_coefficient: 0.3366 - jaccard_index: 0.2086 - auc_2: 0.4375 - val_loss: 0.4059 - val_accuracy: 0.4243 - val_sensitivity: 0.5981 - val_specificity: 0.3014 - val_dice_coefficient: 0.4226 - val_jaccard_index: 0.2794 - val_auc_2: 0.4522\n",
            "Epoch 9/50\n",
            "8/8 [==============================] - 22s 3s/step - loss: 0.5621 - accuracy: 0.3773 - sensitivity: 0.5698 - specificity: 0.3022 - dice_coefficient: 0.3389 - jaccard_index: 0.2105 - auc_2: 0.4497 - val_loss: 0.4003 - val_accuracy: 0.4242 - val_sensitivity: 0.6599 - val_specificity: 0.2559 - val_dice_coefficient: 0.4257 - val_jaccard_index: 0.2822 - val_auc_2: 0.4671\n",
            "Epoch 10/50\n",
            "8/8 [==============================] - 24s 3s/step - loss: 0.5584 - accuracy: 0.3654 - sensitivity: 0.6139 - specificity: 0.2684 - dice_coefficient: 0.3411 - jaccard_index: 0.2121 - auc_2: 0.4612 - val_loss: 0.3949 - val_accuracy: 0.4245 - val_sensitivity: 0.7165 - val_specificity: 0.2149 - val_dice_coefficient: 0.4286 - val_jaccard_index: 0.2849 - val_auc_2: 0.4820\n",
            "Epoch 11/50\n",
            "8/8 [==============================] - 22s 3s/step - loss: 0.5554 - accuracy: 0.3559 - sensitivity: 0.6558 - specificity: 0.2381 - dice_coefficient: 0.3432 - jaccard_index: 0.2138 - auc_2: 0.4738 - val_loss: 0.3896 - val_accuracy: 0.4249 - val_sensitivity: 0.7676 - val_specificity: 0.1781 - val_dice_coefficient: 0.4315 - val_jaccard_index: 0.2875 - val_auc_2: 0.4967\n",
            "Epoch 12/50\n",
            "8/8 [==============================] - 24s 3s/step - loss: 0.5516 - accuracy: 0.3471 - sensitivity: 0.6955 - specificity: 0.2109 - dice_coefficient: 0.3452 - jaccard_index: 0.2154 - auc_2: 0.4850 - val_loss: 0.3844 - val_accuracy: 0.4258 - val_sensitivity: 0.8128 - val_specificity: 0.1465 - val_dice_coefficient: 0.4343 - val_jaccard_index: 0.2901 - val_auc_2: 0.5112\n",
            "Epoch 13/50\n",
            "8/8 [==============================] - 22s 3s/step - loss: 0.5490 - accuracy: 0.3386 - sensitivity: 0.7295 - specificity: 0.1855 - dice_coefficient: 0.3472 - jaccard_index: 0.2170 - auc_2: 0.4964 - val_loss: 0.3793 - val_accuracy: 0.4263 - val_sensitivity: 0.8510 - val_specificity: 0.1194 - val_dice_coefficient: 0.4370 - val_jaccard_index: 0.2927 - val_auc_2: 0.5255\n",
            "Epoch 14/50\n",
            "8/8 [==============================] - 24s 3s/step - loss: 0.5459 - accuracy: 0.3307 - sensitivity: 0.7643 - specificity: 0.1608 - dice_coefficient: 0.3491 - jaccard_index: 0.2185 - auc_2: 0.5066 - val_loss: 0.3742 - val_accuracy: 0.4267 - val_sensitivity: 0.8836 - val_specificity: 0.0963 - val_dice_coefficient: 0.4398 - val_jaccard_index: 0.2952 - val_auc_2: 0.5395\n",
            "Epoch 15/50\n",
            "8/8 [==============================] - 22s 3s/step - loss: 0.5433 - accuracy: 0.3251 - sensitivity: 0.7938 - specificity: 0.1414 - dice_coefficient: 0.3510 - jaccard_index: 0.2201 - auc_2: 0.5188 - val_loss: 0.3691 - val_accuracy: 0.4268 - val_sensitivity: 0.9097 - val_specificity: 0.0773 - val_dice_coefficient: 0.4425 - val_jaccard_index: 0.2978 - val_auc_2: 0.5531\n",
            "Epoch 16/50\n",
            "8/8 [==============================] - 24s 3s/step - loss: 0.5393 - accuracy: 0.3190 - sensitivity: 0.8211 - specificity: 0.1224 - dice_coefficient: 0.3529 - jaccard_index: 0.2216 - auc_2: 0.5293 - val_loss: 0.3640 - val_accuracy: 0.4266 - val_sensitivity: 0.9312 - val_specificity: 0.0612 - val_dice_coefficient: 0.4453 - val_jaccard_index: 0.3004 - val_auc_2: 0.5662\n",
            "Epoch 17/50\n",
            "8/8 [==============================] - 23s 3s/step - loss: 0.5363 - accuracy: 0.3138 - sensitivity: 0.8470 - specificity: 0.1051 - dice_coefficient: 0.3549 - jaccard_index: 0.2232 - auc_2: 0.5400 - val_loss: 0.3587 - val_accuracy: 0.4261 - val_sensitivity: 0.9482 - val_specificity: 0.0480 - val_dice_coefficient: 0.4481 - val_jaccard_index: 0.3031 - val_auc_2: 0.5789\n",
            "Epoch 18/50\n",
            "8/8 [==============================] - 22s 3s/step - loss: 0.5331 - accuracy: 0.3095 - sensitivity: 0.8699 - specificity: 0.0901 - dice_coefficient: 0.3569 - jaccard_index: 0.2247 - auc_2: 0.5510 - val_loss: 0.3534 - val_accuracy: 0.4256 - val_sensitivity: 0.9614 - val_specificity: 0.0375 - val_dice_coefficient: 0.4509 - val_jaccard_index: 0.3058 - val_auc_2: 0.5910\n",
            "Epoch 19/50\n",
            "8/8 [==============================] - 24s 3s/step - loss: 0.5306 - accuracy: 0.3058 - sensitivity: 0.8898 - specificity: 0.0771 - dice_coefficient: 0.3588 - jaccard_index: 0.2263 - auc_2: 0.5614 - val_loss: 0.3480 - val_accuracy: 0.4248 - val_sensitivity: 0.9716 - val_specificity: 0.0289 - val_dice_coefficient: 0.4538 - val_jaccard_index: 0.3086 - val_auc_2: 0.6027\n",
            "Epoch 20/50\n",
            "8/8 [==============================] - 22s 3s/step - loss: 0.5278 - accuracy: 0.3019 - sensitivity: 0.9084 - specificity: 0.0650 - dice_coefficient: 0.3608 - jaccard_index: 0.2279 - auc_2: 0.5709 - val_loss: 0.3424 - val_accuracy: 0.4241 - val_sensitivity: 0.9792 - val_specificity: 0.0221 - val_dice_coefficient: 0.4567 - val_jaccard_index: 0.3114 - val_auc_2: 0.6136\n",
            "Epoch 21/50\n",
            "8/8 [==============================] - 24s 3s/step - loss: 0.5253 - accuracy: 0.2988 - sensitivity: 0.9232 - specificity: 0.0544 - dice_coefficient: 0.3629 - jaccard_index: 0.2296 - auc_2: 0.5823 - val_loss: 0.3367 - val_accuracy: 0.4232 - val_sensitivity: 0.9845 - val_specificity: 0.0168 - val_dice_coefficient: 0.4597 - val_jaccard_index: 0.3144 - val_auc_2: 0.6239\n",
            "Epoch 22/50\n",
            "8/8 [==============================] - 22s 3s/step - loss: 0.5203 - accuracy: 0.2961 - sensitivity: 0.9370 - specificity: 0.0454 - dice_coefficient: 0.3650 - jaccard_index: 0.2314 - auc_2: 0.5916 - val_loss: 0.3308 - val_accuracy: 0.4227 - val_sensitivity: 0.9889 - val_specificity: 0.0127 - val_dice_coefficient: 0.4628 - val_jaccard_index: 0.3174 - val_auc_2: 0.6335\n",
            "Epoch 23/50\n",
            "8/8 [==============================] - 25s 3s/step - loss: 0.5176 - accuracy: 0.2936 - sensitivity: 0.9489 - specificity: 0.0372 - dice_coefficient: 0.3671 - jaccard_index: 0.2331 - auc_2: 0.6016 - val_loss: 0.3248 - val_accuracy: 0.4221 - val_sensitivity: 0.9919 - val_specificity: 0.0095 - val_dice_coefficient: 0.4659 - val_jaccard_index: 0.3205 - val_auc_2: 0.6425\n",
            "Epoch 24/50\n",
            "8/8 [==============================] - 22s 3s/step - loss: 0.5142 - accuracy: 0.2918 - sensitivity: 0.9585 - specificity: 0.0307 - dice_coefficient: 0.3693 - jaccard_index: 0.2349 - auc_2: 0.6121 - val_loss: 0.3187 - val_accuracy: 0.4216 - val_sensitivity: 0.9943 - val_specificity: 0.0070 - val_dice_coefficient: 0.4691 - val_jaccard_index: 0.3237 - val_auc_2: 0.6507\n",
            "Epoch 25/50\n",
            "8/8 [==============================] - 24s 3s/step - loss: 0.5106 - accuracy: 0.2896 - sensitivity: 0.9668 - specificity: 0.0246 - dice_coefficient: 0.3716 - jaccard_index: 0.2368 - auc_2: 0.6206 - val_loss: 0.3124 - val_accuracy: 0.4212 - val_sensitivity: 0.9961 - val_specificity: 0.0051 - val_dice_coefficient: 0.4724 - val_jaccard_index: 0.3269 - val_auc_2: 0.6582\n",
            "Epoch 26/50\n",
            "8/8 [==============================] - 22s 3s/step - loss: 0.5058 - accuracy: 0.2883 - sensitivity: 0.9742 - specificity: 0.0197 - dice_coefficient: 0.3739 - jaccard_index: 0.2387 - auc_2: 0.6305 - val_loss: 0.3059 - val_accuracy: 0.4208 - val_sensitivity: 0.9973 - val_specificity: 0.0036 - val_dice_coefficient: 0.4757 - val_jaccard_index: 0.3303 - val_auc_2: 0.6652\n",
            "Epoch 27/50\n",
            "8/8 [==============================] - 24s 3s/step - loss: 0.5023 - accuracy: 0.2871 - sensitivity: 0.9791 - specificity: 0.0161 - dice_coefficient: 0.3762 - jaccard_index: 0.2407 - auc_2: 0.6399 - val_loss: 0.2994 - val_accuracy: 0.4206 - val_sensitivity: 0.9981 - val_specificity: 0.0026 - val_dice_coefficient: 0.4790 - val_jaccard_index: 0.3337 - val_auc_2: 0.6715\n",
            "Epoch 28/50\n",
            "8/8 [==============================] - 22s 3s/step - loss: 0.4994 - accuracy: 0.2860 - sensitivity: 0.9843 - specificity: 0.0126 - dice_coefficient: 0.3786 - jaccard_index: 0.2427 - auc_2: 0.6470 - val_loss: 0.2928 - val_accuracy: 0.4204 - val_sensitivity: 0.9988 - val_specificity: 0.0018 - val_dice_coefficient: 0.4824 - val_jaccard_index: 0.3372 - val_auc_2: 0.6773\n",
            "Epoch 29/50\n",
            "8/8 [==============================] - 24s 3s/step - loss: 0.4949 - accuracy: 0.2850 - sensitivity: 0.9880 - specificity: 0.0097 - dice_coefficient: 0.3811 - jaccard_index: 0.2448 - auc_2: 0.6556 - val_loss: 0.2860 - val_accuracy: 0.4203 - val_sensitivity: 0.9992 - val_specificity: 0.0012 - val_dice_coefficient: 0.4859 - val_jaccard_index: 0.3407 - val_auc_2: 0.6826\n",
            "Epoch 30/50\n",
            "8/8 [==============================] - 23s 3s/step - loss: 0.4905 - accuracy: 0.2843 - sensitivity: 0.9905 - specificity: 0.0078 - dice_coefficient: 0.3834 - jaccard_index: 0.2467 - auc_2: 0.6632 - val_loss: 0.2793 - val_accuracy: 0.4202 - val_sensitivity: 0.9995 - val_specificity: 8.8854e-04 - val_dice_coefficient: 0.4893 - val_jaccard_index: 0.3443 - val_auc_2: 0.6874\n",
            "Epoch 31/50\n",
            "8/8 [==============================] - 23s 3s/step - loss: 0.4871 - accuracy: 0.2838 - sensitivity: 0.9927 - specificity: 0.0061 - dice_coefficient: 0.3859 - jaccard_index: 0.2489 - auc_2: 0.6710 - val_loss: 0.2725 - val_accuracy: 0.4201 - val_sensitivity: 0.9997 - val_specificity: 6.1847e-04 - val_dice_coefficient: 0.4928 - val_jaccard_index: 0.3479 - val_auc_2: 0.6919\n",
            "Epoch 32/50\n",
            "8/8 [==============================] - 24s 3s/step - loss: 0.4823 - accuracy: 0.2832 - sensitivity: 0.9947 - specificity: 0.0046 - dice_coefficient: 0.3884 - jaccard_index: 0.2510 - auc_2: 0.6774 - val_loss: 0.2657 - val_accuracy: 0.4200 - val_sensitivity: 0.9998 - val_specificity: 3.9062e-04 - val_dice_coefficient: 0.4962 - val_jaccard_index: 0.3515 - val_auc_2: 0.6959\n",
            "Epoch 33/50\n",
            "8/8 [==============================] - 22s 3s/step - loss: 0.4793 - accuracy: 0.2829 - sensitivity: 0.9960 - specificity: 0.0036 - dice_coefficient: 0.3908 - jaccard_index: 0.2531 - auc_2: 0.6826 - val_loss: 0.2589 - val_accuracy: 0.4200 - val_sensitivity: 0.9998 - val_specificity: 2.6222e-04 - val_dice_coefficient: 0.4996 - val_jaccard_index: 0.3552 - val_auc_2: 0.6996\n",
            "Epoch 34/50\n",
            "8/8 [==============================] - 24s 3s/step - loss: 0.4755 - accuracy: 0.2826 - sensitivity: 0.9970 - specificity: 0.0028 - dice_coefficient: 0.3931 - jaccard_index: 0.2551 - auc_2: 0.6886 - val_loss: 0.2522 - val_accuracy: 0.4199 - val_sensitivity: 0.9999 - val_specificity: 1.8025e-04 - val_dice_coefficient: 0.5030 - val_jaccard_index: 0.3588 - val_auc_2: 0.7029\n",
            "Epoch 35/50\n",
            "8/8 [==============================] - 22s 3s/step - loss: 0.4707 - accuracy: 0.2823 - sensitivity: 0.9977 - specificity: 0.0022 - dice_coefficient: 0.3954 - jaccard_index: 0.2571 - auc_2: 0.6942 - val_loss: 0.2457 - val_accuracy: 0.4199 - val_sensitivity: 0.9999 - val_specificity: 1.2055e-04 - val_dice_coefficient: 0.5063 - val_jaccard_index: 0.3623 - val_auc_2: 0.7060\n",
            "Epoch 36/50\n",
            "8/8 [==============================] - 25s 3s/step - loss: 0.4674 - accuracy: 0.2821 - sensitivity: 0.9983 - specificity: 0.0017 - dice_coefficient: 0.3978 - jaccard_index: 0.2591 - auc_2: 0.6996 - val_loss: 0.2392 - val_accuracy: 0.4199 - val_sensitivity: 0.9999 - val_specificity: 8.0179e-05 - val_dice_coefficient: 0.5095 - val_jaccard_index: 0.3658 - val_auc_2: 0.7088\n",
            "Epoch 37/50\n",
            "8/8 [==============================] - 22s 3s/step - loss: 0.4633 - accuracy: 0.2819 - sensitivity: 0.9987 - specificity: 0.0012 - dice_coefficient: 0.4001 - jaccard_index: 0.2611 - auc_2: 0.7041 - val_loss: 0.2330 - val_accuracy: 0.4199 - val_sensitivity: 1.0000 - val_specificity: 5.0645e-05 - val_dice_coefficient: 0.5126 - val_jaccard_index: 0.3692 - val_auc_2: 0.7115\n",
            "Epoch 38/50\n",
            "8/8 [==============================] - 24s 3s/step - loss: 0.4600 - accuracy: 0.2819 - sensitivity: 0.9990 - specificity: 0.0010 - dice_coefficient: 0.4022 - jaccard_index: 0.2630 - auc_2: 0.7079 - val_loss: 0.2269 - val_accuracy: 0.4199 - val_sensitivity: 1.0000 - val_specificity: 3.5565e-05 - val_dice_coefficient: 0.5156 - val_jaccard_index: 0.3725 - val_auc_2: 0.7138\n",
            "Epoch 39/50\n",
            "8/8 [==============================] - 22s 3s/step - loss: 0.4568 - accuracy: 0.2818 - sensitivity: 0.9993 - specificity: 7.8211e-04 - dice_coefficient: 0.4043 - jaccard_index: 0.2648 - auc_2: 0.7120 - val_loss: 0.2211 - val_accuracy: 0.4199 - val_sensitivity: 1.0000 - val_specificity: 1.9291e-05 - val_dice_coefficient: 0.5185 - val_jaccard_index: 0.3758 - val_auc_2: 0.7161\n",
            "Epoch 40/50\n",
            "8/8 [==============================] - 24s 3s/step - loss: 0.4527 - accuracy: 0.2817 - sensitivity: 0.9994 - specificity: 5.9058e-04 - dice_coefficient: 0.4065 - jaccard_index: 0.2668 - auc_2: 0.7162 - val_loss: 0.2155 - val_accuracy: 0.4199 - val_sensitivity: 1.0000 - val_specificity: 1.6275e-05 - val_dice_coefficient: 0.5213 - val_jaccard_index: 0.3789 - val_auc_2: 0.7181\n",
            "Epoch 41/50\n",
            "8/8 [==============================] - 22s 3s/step - loss: 0.4511 - accuracy: 0.2816 - sensitivity: 0.9996 - specificity: 4.7915e-04 - dice_coefficient: 0.4083 - jaccard_index: 0.2684 - auc_2: 0.7192 - val_loss: 0.2101 - val_accuracy: 0.4199 - val_sensitivity: 1.0000 - val_specificity: 1.2661e-05 - val_dice_coefficient: 0.5239 - val_jaccard_index: 0.3819 - val_auc_2: 0.7200\n",
            "Epoch 42/50\n",
            "8/8 [==============================] - 24s 3s/step - loss: 0.4476 - accuracy: 0.2816 - sensitivity: 0.9997 - specificity: 3.5807e-04 - dice_coefficient: 0.4101 - jaccard_index: 0.2701 - auc_2: 0.7223 - val_loss: 0.2050 - val_accuracy: 0.4199 - val_sensitivity: 1.0000 - val_specificity: 9.6453e-06 - val_dice_coefficient: 0.5265 - val_jaccard_index: 0.3847 - val_auc_2: 0.7218\n",
            "Epoch 43/50\n",
            "8/8 [==============================] - 22s 3s/step - loss: 0.4444 - accuracy: 0.2816 - sensitivity: 0.9997 - specificity: 2.9082e-04 - dice_coefficient: 0.4119 - jaccard_index: 0.2717 - auc_2: 0.7252 - val_loss: 0.2001 - val_accuracy: 0.4199 - val_sensitivity: 1.0000 - val_specificity: 3.6136e-06 - val_dice_coefficient: 0.5288 - val_jaccard_index: 0.3874 - val_auc_2: 0.7235\n",
            "Epoch 44/50\n",
            "8/8 [==============================] - 24s 3s/step - loss: 0.4416 - accuracy: 0.2815 - sensitivity: 0.9998 - specificity: 2.3498e-04 - dice_coefficient: 0.4136 - jaccard_index: 0.2732 - auc_2: 0.7279 - val_loss: 0.1956 - val_accuracy: 0.4199 - val_sensitivity: 1.0000 - val_specificity: 3.6136e-06 - val_dice_coefficient: 0.5311 - val_jaccard_index: 0.3900 - val_auc_2: 0.7250\n",
            "Epoch 45/50\n",
            "8/8 [==============================] - 21s 3s/step - loss: 0.4394 - accuracy: 0.2815 - sensitivity: 0.9999 - specificity: 1.8145e-04 - dice_coefficient: 0.4152 - jaccard_index: 0.2746 - auc_2: 0.7297 - val_loss: 0.1913 - val_accuracy: 0.4199 - val_sensitivity: 1.0000 - val_specificity: 3.6136e-06 - val_dice_coefficient: 0.5332 - val_jaccard_index: 0.3924 - val_auc_2: 0.7265\n",
            "Epoch 46/50\n",
            "8/8 [==============================] - 24s 3s/step - loss: 0.4361 - accuracy: 0.2815 - sensitivity: 0.9999 - specificity: 1.5034e-04 - dice_coefficient: 0.4167 - jaccard_index: 0.2760 - auc_2: 0.7325 - val_loss: 0.1872 - val_accuracy: 0.4199 - val_sensitivity: 1.0000 - val_specificity: 0.0000e+00 - val_dice_coefficient: 0.5352 - val_jaccard_index: 0.3947 - val_auc_2: 0.7278\n",
            "Epoch 47/50\n",
            "8/8 [==============================] - 22s 3s/step - loss: 0.4339 - accuracy: 0.2815 - sensitivity: 0.9999 - specificity: 1.4093e-04 - dice_coefficient: 0.4180 - jaccard_index: 0.2772 - auc_2: 0.7343 - val_loss: 0.1835 - val_accuracy: 0.4199 - val_sensitivity: 1.0000 - val_specificity: 0.0000e+00 - val_dice_coefficient: 0.5370 - val_jaccard_index: 0.3969 - val_auc_2: 0.7291\n",
            "Epoch 48/50\n",
            "8/8 [==============================] - 23s 3s/step - loss: 0.4316 - accuracy: 0.2815 - sensitivity: 0.9999 - specificity: 1.1440e-04 - dice_coefficient: 0.4194 - jaccard_index: 0.2785 - auc_2: 0.7370 - val_loss: 0.1800 - val_accuracy: 0.4199 - val_sensitivity: 1.0000 - val_specificity: 0.0000e+00 - val_dice_coefficient: 0.5388 - val_jaccard_index: 0.3989 - val_auc_2: 0.7303\n",
            "Epoch 49/50\n",
            "8/8 [==============================] - 22s 3s/step - loss: 0.4297 - accuracy: 0.2815 - sensitivity: 1.0000 - specificity: 9.6757e-05 - dice_coefficient: 0.4205 - jaccard_index: 0.2795 - auc_2: 0.7390 - val_loss: 0.1767 - val_accuracy: 0.4199 - val_sensitivity: 1.0000 - val_specificity: 0.0000e+00 - val_dice_coefficient: 0.5404 - val_jaccard_index: 0.4008 - val_auc_2: 0.7315\n",
            "Epoch 50/50\n",
            "8/8 [==============================] - 23s 3s/step - loss: 0.4278 - accuracy: 0.2815 - sensitivity: 1.0000 - specificity: 7.3857e-05 - dice_coefficient: 0.4217 - jaccard_index: 0.2806 - auc_2: 0.7401 - val_loss: 0.1736 - val_accuracy: 0.4199 - val_sensitivity: 1.0000 - val_specificity: 0.0000e+00 - val_dice_coefficient: 0.5419 - val_jaccard_index: 0.4026 - val_auc_2: 0.7326\n",
            "\n",
            "Laplacian of Gaussian\n",
            "2/2 [==============================] - 3s 555ms/step - loss: 0.2631 - accuracy: 0.3790 - sensitivity: 1.0000 - specificity: 0.0000e+00 - dice_coefficient: 0.5479 - jaccard_index: 0.4092 - auc_2: 0.7198\n",
            "Test Loss: 0.2630590796470642\n",
            "Test Accuracy: 0.3789505064487457\n",
            "Test Sensitivity: 1.0\n",
            "Test Specificity: 0.0\n",
            "Test Dice Coefficient: 0.5479283928871155\n",
            "Test Jaccard Index: 0.40917277336120605\n",
            "Test AUC: 0.7197567820549011\n"
          ]
        }
      ],
      "source": [
        "#################### Laplacian of Gaussian ####################\n",
        "#################### Laplacian of Gaussian ####################\n",
        "#################### Laplacian of Gaussian ####################\n",
        "model = tf.keras.Model(inputs=[inputs], outputs=[outputs])\n",
        "model.compile(optimizer='Adagrad', loss=shape_aware_loss,\n",
        "              metrics=['accuracy', sensitivity, specificity, dice_coefficient, jaccard_index, tf.keras.metrics.AUC()])\n",
        "\n",
        "callbacks = [tf.keras.callbacks.EarlyStopping(patience=3, monitor='val_loss'), tf.keras.callbacks.TensorBoard(log_dir='logs')]\n",
        "results = model.fit(X_TRAIN_EDGE, Y_TRAIN_TARGET, validation_split=0.2, batch_size=16, epochs=50, callbacks=callbacks)\n",
        "\n",
        "print('\\nLaplacian of Gaussian')\n",
        "model_results(model, X_TEST_EDGE)"
      ]
    },
    {
      "cell_type": "markdown",
      "metadata": {
        "id": "lBdZWjEknbzS"
      },
      "source": [
        "## Canny Edge Detector"
      ]
    },
    {
      "cell_type": "code",
      "execution_count": null,
      "metadata": {
        "id": "RsEtbud1ne-x"
      },
      "outputs": [],
      "source": [
        "def get_canny(X):\n",
        "    X_canny = np.empty_like(X)\n",
        "\n",
        "    for i in range(X.shape[0]):\n",
        "        for channel in range(X.shape[3]):\n",
        "            image = X[i, :, :, channel]\n",
        "            edges = canny(image, sigma=1.0)\n",
        "            X_canny[i, :, :, channel] = edges\n",
        "\n",
        "    return X_canny\n",
        "\n",
        "X_TRAIN_EDGE = get_canny(X_train)\n",
        "X_TEST_EDGE = get_canny(X_test)"
      ]
    },
    {
      "cell_type": "code",
      "execution_count": null,
      "metadata": {
        "colab": {
          "base_uri": "https://localhost:8080/"
        },
        "id": "hNSPEJiBnfK2",
        "outputId": "cb62208b-52e8-4caa-c0f3-464565078a36"
      },
      "outputs": [
        {
          "name": "stdout",
          "output_type": "stream",
          "text": [
            "Epoch 1/50\n",
            "8/8 [==============================] - 25s 3s/step - loss: 0.5346 - accuracy: 0.2814 - sensitivity: 1.0000 - specificity: 0.0000e+00 - dice_coefficient: 0.3565 - jaccard_index: 0.2246 - auc_3: 0.5539 - val_loss: 0.3600 - val_accuracy: 0.4199 - val_sensitivity: 1.0000 - val_specificity: 0.0000e+00 - val_dice_coefficient: 0.4479 - val_jaccard_index: 0.3031 - val_auc_3: 0.5421\n",
            "Epoch 2/50\n",
            "8/8 [==============================] - 24s 3s/step - loss: 0.5336 - accuracy: 0.2814 - sensitivity: 1.0000 - specificity: 0.0000e+00 - dice_coefficient: 0.3574 - jaccard_index: 0.2254 - auc_3: 0.5571 - val_loss: 0.3576 - val_accuracy: 0.4199 - val_sensitivity: 1.0000 - val_specificity: 0.0000e+00 - val_dice_coefficient: 0.4492 - val_jaccard_index: 0.3043 - val_auc_3: 0.5819\n",
            "Epoch 3/50\n",
            "8/8 [==============================] - 23s 3s/step - loss: 0.5324 - accuracy: 0.2814 - sensitivity: 1.0000 - specificity: 0.0000e+00 - dice_coefficient: 0.3583 - jaccard_index: 0.2261 - auc_3: 0.5577 - val_loss: 0.3554 - val_accuracy: 0.4199 - val_sensitivity: 1.0000 - val_specificity: 0.0000e+00 - val_dice_coefficient: 0.4505 - val_jaccard_index: 0.3056 - val_auc_3: 0.5849\n",
            "Epoch 4/50\n",
            "8/8 [==============================] - 23s 3s/step - loss: 0.5312 - accuracy: 0.2814 - sensitivity: 1.0000 - specificity: 0.0000e+00 - dice_coefficient: 0.3590 - jaccard_index: 0.2267 - auc_3: 0.5492 - val_loss: 0.3532 - val_accuracy: 0.4199 - val_sensitivity: 1.0000 - val_specificity: 0.0000e+00 - val_dice_coefficient: 0.4517 - val_jaccard_index: 0.3067 - val_auc_3: 0.5630\n",
            "Epoch 5/50\n",
            "8/8 [==============================] - 24s 3s/step - loss: 0.5313 - accuracy: 0.2814 - sensitivity: 1.0000 - specificity: 0.0000e+00 - dice_coefficient: 0.3598 - jaccard_index: 0.2273 - auc_3: 0.5557 - val_loss: 0.3511 - val_accuracy: 0.4199 - val_sensitivity: 1.0000 - val_specificity: 0.0000e+00 - val_dice_coefficient: 0.4528 - val_jaccard_index: 0.3078 - val_auc_3: 0.5822\n",
            "Epoch 6/50\n",
            "8/8 [==============================] - 22s 3s/step - loss: 0.5291 - accuracy: 0.2814 - sensitivity: 1.0000 - specificity: 0.0000e+00 - dice_coefficient: 0.3605 - jaccard_index: 0.2279 - auc_3: 0.5520 - val_loss: 0.3491 - val_accuracy: 0.4199 - val_sensitivity: 1.0000 - val_specificity: 0.0000e+00 - val_dice_coefficient: 0.4539 - val_jaccard_index: 0.3089 - val_auc_3: 0.5947\n",
            "Epoch 7/50\n",
            "8/8 [==============================] - 23s 3s/step - loss: 0.5274 - accuracy: 0.2814 - sensitivity: 1.0000 - specificity: 0.0000e+00 - dice_coefficient: 0.3612 - jaccard_index: 0.2285 - auc_3: 0.5540 - val_loss: 0.3472 - val_accuracy: 0.4199 - val_sensitivity: 1.0000 - val_specificity: 0.0000e+00 - val_dice_coefficient: 0.4550 - val_jaccard_index: 0.3099 - val_auc_3: 0.5597\n",
            "Epoch 8/50\n",
            "8/8 [==============================] - 22s 3s/step - loss: 0.5266 - accuracy: 0.2814 - sensitivity: 1.0000 - specificity: 0.0000e+00 - dice_coefficient: 0.3618 - jaccard_index: 0.2290 - auc_3: 0.5505 - val_loss: 0.3453 - val_accuracy: 0.4199 - val_sensitivity: 1.0000 - val_specificity: 0.0000e+00 - val_dice_coefficient: 0.4560 - val_jaccard_index: 0.3110 - val_auc_3: 0.5680\n",
            "Epoch 9/50\n",
            "8/8 [==============================] - 23s 3s/step - loss: 0.5254 - accuracy: 0.2814 - sensitivity: 1.0000 - specificity: 0.0000e+00 - dice_coefficient: 0.3625 - jaccard_index: 0.2296 - auc_3: 0.5516 - val_loss: 0.3435 - val_accuracy: 0.4199 - val_sensitivity: 1.0000 - val_specificity: 0.0000e+00 - val_dice_coefficient: 0.4570 - val_jaccard_index: 0.3119 - val_auc_3: 0.6110\n",
            "Epoch 10/50\n",
            "8/8 [==============================] - 22s 3s/step - loss: 0.5243 - accuracy: 0.2814 - sensitivity: 1.0000 - specificity: 0.0000e+00 - dice_coefficient: 0.3631 - jaccard_index: 0.2301 - auc_3: 0.5559 - val_loss: 0.3417 - val_accuracy: 0.4199 - val_sensitivity: 1.0000 - val_specificity: 0.0000e+00 - val_dice_coefficient: 0.4580 - val_jaccard_index: 0.3129 - val_auc_3: 0.5760\n",
            "Epoch 11/50\n",
            "8/8 [==============================] - 24s 3s/step - loss: 0.5238 - accuracy: 0.2814 - sensitivity: 1.0000 - specificity: 0.0000e+00 - dice_coefficient: 0.3637 - jaccard_index: 0.2306 - auc_3: 0.5559 - val_loss: 0.3400 - val_accuracy: 0.4199 - val_sensitivity: 1.0000 - val_specificity: 0.0000e+00 - val_dice_coefficient: 0.4589 - val_jaccard_index: 0.3138 - val_auc_3: 0.6112\n",
            "Epoch 12/50\n",
            "8/8 [==============================] - 22s 3s/step - loss: 0.5230 - accuracy: 0.2814 - sensitivity: 1.0000 - specificity: 0.0000e+00 - dice_coefficient: 0.3643 - jaccard_index: 0.2311 - auc_3: 0.5545 - val_loss: 0.3383 - val_accuracy: 0.4199 - val_sensitivity: 1.0000 - val_specificity: 0.0000e+00 - val_dice_coefficient: 0.4598 - val_jaccard_index: 0.3148 - val_auc_3: 0.5841\n",
            "Epoch 13/50\n",
            "8/8 [==============================] - 23s 3s/step - loss: 0.5220 - accuracy: 0.2814 - sensitivity: 1.0000 - specificity: 0.0000e+00 - dice_coefficient: 0.3649 - jaccard_index: 0.2316 - auc_3: 0.5529 - val_loss: 0.3366 - val_accuracy: 0.4199 - val_sensitivity: 1.0000 - val_specificity: 0.0000e+00 - val_dice_coefficient: 0.4608 - val_jaccard_index: 0.3157 - val_auc_3: 0.5793\n",
            "Epoch 14/50\n",
            "8/8 [==============================] - 22s 3s/step - loss: 0.5218 - accuracy: 0.2814 - sensitivity: 1.0000 - specificity: 0.0000e+00 - dice_coefficient: 0.3654 - jaccard_index: 0.2320 - auc_3: 0.5527 - val_loss: 0.3350 - val_accuracy: 0.4199 - val_sensitivity: 1.0000 - val_specificity: 0.0000e+00 - val_dice_coefficient: 0.4616 - val_jaccard_index: 0.3165 - val_auc_3: 0.5946\n",
            "Epoch 15/50\n",
            "8/8 [==============================] - 24s 3s/step - loss: 0.5210 - accuracy: 0.2814 - sensitivity: 1.0000 - specificity: 0.0000e+00 - dice_coefficient: 0.3660 - jaccard_index: 0.2325 - auc_3: 0.5517 - val_loss: 0.3334 - val_accuracy: 0.4199 - val_sensitivity: 1.0000 - val_specificity: 0.0000e+00 - val_dice_coefficient: 0.4625 - val_jaccard_index: 0.3174 - val_auc_3: 0.5666\n",
            "Epoch 16/50\n",
            "8/8 [==============================] - 21s 3s/step - loss: 0.5197 - accuracy: 0.2814 - sensitivity: 1.0000 - specificity: 0.0000e+00 - dice_coefficient: 0.3665 - jaccard_index: 0.2330 - auc_3: 0.5553 - val_loss: 0.3318 - val_accuracy: 0.4199 - val_sensitivity: 1.0000 - val_specificity: 0.0000e+00 - val_dice_coefficient: 0.4634 - val_jaccard_index: 0.3183 - val_auc_3: 0.6097\n",
            "Epoch 17/50\n",
            "8/8 [==============================] - 24s 3s/step - loss: 0.5192 - accuracy: 0.2814 - sensitivity: 1.0000 - specificity: 0.0000e+00 - dice_coefficient: 0.3670 - jaccard_index: 0.2334 - auc_3: 0.5534 - val_loss: 0.3303 - val_accuracy: 0.4199 - val_sensitivity: 1.0000 - val_specificity: 0.0000e+00 - val_dice_coefficient: 0.4642 - val_jaccard_index: 0.3191 - val_auc_3: 0.5641\n",
            "Epoch 18/50\n",
            "8/8 [==============================] - 22s 3s/step - loss: 0.5178 - accuracy: 0.2814 - sensitivity: 1.0000 - specificity: 0.0000e+00 - dice_coefficient: 0.3676 - jaccard_index: 0.2338 - auc_3: 0.5539 - val_loss: 0.3287 - val_accuracy: 0.4199 - val_sensitivity: 1.0000 - val_specificity: 0.0000e+00 - val_dice_coefficient: 0.4650 - val_jaccard_index: 0.3199 - val_auc_3: 0.6192\n",
            "Epoch 19/50\n",
            "8/8 [==============================] - 24s 3s/step - loss: 0.5167 - accuracy: 0.2814 - sensitivity: 1.0000 - specificity: 0.0000e+00 - dice_coefficient: 0.3681 - jaccard_index: 0.2343 - auc_3: 0.5535 - val_loss: 0.3272 - val_accuracy: 0.4199 - val_sensitivity: 1.0000 - val_specificity: 0.0000e+00 - val_dice_coefficient: 0.4658 - val_jaccard_index: 0.3208 - val_auc_3: 0.5634\n",
            "Epoch 20/50\n",
            "8/8 [==============================] - 22s 3s/step - loss: 0.5158 - accuracy: 0.2814 - sensitivity: 1.0000 - specificity: 0.0000e+00 - dice_coefficient: 0.3686 - jaccard_index: 0.2347 - auc_3: 0.5513 - val_loss: 0.3257 - val_accuracy: 0.4199 - val_sensitivity: 1.0000 - val_specificity: 0.0000e+00 - val_dice_coefficient: 0.4667 - val_jaccard_index: 0.3216 - val_auc_3: 0.6218\n",
            "Epoch 21/50\n",
            "8/8 [==============================] - 24s 3s/step - loss: 0.5157 - accuracy: 0.2814 - sensitivity: 1.0000 - specificity: 0.0000e+00 - dice_coefficient: 0.3691 - jaccard_index: 0.2352 - auc_3: 0.5528 - val_loss: 0.3242 - val_accuracy: 0.4199 - val_sensitivity: 1.0000 - val_specificity: 0.0000e+00 - val_dice_coefficient: 0.4675 - val_jaccard_index: 0.3224 - val_auc_3: 0.5633\n",
            "Epoch 22/50\n",
            "8/8 [==============================] - 22s 3s/step - loss: 0.5149 - accuracy: 0.2814 - sensitivity: 1.0000 - specificity: 0.0000e+00 - dice_coefficient: 0.3696 - jaccard_index: 0.2356 - auc_3: 0.5550 - val_loss: 0.3227 - val_accuracy: 0.4199 - val_sensitivity: 1.0000 - val_specificity: 0.0000e+00 - val_dice_coefficient: 0.4683 - val_jaccard_index: 0.3232 - val_auc_3: 0.6216\n",
            "Epoch 23/50\n",
            "8/8 [==============================] - 24s 3s/step - loss: 0.5136 - accuracy: 0.2814 - sensitivity: 1.0000 - specificity: 0.0000e+00 - dice_coefficient: 0.3701 - jaccard_index: 0.2360 - auc_3: 0.5547 - val_loss: 0.3213 - val_accuracy: 0.4199 - val_sensitivity: 1.0000 - val_specificity: 0.0000e+00 - val_dice_coefficient: 0.4691 - val_jaccard_index: 0.3240 - val_auc_3: 0.5632\n",
            "Epoch 24/50\n",
            "8/8 [==============================] - 22s 3s/step - loss: 0.5134 - accuracy: 0.2814 - sensitivity: 1.0000 - specificity: 0.0000e+00 - dice_coefficient: 0.3706 - jaccard_index: 0.2365 - auc_3: 0.5552 - val_loss: 0.3198 - val_accuracy: 0.4199 - val_sensitivity: 1.0000 - val_specificity: 0.0000e+00 - val_dice_coefficient: 0.4699 - val_jaccard_index: 0.3248 - val_auc_3: 0.6201\n",
            "Epoch 25/50\n",
            "8/8 [==============================] - 24s 3s/step - loss: 0.5140 - accuracy: 0.2814 - sensitivity: 1.0000 - specificity: 0.0000e+00 - dice_coefficient: 0.3711 - jaccard_index: 0.2369 - auc_3: 0.5568 - val_loss: 0.3183 - val_accuracy: 0.4199 - val_sensitivity: 1.0000 - val_specificity: 0.0000e+00 - val_dice_coefficient: 0.4707 - val_jaccard_index: 0.3257 - val_auc_3: 0.5632\n",
            "Epoch 26/50\n",
            "8/8 [==============================] - 22s 3s/step - loss: 0.5115 - accuracy: 0.2814 - sensitivity: 1.0000 - specificity: 0.0000e+00 - dice_coefficient: 0.3717 - jaccard_index: 0.2373 - auc_3: 0.5568 - val_loss: 0.3168 - val_accuracy: 0.4199 - val_sensitivity: 1.0000 - val_specificity: 0.0000e+00 - val_dice_coefficient: 0.4715 - val_jaccard_index: 0.3265 - val_auc_3: 0.6187\n",
            "Epoch 27/50\n",
            "8/8 [==============================] - 24s 3s/step - loss: 0.5109 - accuracy: 0.2814 - sensitivity: 1.0000 - specificity: 0.0000e+00 - dice_coefficient: 0.3722 - jaccard_index: 0.2378 - auc_3: 0.5572 - val_loss: 0.3154 - val_accuracy: 0.4199 - val_sensitivity: 1.0000 - val_specificity: 0.0000e+00 - val_dice_coefficient: 0.4723 - val_jaccard_index: 0.3273 - val_auc_3: 0.5644\n",
            "Epoch 28/50\n",
            "8/8 [==============================] - 22s 3s/step - loss: 0.5106 - accuracy: 0.2814 - sensitivity: 1.0000 - specificity: 0.0000e+00 - dice_coefficient: 0.3726 - jaccard_index: 0.2382 - auc_3: 0.5547 - val_loss: 0.3139 - val_accuracy: 0.4199 - val_sensitivity: 1.0000 - val_specificity: 0.0000e+00 - val_dice_coefficient: 0.4730 - val_jaccard_index: 0.3281 - val_auc_3: 0.6155\n",
            "Epoch 29/50\n",
            "8/8 [==============================] - 24s 3s/step - loss: 0.5102 - accuracy: 0.2814 - sensitivity: 1.0000 - specificity: 0.0000e+00 - dice_coefficient: 0.3732 - jaccard_index: 0.2386 - auc_3: 0.5542 - val_loss: 0.3125 - val_accuracy: 0.4199 - val_sensitivity: 1.0000 - val_specificity: 0.0000e+00 - val_dice_coefficient: 0.4738 - val_jaccard_index: 0.3289 - val_auc_3: 0.5664\n",
            "Epoch 30/50\n",
            "8/8 [==============================] - 22s 3s/step - loss: 0.5083 - accuracy: 0.2814 - sensitivity: 1.0000 - specificity: 0.0000e+00 - dice_coefficient: 0.3737 - jaccard_index: 0.2390 - auc_3: 0.5547 - val_loss: 0.3110 - val_accuracy: 0.4199 - val_sensitivity: 1.0000 - val_specificity: 0.0000e+00 - val_dice_coefficient: 0.4746 - val_jaccard_index: 0.3297 - val_auc_3: 0.6125\n",
            "Epoch 31/50\n",
            "8/8 [==============================] - 24s 3s/step - loss: 0.5081 - accuracy: 0.2814 - sensitivity: 1.0000 - specificity: 0.0000e+00 - dice_coefficient: 0.3741 - jaccard_index: 0.2395 - auc_3: 0.5572 - val_loss: 0.3095 - val_accuracy: 0.4199 - val_sensitivity: 1.0000 - val_specificity: 0.0000e+00 - val_dice_coefficient: 0.4754 - val_jaccard_index: 0.3305 - val_auc_3: 0.5697\n",
            "Epoch 32/50\n",
            "8/8 [==============================] - 22s 3s/step - loss: 0.5070 - accuracy: 0.2814 - sensitivity: 1.0000 - specificity: 0.0000e+00 - dice_coefficient: 0.3746 - jaccard_index: 0.2399 - auc_3: 0.5556 - val_loss: 0.3081 - val_accuracy: 0.4199 - val_sensitivity: 1.0000 - val_specificity: 0.0000e+00 - val_dice_coefficient: 0.4762 - val_jaccard_index: 0.3313 - val_auc_3: 0.6108\n",
            "Epoch 33/50\n",
            "8/8 [==============================] - 24s 3s/step - loss: 0.5062 - accuracy: 0.2814 - sensitivity: 1.0000 - specificity: 0.0000e+00 - dice_coefficient: 0.3751 - jaccard_index: 0.2403 - auc_3: 0.5555 - val_loss: 0.3066 - val_accuracy: 0.4199 - val_sensitivity: 1.0000 - val_specificity: 0.0000e+00 - val_dice_coefficient: 0.4770 - val_jaccard_index: 0.3321 - val_auc_3: 0.5742\n",
            "Epoch 34/50\n",
            "8/8 [==============================] - 22s 3s/step - loss: 0.5051 - accuracy: 0.2814 - sensitivity: 1.0000 - specificity: 0.0000e+00 - dice_coefficient: 0.3756 - jaccard_index: 0.2407 - auc_3: 0.5580 - val_loss: 0.3052 - val_accuracy: 0.4199 - val_sensitivity: 1.0000 - val_specificity: 0.0000e+00 - val_dice_coefficient: 0.4777 - val_jaccard_index: 0.3329 - val_auc_3: 0.6067\n",
            "Epoch 35/50\n",
            "8/8 [==============================] - 24s 3s/step - loss: 0.5043 - accuracy: 0.2814 - sensitivity: 1.0000 - specificity: 0.0000e+00 - dice_coefficient: 0.3761 - jaccard_index: 0.2412 - auc_3: 0.5585 - val_loss: 0.3037 - val_accuracy: 0.4199 - val_sensitivity: 1.0000 - val_specificity: 0.0000e+00 - val_dice_coefficient: 0.4785 - val_jaccard_index: 0.3337 - val_auc_3: 0.5811\n",
            "Epoch 36/50\n",
            "8/8 [==============================] - 23s 3s/step - loss: 0.5037 - accuracy: 0.2814 - sensitivity: 1.0000 - specificity: 0.0000e+00 - dice_coefficient: 0.3766 - jaccard_index: 0.2416 - auc_3: 0.5581 - val_loss: 0.3023 - val_accuracy: 0.4199 - val_sensitivity: 1.0000 - val_specificity: 0.0000e+00 - val_dice_coefficient: 0.4793 - val_jaccard_index: 0.3345 - val_auc_3: 0.6029\n",
            "Epoch 37/50\n",
            "8/8 [==============================] - 23s 3s/step - loss: 0.5029 - accuracy: 0.2814 - sensitivity: 1.0000 - specificity: 0.0000e+00 - dice_coefficient: 0.3771 - jaccard_index: 0.2420 - auc_3: 0.5587 - val_loss: 0.3008 - val_accuracy: 0.4199 - val_sensitivity: 1.0000 - val_specificity: 0.0000e+00 - val_dice_coefficient: 0.4801 - val_jaccard_index: 0.3353 - val_auc_3: 0.5928\n",
            "Epoch 38/50\n",
            "8/8 [==============================] - 24s 3s/step - loss: 0.5025 - accuracy: 0.2814 - sensitivity: 1.0000 - specificity: 0.0000e+00 - dice_coefficient: 0.3776 - jaccard_index: 0.2424 - auc_3: 0.5561 - val_loss: 0.2994 - val_accuracy: 0.4199 - val_sensitivity: 1.0000 - val_specificity: 0.0000e+00 - val_dice_coefficient: 0.4809 - val_jaccard_index: 0.3361 - val_auc_3: 0.5993\n",
            "Epoch 39/50\n",
            "8/8 [==============================] - 22s 3s/step - loss: 0.5021 - accuracy: 0.2814 - sensitivity: 1.0000 - specificity: 0.0000e+00 - dice_coefficient: 0.3781 - jaccard_index: 0.2429 - auc_3: 0.5583 - val_loss: 0.2979 - val_accuracy: 0.4199 - val_sensitivity: 1.0000 - val_specificity: 0.0000e+00 - val_dice_coefficient: 0.4816 - val_jaccard_index: 0.3370 - val_auc_3: 0.6069\n",
            "Epoch 40/50\n",
            "8/8 [==============================] - 24s 3s/step - loss: 0.5015 - accuracy: 0.2814 - sensitivity: 1.0000 - specificity: 0.0000e+00 - dice_coefficient: 0.3786 - jaccard_index: 0.2433 - auc_3: 0.5626 - val_loss: 0.2964 - val_accuracy: 0.4199 - val_sensitivity: 1.0000 - val_specificity: 0.0000e+00 - val_dice_coefficient: 0.4824 - val_jaccard_index: 0.3378 - val_auc_3: 0.5951\n",
            "Epoch 41/50\n",
            "8/8 [==============================] - 22s 3s/step - loss: 0.4999 - accuracy: 0.2814 - sensitivity: 1.0000 - specificity: 0.0000e+00 - dice_coefficient: 0.3791 - jaccard_index: 0.2437 - auc_3: 0.5585 - val_loss: 0.2949 - val_accuracy: 0.4199 - val_sensitivity: 1.0000 - val_specificity: 0.0000e+00 - val_dice_coefficient: 0.4833 - val_jaccard_index: 0.3387 - val_auc_3: 0.6159\n",
            "Epoch 42/50\n",
            "8/8 [==============================] - 25s 3s/step - loss: 0.4992 - accuracy: 0.2814 - sensitivity: 1.0000 - specificity: 0.0000e+00 - dice_coefficient: 0.3796 - jaccard_index: 0.2442 - auc_3: 0.5614 - val_loss: 0.2933 - val_accuracy: 0.4199 - val_sensitivity: 1.0000 - val_specificity: 0.0000e+00 - val_dice_coefficient: 0.4841 - val_jaccard_index: 0.3395 - val_auc_3: 0.5943\n",
            "Epoch 43/50\n",
            "8/8 [==============================] - 22s 3s/step - loss: 0.4985 - accuracy: 0.2814 - sensitivity: 1.0000 - specificity: 0.0000e+00 - dice_coefficient: 0.3802 - jaccard_index: 0.2447 - auc_3: 0.5643 - val_loss: 0.2917 - val_accuracy: 0.4199 - val_sensitivity: 1.0000 - val_specificity: 0.0000e+00 - val_dice_coefficient: 0.4850 - val_jaccard_index: 0.3404 - val_auc_3: 0.6190\n",
            "Epoch 44/50\n",
            "8/8 [==============================] - 24s 3s/step - loss: 0.4976 - accuracy: 0.2814 - sensitivity: 1.0000 - specificity: 0.0000e+00 - dice_coefficient: 0.3807 - jaccard_index: 0.2452 - auc_3: 0.5660 - val_loss: 0.2901 - val_accuracy: 0.4199 - val_sensitivity: 1.0000 - val_specificity: 0.0000e+00 - val_dice_coefficient: 0.4858 - val_jaccard_index: 0.3413 - val_auc_3: 0.6096\n",
            "Epoch 45/50\n",
            "8/8 [==============================] - 22s 3s/step - loss: 0.4987 - accuracy: 0.2814 - sensitivity: 1.0000 - specificity: 0.0000e+00 - dice_coefficient: 0.3812 - jaccard_index: 0.2456 - auc_3: 0.5627 - val_loss: 0.2884 - val_accuracy: 0.4199 - val_sensitivity: 1.0000 - val_specificity: 0.0000e+00 - val_dice_coefficient: 0.4867 - val_jaccard_index: 0.3423 - val_auc_3: 0.6102\n",
            "Epoch 46/50\n",
            "8/8 [==============================] - 24s 3s/step - loss: 0.4962 - accuracy: 0.2814 - sensitivity: 1.0000 - specificity: 0.0000e+00 - dice_coefficient: 0.3818 - jaccard_index: 0.2461 - auc_3: 0.5638 - val_loss: 0.2868 - val_accuracy: 0.4199 - val_sensitivity: 1.0000 - val_specificity: 0.0000e+00 - val_dice_coefficient: 0.4875 - val_jaccard_index: 0.3432 - val_auc_3: 0.6340\n",
            "Epoch 47/50\n",
            "8/8 [==============================] - 22s 3s/step - loss: 0.4955 - accuracy: 0.2814 - sensitivity: 1.0000 - specificity: 0.0000e+00 - dice_coefficient: 0.3824 - jaccard_index: 0.2466 - auc_3: 0.5659 - val_loss: 0.2853 - val_accuracy: 0.4199 - val_sensitivity: 1.0000 - val_specificity: 0.0000e+00 - val_dice_coefficient: 0.4884 - val_jaccard_index: 0.3440 - val_auc_3: 0.6028\n",
            "Epoch 48/50\n",
            "8/8 [==============================] - 24s 3s/step - loss: 0.4946 - accuracy: 0.2814 - sensitivity: 1.0000 - specificity: 0.0000e+00 - dice_coefficient: 0.3829 - jaccard_index: 0.2470 - auc_3: 0.5648 - val_loss: 0.2837 - val_accuracy: 0.4199 - val_sensitivity: 1.0000 - val_specificity: 0.0000e+00 - val_dice_coefficient: 0.4892 - val_jaccard_index: 0.3449 - val_auc_3: 0.6216\n",
            "Epoch 49/50\n",
            "8/8 [==============================] - 22s 3s/step - loss: 0.4937 - accuracy: 0.2814 - sensitivity: 1.0000 - specificity: 0.0000e+00 - dice_coefficient: 0.3834 - jaccard_index: 0.2475 - auc_3: 0.5662 - val_loss: 0.2821 - val_accuracy: 0.4199 - val_sensitivity: 1.0000 - val_specificity: 0.0000e+00 - val_dice_coefficient: 0.4900 - val_jaccard_index: 0.3458 - val_auc_3: 0.6125\n",
            "Epoch 50/50\n",
            "8/8 [==============================] - 24s 3s/step - loss: 0.4926 - accuracy: 0.2814 - sensitivity: 1.0000 - specificity: 0.0000e+00 - dice_coefficient: 0.3839 - jaccard_index: 0.2479 - auc_3: 0.5650 - val_loss: 0.2805 - val_accuracy: 0.4199 - val_sensitivity: 1.0000 - val_specificity: 0.0000e+00 - val_dice_coefficient: 0.4909 - val_jaccard_index: 0.3467 - val_auc_3: 0.6116\n",
            "\n",
            "Canny Edge Detector\n",
            "2/2 [==============================] - 2s 288ms/step - loss: 0.3447 - accuracy: 0.3790 - sensitivity: 1.0000 - specificity: 0.0000e+00 - dice_coefficient: 0.5060 - jaccard_index: 0.3648 - auc_3: 0.6026\n",
            "Test Loss: 0.3446508049964905\n",
            "Test Accuracy: 0.3789505064487457\n",
            "Test Sensitivity: 1.0\n",
            "Test Specificity: 0.0\n",
            "Test Dice Coefficient: 0.506016731262207\n",
            "Test Jaccard Index: 0.3648250699043274\n",
            "Test AUC: 0.6025879383087158\n"
          ]
        }
      ],
      "source": [
        "#################### Canny Edge Detector ####################\n",
        "#################### Canny Edge Detector ####################\n",
        "#################### Canny Edge Detector ####################\n",
        "model = tf.keras.Model(inputs=[inputs], outputs=[outputs])\n",
        "model.compile(optimizer='Adagrad', loss=shape_aware_loss,\n",
        "              metrics=['accuracy', sensitivity, specificity, dice_coefficient, jaccard_index, tf.keras.metrics.AUC()])\n",
        "\n",
        "callbacks = [tf.keras.callbacks.EarlyStopping(patience=3, monitor='val_loss'), tf.keras.callbacks.TensorBoard(log_dir='logs')]\n",
        "results = model.fit(X_TRAIN_EDGE, Y_TRAIN_TARGET, validation_split=0.2, batch_size=16, epochs=50, callbacks=callbacks)\n",
        "\n",
        "print('\\nCanny Edge Detector')\n",
        "model_results(model, X_TEST_EDGE)"
      ]
    },
    {
      "cell_type": "markdown",
      "metadata": {
        "id": "BP0xPb7VjjRK"
      },
      "source": [
        "## Edge Detection - Analysis\n",
        "\n",
        "Upon analyzing the results of our edge detection techniques, it is evident that these methods did not significantly enhance the overall performance of our model's segmentation. However, it's essential to recognize that these techniques remain viable options for image segmentation tasks when applied appropriately.\n",
        "\n",
        "For the current problem, a couple of key factors may have contributed to these suboptimal results: the quantity of available data and the characteristics of the model itself. As previously mentioned, the dataset used in this study is relatively limited, especially when partitioned into training, validation, and test sets. Consequently, the model lacks a sufficient number of examples to effectively learn and adapt. A comparison with previous runs indicates that the model has not converged closer to the global minimum. The primary challenge lies in the insufficient quantity of data provided for the model to discern meaningful patterns.\n",
        "\n",
        "Furthermore, a critical issue may stem from the model's design itself. As noted earlier, the model has not been fine-tuned to accommodate the specifics of the new dataset, particularly images subjected to segmentation. Consequently, it lacks the necessary flexibility to adapt to this novel dataset and learn patterns in a manner suited to this context.\n",
        "\n",
        "It's worth considering another, though less likely, explanation: that the chosen techniques might not be well-suited for this particular type of image. However, drawing such a conclusion would require an attempt to reconfigure the model to the new dataset and a more extensive dataset to test this hypothesis.\n",
        "\n",
        "Regarding metrics, it's worth noting that while the validation loss may improve and approach its lowest value achieved, other performance metrics do not exhibit the same trend. This emphasizes the significance of employing diverse metrics for evaluating the success of such tasks. Importantly, the model demonstrates the capability to correctly identify individuals with the condition but falls short in accurately recognizing individuals without the condition. This deficiency in performance is undesirable in this domain."
      ]
    },
    {
      "cell_type": "markdown",
      "metadata": {
        "id": "eB23cv09yr7R"
      },
      "source": [
        "## Image Enhancement\n",
        "\n",
        "The decision has been made to implement Image Enhancement as a means to accentuate the crucial aspects of the image for subsequent segmentation.\n",
        "\n",
        "Here are the specific techniques that will be employed:\n",
        "\n",
        "*   Histogram Equalization: This method fine-tunes the intensity levels of the image, thus augmenting contrast and rendering it more aesthetically pleasing.\n",
        "*   Spatial Filtering: The approach here involves the application of a Gaussian filter, which is designed to enhance the image by minimizing noise and accentuating key features.\n",
        "*   High-Pass Filtering: High-pass filters, in this context, serve to amplify the high-frequency elements of the image, including edges and intricate textures, ultimately elevating their prominence in the enhanced image.\n",
        "\n",
        "\n"
      ]
    },
    {
      "cell_type": "markdown",
      "metadata": {
        "id": "UDp2vICc0J2L"
      },
      "source": [
        "## Histogram Equalization"
      ]
    },
    {
      "cell_type": "code",
      "execution_count": null,
      "metadata": {
        "id": "arBC33diyuYf"
      },
      "outputs": [],
      "source": [
        "def apply_histogram_equalization(X):\n",
        "    X_equalized = np.empty_like(X)\n",
        "\n",
        "    for i in range(X.shape[0]):\n",
        "        for channel in range(X.shape[3]):\n",
        "            image = X[i, :, :, channel]\n",
        "            equalized_image = cv2.equalizeHist(image)  # Apply Histogram Equalization\n",
        "            X_equalized[i, :, :, channel] = equalized_image\n",
        "\n",
        "    return X_equalized\n",
        "\n",
        "X_TRAIN_Enhancement = apply_histogram_equalization(X_train)\n",
        "X_TEST_Enhancement = apply_histogram_equalization(X_test)"
      ]
    },
    {
      "cell_type": "code",
      "execution_count": null,
      "metadata": {
        "colab": {
          "base_uri": "https://localhost:8080/"
        },
        "id": "gDlckJ-1yu2O",
        "outputId": "65b7c833-c9f9-449f-b66d-be5effb9869c"
      },
      "outputs": [
        {
          "name": "stdout",
          "output_type": "stream",
          "text": [
            "Epoch 1/50\n",
            "8/8 [==============================] - 27s 3s/step - loss: 0.4788 - accuracy: 0.2814 - sensitivity: 1.0000 - specificity: 7.1449e-07 - dice_coefficient: 0.3941 - jaccard_index: 0.2601 - auc_4: 0.1511 - val_loss: 0.2170 - val_accuracy: 0.4199 - val_sensitivity: 1.0000 - val_specificity: 0.0000e+00 - val_dice_coefficient: 0.5229 - val_jaccard_index: 0.3903 - val_auc_4: 0.1442\n",
            "Epoch 2/50\n",
            "8/8 [==============================] - 22s 3s/step - loss: 0.4764 - accuracy: 0.2814 - sensitivity: 1.0000 - specificity: 0.0000e+00 - dice_coefficient: 0.3956 - jaccard_index: 0.2613 - auc_4: 0.1525 - val_loss: 0.2141 - val_accuracy: 0.4199 - val_sensitivity: 1.0000 - val_specificity: 0.0000e+00 - val_dice_coefficient: 0.5245 - val_jaccard_index: 0.3918 - val_auc_4: 0.1471\n",
            "Epoch 3/50\n",
            "8/8 [==============================] - 24s 3s/step - loss: 0.4742 - accuracy: 0.2814 - sensitivity: 1.0000 - specificity: 0.0000e+00 - dice_coefficient: 0.3970 - jaccard_index: 0.2624 - auc_4: 0.1548 - val_loss: 0.2113 - val_accuracy: 0.4199 - val_sensitivity: 1.0000 - val_specificity: 0.0000e+00 - val_dice_coefficient: 0.5259 - val_jaccard_index: 0.3933 - val_auc_4: 0.1506\n",
            "Epoch 4/50\n",
            "8/8 [==============================] - 22s 3s/step - loss: 0.4722 - accuracy: 0.2814 - sensitivity: 1.0000 - specificity: 0.0000e+00 - dice_coefficient: 0.3982 - jaccard_index: 0.2634 - auc_4: 0.1574 - val_loss: 0.2088 - val_accuracy: 0.4199 - val_sensitivity: 1.0000 - val_specificity: 0.0000e+00 - val_dice_coefficient: 0.5272 - val_jaccard_index: 0.3946 - val_auc_4: 0.1544\n",
            "Epoch 5/50\n",
            "8/8 [==============================] - 24s 3s/step - loss: 0.4704 - accuracy: 0.2814 - sensitivity: 1.0000 - specificity: 0.0000e+00 - dice_coefficient: 0.3994 - jaccard_index: 0.2644 - auc_4: 0.1590 - val_loss: 0.2064 - val_accuracy: 0.4199 - val_sensitivity: 1.0000 - val_specificity: 0.0000e+00 - val_dice_coefficient: 0.5285 - val_jaccard_index: 0.3959 - val_auc_4: 0.1584\n",
            "Epoch 6/50\n",
            "8/8 [==============================] - 22s 3s/step - loss: 0.4685 - accuracy: 0.2814 - sensitivity: 1.0000 - specificity: 0.0000e+00 - dice_coefficient: 0.4005 - jaccard_index: 0.2653 - auc_4: 0.1620 - val_loss: 0.2041 - val_accuracy: 0.4199 - val_sensitivity: 1.0000 - val_specificity: 0.0000e+00 - val_dice_coefficient: 0.5297 - val_jaccard_index: 0.3971 - val_auc_4: 0.1626\n",
            "Epoch 7/50\n",
            "8/8 [==============================] - 24s 3s/step - loss: 0.4668 - accuracy: 0.2814 - sensitivity: 1.0000 - specificity: 0.0000e+00 - dice_coefficient: 0.4016 - jaccard_index: 0.2662 - auc_4: 0.1648 - val_loss: 0.2020 - val_accuracy: 0.4199 - val_sensitivity: 1.0000 - val_specificity: 0.0000e+00 - val_dice_coefficient: 0.5308 - val_jaccard_index: 0.3982 - val_auc_4: 0.1671\n",
            "Epoch 8/50\n",
            "8/8 [==============================] - 22s 3s/step - loss: 0.4651 - accuracy: 0.2814 - sensitivity: 1.0000 - specificity: 0.0000e+00 - dice_coefficient: 0.4026 - jaccard_index: 0.2671 - auc_4: 0.1677 - val_loss: 0.2000 - val_accuracy: 0.4199 - val_sensitivity: 1.0000 - val_specificity: 0.0000e+00 - val_dice_coefficient: 0.5318 - val_jaccard_index: 0.3993 - val_auc_4: 0.1714\n",
            "Epoch 9/50\n",
            "8/8 [==============================] - 24s 3s/step - loss: 0.4636 - accuracy: 0.2814 - sensitivity: 1.0000 - specificity: 1.3379e-06 - dice_coefficient: 0.4036 - jaccard_index: 0.2678 - auc_4: 0.1700 - val_loss: 0.1981 - val_accuracy: 0.4199 - val_sensitivity: 1.0000 - val_specificity: 0.0000e+00 - val_dice_coefficient: 0.5328 - val_jaccard_index: 0.4003 - val_auc_4: 0.1760\n",
            "Epoch 10/50\n",
            "8/8 [==============================] - 22s 3s/step - loss: 0.4623 - accuracy: 0.2814 - sensitivity: 1.0000 - specificity: 6.6274e-07 - dice_coefficient: 0.4044 - jaccard_index: 0.2686 - auc_4: 0.1742 - val_loss: 0.1963 - val_accuracy: 0.4199 - val_sensitivity: 1.0000 - val_specificity: 0.0000e+00 - val_dice_coefficient: 0.5338 - val_jaccard_index: 0.4012 - val_auc_4: 0.1807\n",
            "Epoch 11/50\n",
            "8/8 [==============================] - 24s 3s/step - loss: 0.4609 - accuracy: 0.2814 - sensitivity: 1.0000 - specificity: 0.0000e+00 - dice_coefficient: 0.4053 - jaccard_index: 0.2693 - auc_4: 0.1784 - val_loss: 0.1947 - val_accuracy: 0.4199 - val_sensitivity: 1.0000 - val_specificity: 0.0000e+00 - val_dice_coefficient: 0.5346 - val_jaccard_index: 0.4021 - val_auc_4: 0.1852\n",
            "Epoch 12/50\n",
            "8/8 [==============================] - 22s 3s/step - loss: 0.4596 - accuracy: 0.2814 - sensitivity: 1.0000 - specificity: 0.0000e+00 - dice_coefficient: 0.4061 - jaccard_index: 0.2699 - auc_4: 0.1819 - val_loss: 0.1931 - val_accuracy: 0.4199 - val_sensitivity: 1.0000 - val_specificity: 0.0000e+00 - val_dice_coefficient: 0.5355 - val_jaccard_index: 0.4029 - val_auc_4: 0.1897\n",
            "Epoch 13/50\n",
            "8/8 [==============================] - 23s 3s/step - loss: 0.4584 - accuracy: 0.2814 - sensitivity: 1.0000 - specificity: 0.0000e+00 - dice_coefficient: 0.4069 - jaccard_index: 0.2706 - auc_4: 0.1855 - val_loss: 0.1916 - val_accuracy: 0.4199 - val_sensitivity: 1.0000 - val_specificity: 0.0000e+00 - val_dice_coefficient: 0.5362 - val_jaccard_index: 0.4036 - val_auc_4: 0.1945\n",
            "Epoch 14/50\n",
            "8/8 [==============================] - 22s 3s/step - loss: 0.4573 - accuracy: 0.2814 - sensitivity: 1.0000 - specificity: 0.0000e+00 - dice_coefficient: 0.4076 - jaccard_index: 0.2711 - auc_4: 0.1900 - val_loss: 0.1902 - val_accuracy: 0.4199 - val_sensitivity: 1.0000 - val_specificity: 0.0000e+00 - val_dice_coefficient: 0.5370 - val_jaccard_index: 0.4044 - val_auc_4: 0.1991\n",
            "Epoch 15/50\n",
            "8/8 [==============================] - 24s 3s/step - loss: 0.4563 - accuracy: 0.2814 - sensitivity: 1.0000 - specificity: 0.0000e+00 - dice_coefficient: 0.4082 - jaccard_index: 0.2717 - auc_4: 0.1944 - val_loss: 0.1889 - val_accuracy: 0.4199 - val_sensitivity: 1.0000 - val_specificity: 0.0000e+00 - val_dice_coefficient: 0.5377 - val_jaccard_index: 0.4051 - val_auc_4: 0.2038\n",
            "Epoch 16/50\n",
            "8/8 [==============================] - 22s 3s/step - loss: 0.4551 - accuracy: 0.2814 - sensitivity: 1.0000 - specificity: 0.0000e+00 - dice_coefficient: 0.4089 - jaccard_index: 0.2722 - auc_4: 0.1988 - val_loss: 0.1877 - val_accuracy: 0.4199 - val_sensitivity: 1.0000 - val_specificity: 0.0000e+00 - val_dice_coefficient: 0.5383 - val_jaccard_index: 0.4057 - val_auc_4: 0.2085\n",
            "Epoch 17/50\n",
            "8/8 [==============================] - 24s 3s/step - loss: 0.4542 - accuracy: 0.2814 - sensitivity: 1.0000 - specificity: 0.0000e+00 - dice_coefficient: 0.4095 - jaccard_index: 0.2727 - auc_4: 0.2031 - val_loss: 0.1865 - val_accuracy: 0.4199 - val_sensitivity: 1.0000 - val_specificity: 0.0000e+00 - val_dice_coefficient: 0.5390 - val_jaccard_index: 0.4063 - val_auc_4: 0.2133\n",
            "Epoch 18/50\n",
            "8/8 [==============================] - 23s 3s/step - loss: 0.4533 - accuracy: 0.2814 - sensitivity: 1.0000 - specificity: 0.0000e+00 - dice_coefficient: 0.4100 - jaccard_index: 0.2732 - auc_4: 0.2078 - val_loss: 0.1854 - val_accuracy: 0.4199 - val_sensitivity: 1.0000 - val_specificity: 0.0000e+00 - val_dice_coefficient: 0.5395 - val_jaccard_index: 0.4069 - val_auc_4: 0.2182\n",
            "Epoch 19/50\n",
            "8/8 [==============================] - 22s 3s/step - loss: 0.4524 - accuracy: 0.2814 - sensitivity: 1.0000 - specificity: 0.0000e+00 - dice_coefficient: 0.4105 - jaccard_index: 0.2736 - auc_4: 0.2125 - val_loss: 0.1843 - val_accuracy: 0.4199 - val_sensitivity: 1.0000 - val_specificity: 0.0000e+00 - val_dice_coefficient: 0.5401 - val_jaccard_index: 0.4074 - val_auc_4: 0.2225\n",
            "Epoch 20/50\n",
            "8/8 [==============================] - 23s 3s/step - loss: 0.4517 - accuracy: 0.2814 - sensitivity: 1.0000 - specificity: 0.0000e+00 - dice_coefficient: 0.4110 - jaccard_index: 0.2740 - auc_4: 0.2179 - val_loss: 0.1834 - val_accuracy: 0.4199 - val_sensitivity: 1.0000 - val_specificity: 0.0000e+00 - val_dice_coefficient: 0.5406 - val_jaccard_index: 0.4079 - val_auc_4: 0.2269\n",
            "Epoch 21/50\n",
            "8/8 [==============================] - 22s 3s/step - loss: 0.4509 - accuracy: 0.2814 - sensitivity: 1.0000 - specificity: 0.0000e+00 - dice_coefficient: 0.4115 - jaccard_index: 0.2744 - auc_4: 0.2230 - val_loss: 0.1824 - val_accuracy: 0.4199 - val_sensitivity: 1.0000 - val_specificity: 0.0000e+00 - val_dice_coefficient: 0.5411 - val_jaccard_index: 0.4084 - val_auc_4: 0.2312\n",
            "Epoch 22/50\n",
            "8/8 [==============================] - 23s 3s/step - loss: 0.4502 - accuracy: 0.2814 - sensitivity: 1.0000 - specificity: 0.0000e+00 - dice_coefficient: 0.4120 - jaccard_index: 0.2747 - auc_4: 0.2272 - val_loss: 0.1815 - val_accuracy: 0.4199 - val_sensitivity: 1.0000 - val_specificity: 0.0000e+00 - val_dice_coefficient: 0.5416 - val_jaccard_index: 0.4089 - val_auc_4: 0.2354\n",
            "Epoch 23/50\n",
            "8/8 [==============================] - 22s 3s/step - loss: 0.4495 - accuracy: 0.2814 - sensitivity: 1.0000 - specificity: 0.0000e+00 - dice_coefficient: 0.4124 - jaccard_index: 0.2751 - auc_4: 0.2333 - val_loss: 0.1807 - val_accuracy: 0.4199 - val_sensitivity: 1.0000 - val_specificity: 0.0000e+00 - val_dice_coefficient: 0.5420 - val_jaccard_index: 0.4093 - val_auc_4: 0.2398\n",
            "Epoch 24/50\n",
            "8/8 [==============================] - 23s 3s/step - loss: 0.4489 - accuracy: 0.2814 - sensitivity: 1.0000 - specificity: 0.0000e+00 - dice_coefficient: 0.4128 - jaccard_index: 0.2754 - auc_4: 0.2376 - val_loss: 0.1799 - val_accuracy: 0.4199 - val_sensitivity: 1.0000 - val_specificity: 0.0000e+00 - val_dice_coefficient: 0.5424 - val_jaccard_index: 0.4097 - val_auc_4: 0.2438\n",
            "Epoch 25/50\n",
            "8/8 [==============================] - 22s 3s/step - loss: 0.4483 - accuracy: 0.2814 - sensitivity: 1.0000 - specificity: 0.0000e+00 - dice_coefficient: 0.4131 - jaccard_index: 0.2757 - auc_4: 0.2421 - val_loss: 0.1792 - val_accuracy: 0.4199 - val_sensitivity: 1.0000 - val_specificity: 0.0000e+00 - val_dice_coefficient: 0.5428 - val_jaccard_index: 0.4101 - val_auc_4: 0.2479\n",
            "Epoch 26/50\n",
            "8/8 [==============================] - 24s 3s/step - loss: 0.4477 - accuracy: 0.2814 - sensitivity: 1.0000 - specificity: 0.0000e+00 - dice_coefficient: 0.4135 - jaccard_index: 0.2760 - auc_4: 0.2478 - val_loss: 0.1785 - val_accuracy: 0.4199 - val_sensitivity: 1.0000 - val_specificity: 0.0000e+00 - val_dice_coefficient: 0.5432 - val_jaccard_index: 0.4105 - val_auc_4: 0.2517\n",
            "Epoch 27/50\n",
            "8/8 [==============================] - 21s 3s/step - loss: 0.4473 - accuracy: 0.2814 - sensitivity: 1.0000 - specificity: 6.5238e-07 - dice_coefficient: 0.4138 - jaccard_index: 0.2762 - auc_4: 0.2521 - val_loss: 0.1778 - val_accuracy: 0.4199 - val_sensitivity: 1.0000 - val_specificity: 0.0000e+00 - val_dice_coefficient: 0.5436 - val_jaccard_index: 0.4108 - val_auc_4: 0.2556\n",
            "Epoch 28/50\n",
            "8/8 [==============================] - 24s 3s/step - loss: 0.4467 - accuracy: 0.2814 - sensitivity: 1.0000 - specificity: 0.0000e+00 - dice_coefficient: 0.4141 - jaccard_index: 0.2765 - auc_4: 0.2575 - val_loss: 0.1771 - val_accuracy: 0.4199 - val_sensitivity: 1.0000 - val_specificity: 0.0000e+00 - val_dice_coefficient: 0.5439 - val_jaccard_index: 0.4111 - val_auc_4: 0.2594\n",
            "Epoch 29/50\n",
            "8/8 [==============================] - 21s 3s/step - loss: 0.4463 - accuracy: 0.2814 - sensitivity: 1.0000 - specificity: 0.0000e+00 - dice_coefficient: 0.4144 - jaccard_index: 0.2767 - auc_4: 0.2622 - val_loss: 0.1765 - val_accuracy: 0.4199 - val_sensitivity: 1.0000 - val_specificity: 0.0000e+00 - val_dice_coefficient: 0.5442 - val_jaccard_index: 0.4114 - val_auc_4: 0.2630\n",
            "Epoch 30/50\n",
            "8/8 [==============================] - 24s 3s/step - loss: 0.4458 - accuracy: 0.2814 - sensitivity: 1.0000 - specificity: 0.0000e+00 - dice_coefficient: 0.4147 - jaccard_index: 0.2770 - auc_4: 0.2672 - val_loss: 0.1760 - val_accuracy: 0.4199 - val_sensitivity: 1.0000 - val_specificity: 0.0000e+00 - val_dice_coefficient: 0.5446 - val_jaccard_index: 0.4117 - val_auc_4: 0.2664\n",
            "Epoch 31/50\n",
            "8/8 [==============================] - 22s 3s/step - loss: 0.4454 - accuracy: 0.2814 - sensitivity: 1.0000 - specificity: 0.0000e+00 - dice_coefficient: 0.4149 - jaccard_index: 0.2772 - auc_4: 0.2720 - val_loss: 0.1754 - val_accuracy: 0.4199 - val_sensitivity: 1.0000 - val_specificity: 0.0000e+00 - val_dice_coefficient: 0.5448 - val_jaccard_index: 0.4120 - val_auc_4: 0.2699\n",
            "Epoch 32/50\n",
            "8/8 [==============================] - 24s 3s/step - loss: 0.4450 - accuracy: 0.2814 - sensitivity: 1.0000 - specificity: 0.0000e+00 - dice_coefficient: 0.4152 - jaccard_index: 0.2774 - auc_4: 0.2775 - val_loss: 0.1749 - val_accuracy: 0.4199 - val_sensitivity: 1.0000 - val_specificity: 0.0000e+00 - val_dice_coefficient: 0.5451 - val_jaccard_index: 0.4123 - val_auc_4: 0.2733\n",
            "Epoch 33/50\n",
            "8/8 [==============================] - 22s 3s/step - loss: 0.4446 - accuracy: 0.2814 - sensitivity: 1.0000 - specificity: 0.0000e+00 - dice_coefficient: 0.4155 - jaccard_index: 0.2776 - auc_4: 0.2820 - val_loss: 0.1744 - val_accuracy: 0.4199 - val_sensitivity: 1.0000 - val_specificity: 0.0000e+00 - val_dice_coefficient: 0.5454 - val_jaccard_index: 0.4125 - val_auc_4: 0.2765\n",
            "Epoch 34/50\n",
            "8/8 [==============================] - 24s 3s/step - loss: 0.4442 - accuracy: 0.2814 - sensitivity: 1.0000 - specificity: 0.0000e+00 - dice_coefficient: 0.4157 - jaccard_index: 0.2778 - auc_4: 0.2871 - val_loss: 0.1739 - val_accuracy: 0.4199 - val_sensitivity: 1.0000 - val_specificity: 0.0000e+00 - val_dice_coefficient: 0.5456 - val_jaccard_index: 0.4128 - val_auc_4: 0.2798\n",
            "Epoch 35/50\n",
            "8/8 [==============================] - 22s 3s/step - loss: 0.4439 - accuracy: 0.2814 - sensitivity: 1.0000 - specificity: 0.0000e+00 - dice_coefficient: 0.4159 - jaccard_index: 0.2780 - auc_4: 0.2916 - val_loss: 0.1735 - val_accuracy: 0.4199 - val_sensitivity: 1.0000 - val_specificity: 0.0000e+00 - val_dice_coefficient: 0.5459 - val_jaccard_index: 0.4130 - val_auc_4: 0.2831\n",
            "Epoch 36/50\n",
            "8/8 [==============================] - 24s 3s/step - loss: 0.4436 - accuracy: 0.2814 - sensitivity: 1.0000 - specificity: 0.0000e+00 - dice_coefficient: 0.4161 - jaccard_index: 0.2781 - auc_4: 0.2961 - val_loss: 0.1731 - val_accuracy: 0.4199 - val_sensitivity: 1.0000 - val_specificity: 0.0000e+00 - val_dice_coefficient: 0.5461 - val_jaccard_index: 0.4132 - val_auc_4: 0.2862\n",
            "Epoch 37/50\n",
            "8/8 [==============================] - 22s 3s/step - loss: 0.4433 - accuracy: 0.2814 - sensitivity: 1.0000 - specificity: 0.0000e+00 - dice_coefficient: 0.4163 - jaccard_index: 0.2783 - auc_4: 0.3004 - val_loss: 0.1727 - val_accuracy: 0.4199 - val_sensitivity: 1.0000 - val_specificity: 0.0000e+00 - val_dice_coefficient: 0.5463 - val_jaccard_index: 0.4134 - val_auc_4: 0.2891\n",
            "Epoch 38/50\n",
            "8/8 [==============================] - 24s 3s/step - loss: 0.4430 - accuracy: 0.2814 - sensitivity: 1.0000 - specificity: 0.0000e+00 - dice_coefficient: 0.4164 - jaccard_index: 0.2784 - auc_4: 0.3047 - val_loss: 0.1723 - val_accuracy: 0.4199 - val_sensitivity: 1.0000 - val_specificity: 0.0000e+00 - val_dice_coefficient: 0.5465 - val_jaccard_index: 0.4136 - val_auc_4: 0.2919\n",
            "Epoch 39/50\n",
            "8/8 [==============================] - 22s 3s/step - loss: 0.4427 - accuracy: 0.2814 - sensitivity: 1.0000 - specificity: 0.0000e+00 - dice_coefficient: 0.4166 - jaccard_index: 0.2785 - auc_4: 0.3093 - val_loss: 0.1719 - val_accuracy: 0.4199 - val_sensitivity: 1.0000 - val_specificity: 0.0000e+00 - val_dice_coefficient: 0.5467 - val_jaccard_index: 0.4138 - val_auc_4: 0.2948\n",
            "Epoch 40/50\n",
            "8/8 [==============================] - 24s 3s/step - loss: 0.4424 - accuracy: 0.2814 - sensitivity: 1.0000 - specificity: 0.0000e+00 - dice_coefficient: 0.4168 - jaccard_index: 0.2787 - auc_4: 0.3139 - val_loss: 0.1715 - val_accuracy: 0.4199 - val_sensitivity: 1.0000 - val_specificity: 0.0000e+00 - val_dice_coefficient: 0.5469 - val_jaccard_index: 0.4140 - val_auc_4: 0.2977\n",
            "Epoch 41/50\n",
            "8/8 [==============================] - 21s 3s/step - loss: 0.4423 - accuracy: 0.2814 - sensitivity: 1.0000 - specificity: 0.0000e+00 - dice_coefficient: 0.4169 - jaccard_index: 0.2788 - auc_4: 0.3174 - val_loss: 0.1712 - val_accuracy: 0.4199 - val_sensitivity: 1.0000 - val_specificity: 0.0000e+00 - val_dice_coefficient: 0.5471 - val_jaccard_index: 0.4142 - val_auc_4: 0.3003\n",
            "Epoch 42/50\n",
            "8/8 [==============================] - 24s 3s/step - loss: 0.4420 - accuracy: 0.2814 - sensitivity: 1.0000 - specificity: 0.0000e+00 - dice_coefficient: 0.4171 - jaccard_index: 0.2789 - auc_4: 0.3220 - val_loss: 0.1709 - val_accuracy: 0.4199 - val_sensitivity: 1.0000 - val_specificity: 0.0000e+00 - val_dice_coefficient: 0.5473 - val_jaccard_index: 0.4144 - val_auc_4: 0.3030\n",
            "Epoch 43/50\n",
            "8/8 [==============================] - 22s 3s/step - loss: 0.4418 - accuracy: 0.2814 - sensitivity: 1.0000 - specificity: 0.0000e+00 - dice_coefficient: 0.4172 - jaccard_index: 0.2790 - auc_4: 0.3265 - val_loss: 0.1706 - val_accuracy: 0.4199 - val_sensitivity: 1.0000 - val_specificity: 0.0000e+00 - val_dice_coefficient: 0.5475 - val_jaccard_index: 0.4145 - val_auc_4: 0.3056\n",
            "Epoch 44/50\n",
            "8/8 [==============================] - 24s 3s/step - loss: 0.4416 - accuracy: 0.2814 - sensitivity: 1.0000 - specificity: 0.0000e+00 - dice_coefficient: 0.4173 - jaccard_index: 0.2791 - auc_4: 0.3303 - val_loss: 0.1703 - val_accuracy: 0.4199 - val_sensitivity: 1.0000 - val_specificity: 0.0000e+00 - val_dice_coefficient: 0.5476 - val_jaccard_index: 0.4147 - val_auc_4: 0.3082\n",
            "Epoch 45/50\n",
            "8/8 [==============================] - 22s 3s/step - loss: 0.4414 - accuracy: 0.2814 - sensitivity: 1.0000 - specificity: 0.0000e+00 - dice_coefficient: 0.4174 - jaccard_index: 0.2792 - auc_4: 0.3342 - val_loss: 0.1700 - val_accuracy: 0.4199 - val_sensitivity: 1.0000 - val_specificity: 0.0000e+00 - val_dice_coefficient: 0.5478 - val_jaccard_index: 0.4148 - val_auc_4: 0.3107\n",
            "Epoch 46/50\n",
            "8/8 [==============================] - 24s 3s/step - loss: 0.4412 - accuracy: 0.2814 - sensitivity: 1.0000 - specificity: 0.0000e+00 - dice_coefficient: 0.4175 - jaccard_index: 0.2793 - auc_4: 0.3381 - val_loss: 0.1697 - val_accuracy: 0.4199 - val_sensitivity: 1.0000 - val_specificity: 0.0000e+00 - val_dice_coefficient: 0.5479 - val_jaccard_index: 0.4149 - val_auc_4: 0.3132\n",
            "Epoch 47/50\n",
            "8/8 [==============================] - 21s 3s/step - loss: 0.4411 - accuracy: 0.2814 - sensitivity: 1.0000 - specificity: 0.0000e+00 - dice_coefficient: 0.4176 - jaccard_index: 0.2794 - auc_4: 0.3420 - val_loss: 0.1695 - val_accuracy: 0.4199 - val_sensitivity: 1.0000 - val_specificity: 0.0000e+00 - val_dice_coefficient: 0.5481 - val_jaccard_index: 0.4151 - val_auc_4: 0.3155\n",
            "Epoch 48/50\n",
            "8/8 [==============================] - 24s 3s/step - loss: 0.4409 - accuracy: 0.2814 - sensitivity: 1.0000 - specificity: 0.0000e+00 - dice_coefficient: 0.4178 - jaccard_index: 0.2795 - auc_4: 0.3463 - val_loss: 0.1692 - val_accuracy: 0.4199 - val_sensitivity: 1.0000 - val_specificity: 0.0000e+00 - val_dice_coefficient: 0.5482 - val_jaccard_index: 0.4152 - val_auc_4: 0.3177\n",
            "Epoch 49/50\n",
            "8/8 [==============================] - 22s 3s/step - loss: 0.4407 - accuracy: 0.2814 - sensitivity: 1.0000 - specificity: 0.0000e+00 - dice_coefficient: 0.4179 - jaccard_index: 0.2796 - auc_4: 0.3493 - val_loss: 0.1690 - val_accuracy: 0.4199 - val_sensitivity: 1.0000 - val_specificity: 0.0000e+00 - val_dice_coefficient: 0.5483 - val_jaccard_index: 0.4153 - val_auc_4: 0.3200\n",
            "Epoch 50/50\n",
            "8/8 [==============================] - 24s 3s/step - loss: 0.4406 - accuracy: 0.2814 - sensitivity: 1.0000 - specificity: 0.0000e+00 - dice_coefficient: 0.4180 - jaccard_index: 0.2796 - auc_4: 0.3536 - val_loss: 0.1688 - val_accuracy: 0.4199 - val_sensitivity: 1.0000 - val_specificity: 0.0000e+00 - val_dice_coefficient: 0.5484 - val_jaccard_index: 0.4154 - val_auc_4: 0.3223\n",
            "\n",
            "Histogram Equalization\n",
            "2/2 [==============================] - 2s 289ms/step - loss: 0.2427 - accuracy: 0.3790 - sensitivity: 1.0000 - specificity: 0.0000e+00 - dice_coefficient: 0.5741 - jaccard_index: 0.4491 - auc_4: 0.4706\n",
            "Test Loss: 0.2426946610212326\n",
            "Test Accuracy: 0.3789505064487457\n",
            "Test Sensitivity: 1.0\n",
            "Test Specificity: 0.0\n",
            "Test Dice Coefficient: 0.574076771736145\n",
            "Test Jaccard Index: 0.44912177324295044\n",
            "Test AUC: 0.4706149697303772\n"
          ]
        }
      ],
      "source": [
        "#################### Histogram Equalization ####################\n",
        "#################### Histogram Equalization ####################\n",
        "#################### Histogram Equalization ####################\n",
        "model = tf.keras.Model(inputs=[inputs], outputs=[outputs])\n",
        "model.compile(optimizer='Adagrad', loss=shape_aware_loss,\n",
        "              metrics=['accuracy', sensitivity, specificity, dice_coefficient, jaccard_index, tf.keras.metrics.AUC()])\n",
        "\n",
        "callbacks = [tf.keras.callbacks.EarlyStopping(patience=3, monitor='val_loss'), tf.keras.callbacks.TensorBoard(log_dir='logs')]\n",
        "results = model.fit(X_TRAIN_Enhancement, Y_TRAIN_TARGET, validation_split=0.2, batch_size=16, epochs=50, callbacks=callbacks)\n",
        "\n",
        "print('\\nHistogram Equalization')\n",
        "model_results(model, X_TEST_Enhancement)"
      ]
    },
    {
      "cell_type": "markdown",
      "metadata": {
        "id": "4oHbqtZK0Pt8"
      },
      "source": [
        "## Spatial Filtering"
      ]
    },
    {
      "cell_type": "code",
      "execution_count": null,
      "metadata": {
        "id": "GWMhrhTy0SZd"
      },
      "outputs": [],
      "source": [
        "def apply_gaussian_filter(X):\n",
        "    X_filtered = np.empty_like(X)\n",
        "\n",
        "    for i in range(X.shape[0]):\n",
        "        for channel in range(X.shape[3]):\n",
        "            image = X[i, :, :, channel]\n",
        "            filtered_image = cv2.GaussianBlur(image, (5, 5), 0)  # Apply Gaussian filter with a 5x5 kernel\n",
        "            X_filtered[i, :, :, channel] = filtered_image\n",
        "\n",
        "    return X_filtered\n",
        "\n",
        "X_TRAIN_Enhancement = apply_gaussian_filter(X_train)\n",
        "X_TEST_Enhancement = apply_gaussian_filter(X_test)"
      ]
    },
    {
      "cell_type": "code",
      "execution_count": null,
      "metadata": {
        "colab": {
          "base_uri": "https://localhost:8080/"
        },
        "id": "oj-mJcMo0SfW",
        "outputId": "99ddd123-462e-4f22-9119-85b5b7b6ff4a"
      },
      "outputs": [
        {
          "name": "stdout",
          "output_type": "stream",
          "text": [
            "Epoch 1/50\n",
            "8/8 [==============================] - 27s 3s/step - loss: 0.4366 - accuracy: 0.2814 - sensitivity: 1.0000 - specificity: 0.0000e+00 - dice_coefficient: 0.4205 - jaccard_index: 0.2817 - auc_5: 0.5107 - val_loss: 0.1606 - val_accuracy: 0.4199 - val_sensitivity: 1.0000 - val_specificity: 0.0000e+00 - val_dice_coefficient: 0.5529 - val_jaccard_index: 0.4196 - val_auc_5: 0.4855\n",
            "Epoch 2/50\n",
            "8/8 [==============================] - 22s 3s/step - loss: 0.4366 - accuracy: 0.2814 - sensitivity: 1.0000 - specificity: 0.0000e+00 - dice_coefficient: 0.4205 - jaccard_index: 0.2817 - auc_5: 0.5105 - val_loss: 0.1606 - val_accuracy: 0.4199 - val_sensitivity: 1.0000 - val_specificity: 0.0000e+00 - val_dice_coefficient: 0.5529 - val_jaccard_index: 0.4196 - val_auc_5: 0.4855\n",
            "Epoch 3/50\n",
            "8/8 [==============================] - 25s 3s/step - loss: 0.4366 - accuracy: 0.2814 - sensitivity: 1.0000 - specificity: 0.0000e+00 - dice_coefficient: 0.4205 - jaccard_index: 0.2817 - auc_5: 0.5107 - val_loss: 0.1606 - val_accuracy: 0.4199 - val_sensitivity: 1.0000 - val_specificity: 0.0000e+00 - val_dice_coefficient: 0.5529 - val_jaccard_index: 0.4196 - val_auc_5: 0.4855\n",
            "Epoch 4/50\n",
            "8/8 [==============================] - 34s 4s/step - loss: 0.4366 - accuracy: 0.2814 - sensitivity: 1.0000 - specificity: 0.0000e+00 - dice_coefficient: 0.4205 - jaccard_index: 0.2817 - auc_5: 0.5107 - val_loss: 0.1606 - val_accuracy: 0.4199 - val_sensitivity: 1.0000 - val_specificity: 0.0000e+00 - val_dice_coefficient: 0.5529 - val_jaccard_index: 0.4196 - val_auc_5: 0.4855\n",
            "Epoch 5/50\n",
            "8/8 [==============================] - 24s 3s/step - loss: 0.4366 - accuracy: 0.2814 - sensitivity: 1.0000 - specificity: 0.0000e+00 - dice_coefficient: 0.4205 - jaccard_index: 0.2817 - auc_5: 0.5107 - val_loss: 0.1606 - val_accuracy: 0.4199 - val_sensitivity: 1.0000 - val_specificity: 0.0000e+00 - val_dice_coefficient: 0.5529 - val_jaccard_index: 0.4196 - val_auc_5: 0.4855\n",
            "Epoch 6/50\n",
            "8/8 [==============================] - 21s 3s/step - loss: 0.4366 - accuracy: 0.2814 - sensitivity: 1.0000 - specificity: 0.0000e+00 - dice_coefficient: 0.4205 - jaccard_index: 0.2817 - auc_5: 0.5105 - val_loss: 0.1606 - val_accuracy: 0.4199 - val_sensitivity: 1.0000 - val_specificity: 0.0000e+00 - val_dice_coefficient: 0.5529 - val_jaccard_index: 0.4196 - val_auc_5: 0.4855\n",
            "Epoch 7/50\n",
            "8/8 [==============================] - 26s 3s/step - loss: 0.4366 - accuracy: 0.2814 - sensitivity: 1.0000 - specificity: 0.0000e+00 - dice_coefficient: 0.4205 - jaccard_index: 0.2817 - auc_5: 0.5106 - val_loss: 0.1606 - val_accuracy: 0.4199 - val_sensitivity: 1.0000 - val_specificity: 0.0000e+00 - val_dice_coefficient: 0.5529 - val_jaccard_index: 0.4196 - val_auc_5: 0.4855\n",
            "Epoch 8/50\n",
            "8/8 [==============================] - 24s 3s/step - loss: 0.4366 - accuracy: 0.2814 - sensitivity: 1.0000 - specificity: 0.0000e+00 - dice_coefficient: 0.4205 - jaccard_index: 0.2817 - auc_5: 0.5107 - val_loss: 0.1606 - val_accuracy: 0.4199 - val_sensitivity: 1.0000 - val_specificity: 0.0000e+00 - val_dice_coefficient: 0.5529 - val_jaccard_index: 0.4196 - val_auc_5: 0.4855\n",
            "Epoch 9/50\n",
            "8/8 [==============================] - 34s 4s/step - loss: 0.4366 - accuracy: 0.2814 - sensitivity: 1.0000 - specificity: 0.0000e+00 - dice_coefficient: 0.4205 - jaccard_index: 0.2817 - auc_5: 0.5106 - val_loss: 0.1606 - val_accuracy: 0.4199 - val_sensitivity: 1.0000 - val_specificity: 0.0000e+00 - val_dice_coefficient: 0.5529 - val_jaccard_index: 0.4196 - val_auc_5: 0.4855\n",
            "Epoch 10/50\n",
            "8/8 [==============================] - 23s 3s/step - loss: 0.4366 - accuracy: 0.2814 - sensitivity: 1.0000 - specificity: 0.0000e+00 - dice_coefficient: 0.4205 - jaccard_index: 0.2817 - auc_5: 0.5106 - val_loss: 0.1606 - val_accuracy: 0.4199 - val_sensitivity: 1.0000 - val_specificity: 0.0000e+00 - val_dice_coefficient: 0.5529 - val_jaccard_index: 0.4196 - val_auc_5: 0.4855\n",
            "Epoch 11/50\n",
            "8/8 [==============================] - 23s 3s/step - loss: 0.4366 - accuracy: 0.2814 - sensitivity: 1.0000 - specificity: 0.0000e+00 - dice_coefficient: 0.4205 - jaccard_index: 0.2817 - auc_5: 0.5107 - val_loss: 0.1606 - val_accuracy: 0.4199 - val_sensitivity: 1.0000 - val_specificity: 0.0000e+00 - val_dice_coefficient: 0.5529 - val_jaccard_index: 0.4196 - val_auc_5: 0.4855\n",
            "\n",
            "Spatial Filtering\n",
            "2/2 [==============================] - 2s 463ms/step - loss: 0.2374 - accuracy: 0.3790 - sensitivity: 1.0000 - specificity: 0.0000e+00 - dice_coefficient: 0.5760 - jaccard_index: 0.4508 - auc_5: 0.5648\n",
            "Test Loss: 0.2373969852924347\n",
            "Test Accuracy: 0.3789505064487457\n",
            "Test Sensitivity: 1.0\n",
            "Test Specificity: 0.0\n",
            "Test Dice Coefficient: 0.5760266184806824\n",
            "Test Jaccard Index: 0.4507720172405243\n",
            "Test AUC: 0.5648161768913269\n"
          ]
        }
      ],
      "source": [
        "#################### Spatial Filtering ####################\n",
        "#################### Spatial Filtering ####################\n",
        "#################### Spatial Filtering ####################\n",
        "model = tf.keras.Model(inputs=[inputs], outputs=[outputs])\n",
        "model.compile(optimizer='Adagrad', loss=shape_aware_loss,\n",
        "              metrics=['accuracy', sensitivity, specificity, dice_coefficient, jaccard_index, tf.keras.metrics.AUC()])\n",
        "\n",
        "callbacks = [tf.keras.callbacks.EarlyStopping(patience=3, monitor='val_loss'), tf.keras.callbacks.TensorBoard(log_dir='logs')]\n",
        "results = model.fit(X_TRAIN_Enhancement, Y_TRAIN_TARGET, validation_split=0.2, batch_size=16, epochs=50, callbacks=callbacks)\n",
        "\n",
        "print('\\nSpatial Filtering')\n",
        "model_results(model, X_TEST_Enhancement)"
      ]
    },
    {
      "cell_type": "markdown",
      "metadata": {
        "id": "j-NrHKK30SuG"
      },
      "source": [
        "## High-Pass Filtering"
      ]
    },
    {
      "cell_type": "code",
      "execution_count": null,
      "metadata": {
        "id": "yiPgOJg-0UwD"
      },
      "outputs": [],
      "source": [
        "def apply_high_pass_filter(X):\n",
        "    X_filtered = np.empty_like(X)\n",
        "\n",
        "    for i in range(X.shape[0]):\n",
        "        for channel in range(X.shape[3]):\n",
        "            image = X[i, :, :, channel]\n",
        "            filtered_image = cv2.Laplacian(image, cv2.CV_64F)\n",
        "            filtered_image = np.uint8(np.abs(filtered_image))\n",
        "\n",
        "            X_filtered[i, :, :, channel] = filtered_image\n",
        "\n",
        "    return X_filtered\n",
        "\n",
        "X_TRAIN_Enhancement = apply_high_pass_filter(X_train)\n",
        "X_TEST_Enhancement = apply_high_pass_filter(X_test)"
      ]
    },
    {
      "cell_type": "code",
      "execution_count": null,
      "metadata": {
        "colab": {
          "base_uri": "https://localhost:8080/"
        },
        "id": "r8SWErj90U0N",
        "outputId": "ba8347da-bce4-4b10-b7ab-1f8fc3df6786"
      },
      "outputs": [
        {
          "name": "stdout",
          "output_type": "stream",
          "text": [
            "Epoch 1/50\n",
            "8/8 [==============================] - 26s 3s/step - loss: 0.4267 - accuracy: 0.2814 - sensitivity: 1.0000 - specificity: 0.0000e+00 - dice_coefficient: 0.4254 - jaccard_index: 0.2855 - auc_6: 0.7974 - val_loss: 0.1523 - val_accuracy: 0.4199 - val_sensitivity: 1.0000 - val_specificity: 0.0000e+00 - val_dice_coefficient: 0.5554 - val_jaccard_index: 0.4206 - val_auc_6: 0.8162\n",
            "Epoch 2/50\n",
            "8/8 [==============================] - 24s 3s/step - loss: 0.4266 - accuracy: 0.2814 - sensitivity: 1.0000 - specificity: 0.0000e+00 - dice_coefficient: 0.4255 - jaccard_index: 0.2856 - auc_6: 0.7988 - val_loss: 0.1522 - val_accuracy: 0.4199 - val_sensitivity: 1.0000 - val_specificity: 0.0000e+00 - val_dice_coefficient: 0.5554 - val_jaccard_index: 0.4206 - val_auc_6: 0.8163\n",
            "Epoch 3/50\n",
            "8/8 [==============================] - 22s 3s/step - loss: 0.4266 - accuracy: 0.2814 - sensitivity: 1.0000 - specificity: 0.0000e+00 - dice_coefficient: 0.4255 - jaccard_index: 0.2856 - auc_6: 0.7982 - val_loss: 0.1521 - val_accuracy: 0.4199 - val_sensitivity: 1.0000 - val_specificity: 0.0000e+00 - val_dice_coefficient: 0.5554 - val_jaccard_index: 0.4207 - val_auc_6: 0.8163\n",
            "Epoch 4/50\n",
            "8/8 [==============================] - 24s 3s/step - loss: 0.4264 - accuracy: 0.2814 - sensitivity: 1.0000 - specificity: 0.0000e+00 - dice_coefficient: 0.4255 - jaccard_index: 0.2856 - auc_6: 0.7984 - val_loss: 0.1520 - val_accuracy: 0.4199 - val_sensitivity: 1.0000 - val_specificity: 0.0000e+00 - val_dice_coefficient: 0.5555 - val_jaccard_index: 0.4207 - val_auc_6: 0.8163\n",
            "Epoch 5/50\n",
            "8/8 [==============================] - 22s 3s/step - loss: 0.4267 - accuracy: 0.2814 - sensitivity: 1.0000 - specificity: 0.0000e+00 - dice_coefficient: 0.4256 - jaccard_index: 0.2856 - auc_6: 0.7981 - val_loss: 0.1519 - val_accuracy: 0.4199 - val_sensitivity: 1.0000 - val_specificity: 0.0000e+00 - val_dice_coefficient: 0.5555 - val_jaccard_index: 0.4207 - val_auc_6: 0.8164\n",
            "Epoch 6/50\n",
            "8/8 [==============================] - 24s 3s/step - loss: 0.4266 - accuracy: 0.2814 - sensitivity: 1.0000 - specificity: 0.0000e+00 - dice_coefficient: 0.4256 - jaccard_index: 0.2857 - auc_6: 0.7993 - val_loss: 0.1518 - val_accuracy: 0.4199 - val_sensitivity: 1.0000 - val_specificity: 0.0000e+00 - val_dice_coefficient: 0.5556 - val_jaccard_index: 0.4208 - val_auc_6: 0.8164\n",
            "Epoch 7/50\n",
            "8/8 [==============================] - 23s 3s/step - loss: 0.4262 - accuracy: 0.2814 - sensitivity: 1.0000 - specificity: 0.0000e+00 - dice_coefficient: 0.4257 - jaccard_index: 0.2857 - auc_6: 0.7993 - val_loss: 0.1517 - val_accuracy: 0.4199 - val_sensitivity: 1.0000 - val_specificity: 0.0000e+00 - val_dice_coefficient: 0.5556 - val_jaccard_index: 0.4208 - val_auc_6: 0.8164\n",
            "Epoch 8/50\n",
            "8/8 [==============================] - 22s 3s/step - loss: 0.4262 - accuracy: 0.2814 - sensitivity: 1.0000 - specificity: 0.0000e+00 - dice_coefficient: 0.4257 - jaccard_index: 0.2858 - auc_6: 0.8000 - val_loss: 0.1516 - val_accuracy: 0.4199 - val_sensitivity: 1.0000 - val_specificity: 0.0000e+00 - val_dice_coefficient: 0.5557 - val_jaccard_index: 0.4209 - val_auc_6: 0.8165\n",
            "Epoch 9/50\n",
            "8/8 [==============================] - 23s 3s/step - loss: 0.4261 - accuracy: 0.2814 - sensitivity: 1.0000 - specificity: 0.0000e+00 - dice_coefficient: 0.4258 - jaccard_index: 0.2858 - auc_6: 0.8006 - val_loss: 0.1515 - val_accuracy: 0.4199 - val_sensitivity: 1.0000 - val_specificity: 0.0000e+00 - val_dice_coefficient: 0.5557 - val_jaccard_index: 0.4209 - val_auc_6: 0.8165\n",
            "Epoch 10/50\n",
            "8/8 [==============================] - 22s 3s/step - loss: 0.4258 - accuracy: 0.2814 - sensitivity: 1.0000 - specificity: 0.0000e+00 - dice_coefficient: 0.4258 - jaccard_index: 0.2859 - auc_6: 0.8004 - val_loss: 0.1514 - val_accuracy: 0.4199 - val_sensitivity: 1.0000 - val_specificity: 0.0000e+00 - val_dice_coefficient: 0.5558 - val_jaccard_index: 0.4210 - val_auc_6: 0.8165\n",
            "Epoch 11/50\n",
            "8/8 [==============================] - 23s 3s/step - loss: 0.4257 - accuracy: 0.2814 - sensitivity: 1.0000 - specificity: 0.0000e+00 - dice_coefficient: 0.4259 - jaccard_index: 0.2859 - auc_6: 0.8012 - val_loss: 0.1513 - val_accuracy: 0.4199 - val_sensitivity: 1.0000 - val_specificity: 0.0000e+00 - val_dice_coefficient: 0.5558 - val_jaccard_index: 0.4210 - val_auc_6: 0.8165\n",
            "Epoch 12/50\n",
            "8/8 [==============================] - 22s 3s/step - loss: 0.4258 - accuracy: 0.2814 - sensitivity: 1.0000 - specificity: 0.0000e+00 - dice_coefficient: 0.4259 - jaccard_index: 0.2859 - auc_6: 0.8008 - val_loss: 0.1512 - val_accuracy: 0.4199 - val_sensitivity: 1.0000 - val_specificity: 0.0000e+00 - val_dice_coefficient: 0.5558 - val_jaccard_index: 0.4211 - val_auc_6: 0.8166\n",
            "Epoch 13/50\n",
            "8/8 [==============================] - 24s 3s/step - loss: 0.4258 - accuracy: 0.2814 - sensitivity: 1.0000 - specificity: 0.0000e+00 - dice_coefficient: 0.4260 - jaccard_index: 0.2860 - auc_6: 0.8018 - val_loss: 0.1511 - val_accuracy: 0.4199 - val_sensitivity: 1.0000 - val_specificity: 0.0000e+00 - val_dice_coefficient: 0.5559 - val_jaccard_index: 0.4211 - val_auc_6: 0.8166\n",
            "Epoch 14/50\n",
            "8/8 [==============================] - 24s 3s/step - loss: 0.4258 - accuracy: 0.2814 - sensitivity: 1.0000 - specificity: 0.0000e+00 - dice_coefficient: 0.4260 - jaccard_index: 0.2860 - auc_6: 0.8017 - val_loss: 0.1510 - val_accuracy: 0.4199 - val_sensitivity: 1.0000 - val_specificity: 0.0000e+00 - val_dice_coefficient: 0.5559 - val_jaccard_index: 0.4212 - val_auc_6: 0.8166\n",
            "Epoch 15/50\n",
            "8/8 [==============================] - 24s 3s/step - loss: 0.4256 - accuracy: 0.2814 - sensitivity: 1.0000 - specificity: 0.0000e+00 - dice_coefficient: 0.4261 - jaccard_index: 0.2861 - auc_6: 0.8026 - val_loss: 0.1509 - val_accuracy: 0.4199 - val_sensitivity: 1.0000 - val_specificity: 0.0000e+00 - val_dice_coefficient: 0.5560 - val_jaccard_index: 0.4212 - val_auc_6: 0.8166\n",
            "Epoch 16/50\n",
            "8/8 [==============================] - 21s 3s/step - loss: 0.4254 - accuracy: 0.2814 - sensitivity: 1.0000 - specificity: 0.0000e+00 - dice_coefficient: 0.4261 - jaccard_index: 0.2861 - auc_6: 0.8031 - val_loss: 0.1508 - val_accuracy: 0.4199 - val_sensitivity: 1.0000 - val_specificity: 0.0000e+00 - val_dice_coefficient: 0.5560 - val_jaccard_index: 0.4213 - val_auc_6: 0.8166\n",
            "Epoch 17/50\n",
            "8/8 [==============================] - 24s 3s/step - loss: 0.4252 - accuracy: 0.2814 - sensitivity: 1.0000 - specificity: 0.0000e+00 - dice_coefficient: 0.4261 - jaccard_index: 0.2861 - auc_6: 0.8025 - val_loss: 0.1507 - val_accuracy: 0.4199 - val_sensitivity: 1.0000 - val_specificity: 0.0000e+00 - val_dice_coefficient: 0.5561 - val_jaccard_index: 0.4213 - val_auc_6: 0.8167\n",
            "Epoch 18/50\n",
            "8/8 [==============================] - 32s 4s/step - loss: 0.4254 - accuracy: 0.2814 - sensitivity: 1.0000 - specificity: 0.0000e+00 - dice_coefficient: 0.4262 - jaccard_index: 0.2862 - auc_6: 0.8030 - val_loss: 0.1506 - val_accuracy: 0.4199 - val_sensitivity: 1.0000 - val_specificity: 0.0000e+00 - val_dice_coefficient: 0.5561 - val_jaccard_index: 0.4213 - val_auc_6: 0.8167\n",
            "Epoch 19/50\n",
            "8/8 [==============================] - 28s 4s/step - loss: 0.4251 - accuracy: 0.2814 - sensitivity: 1.0000 - specificity: 0.0000e+00 - dice_coefficient: 0.4263 - jaccard_index: 0.2862 - auc_6: 0.8032 - val_loss: 0.1505 - val_accuracy: 0.4199 - val_sensitivity: 1.0000 - val_specificity: 0.0000e+00 - val_dice_coefficient: 0.5561 - val_jaccard_index: 0.4214 - val_auc_6: 0.8167\n",
            "Epoch 20/50\n",
            "8/8 [==============================] - 31s 4s/step - loss: 0.4252 - accuracy: 0.2814 - sensitivity: 1.0000 - specificity: 0.0000e+00 - dice_coefficient: 0.4263 - jaccard_index: 0.2863 - auc_6: 0.8038 - val_loss: 0.1504 - val_accuracy: 0.4199 - val_sensitivity: 1.0000 - val_specificity: 0.0000e+00 - val_dice_coefficient: 0.5562 - val_jaccard_index: 0.4214 - val_auc_6: 0.8168\n",
            "Epoch 21/50\n",
            "8/8 [==============================] - 29s 4s/step - loss: 0.4251 - accuracy: 0.2814 - sensitivity: 1.0000 - specificity: 0.0000e+00 - dice_coefficient: 0.4264 - jaccard_index: 0.2863 - auc_6: 0.8044 - val_loss: 0.1503 - val_accuracy: 0.4199 - val_sensitivity: 1.0000 - val_specificity: 0.0000e+00 - val_dice_coefficient: 0.5562 - val_jaccard_index: 0.4215 - val_auc_6: 0.8168\n",
            "Epoch 22/50\n",
            "8/8 [==============================] - 25s 3s/step - loss: 0.4248 - accuracy: 0.2814 - sensitivity: 1.0000 - specificity: 0.0000e+00 - dice_coefficient: 0.4264 - jaccard_index: 0.2864 - auc_6: 0.8041 - val_loss: 0.1502 - val_accuracy: 0.4199 - val_sensitivity: 1.0000 - val_specificity: 0.0000e+00 - val_dice_coefficient: 0.5563 - val_jaccard_index: 0.4215 - val_auc_6: 0.8168\n",
            "Epoch 23/50\n",
            "8/8 [==============================] - 27s 3s/step - loss: 0.4247 - accuracy: 0.2814 - sensitivity: 1.0000 - specificity: 0.0000e+00 - dice_coefficient: 0.4265 - jaccard_index: 0.2864 - auc_6: 0.8052 - val_loss: 0.1501 - val_accuracy: 0.4199 - val_sensitivity: 1.0000 - val_specificity: 0.0000e+00 - val_dice_coefficient: 0.5563 - val_jaccard_index: 0.4216 - val_auc_6: 0.8168\n",
            "Epoch 24/50\n",
            "8/8 [==============================] - 28s 4s/step - loss: 0.4248 - accuracy: 0.2814 - sensitivity: 1.0000 - specificity: 0.0000e+00 - dice_coefficient: 0.4265 - jaccard_index: 0.2865 - auc_6: 0.8053 - val_loss: 0.1500 - val_accuracy: 0.4199 - val_sensitivity: 1.0000 - val_specificity: 0.0000e+00 - val_dice_coefficient: 0.5564 - val_jaccard_index: 0.4216 - val_auc_6: 0.8169\n",
            "Epoch 25/50\n",
            "8/8 [==============================] - 29s 4s/step - loss: 0.4244 - accuracy: 0.2814 - sensitivity: 1.0000 - specificity: 0.0000e+00 - dice_coefficient: 0.4266 - jaccard_index: 0.2865 - auc_6: 0.8054 - val_loss: 0.1499 - val_accuracy: 0.4199 - val_sensitivity: 1.0000 - val_specificity: 0.0000e+00 - val_dice_coefficient: 0.5564 - val_jaccard_index: 0.4216 - val_auc_6: 0.8169\n",
            "Epoch 26/50\n",
            "8/8 [==============================] - 29s 4s/step - loss: 0.4246 - accuracy: 0.2814 - sensitivity: 1.0000 - specificity: 0.0000e+00 - dice_coefficient: 0.4266 - jaccard_index: 0.2865 - auc_6: 0.8050 - val_loss: 0.1497 - val_accuracy: 0.4199 - val_sensitivity: 1.0000 - val_specificity: 0.0000e+00 - val_dice_coefficient: 0.5564 - val_jaccard_index: 0.4217 - val_auc_6: 0.8169\n",
            "Epoch 27/50\n",
            "8/8 [==============================] - 27s 3s/step - loss: 0.4243 - accuracy: 0.2814 - sensitivity: 1.0000 - specificity: 0.0000e+00 - dice_coefficient: 0.4267 - jaccard_index: 0.2866 - auc_6: 0.8054 - val_loss: 0.1496 - val_accuracy: 0.4199 - val_sensitivity: 1.0000 - val_specificity: 0.0000e+00 - val_dice_coefficient: 0.5565 - val_jaccard_index: 0.4217 - val_auc_6: 0.8169\n",
            "Epoch 28/50\n",
            "8/8 [==============================] - 27s 3s/step - loss: 0.4244 - accuracy: 0.2814 - sensitivity: 1.0000 - specificity: 0.0000e+00 - dice_coefficient: 0.4267 - jaccard_index: 0.2866 - auc_6: 0.8053 - val_loss: 0.1495 - val_accuracy: 0.4199 - val_sensitivity: 1.0000 - val_specificity: 0.0000e+00 - val_dice_coefficient: 0.5565 - val_jaccard_index: 0.4218 - val_auc_6: 0.8170\n",
            "Epoch 29/50\n",
            "8/8 [==============================] - 25s 3s/step - loss: 0.4240 - accuracy: 0.2814 - sensitivity: 1.0000 - specificity: 0.0000e+00 - dice_coefficient: 0.4268 - jaccard_index: 0.2867 - auc_6: 0.8065 - val_loss: 0.1494 - val_accuracy: 0.4199 - val_sensitivity: 1.0000 - val_specificity: 0.0000e+00 - val_dice_coefficient: 0.5566 - val_jaccard_index: 0.4218 - val_auc_6: 0.8170\n",
            "Epoch 30/50\n",
            "8/8 [==============================] - 30s 4s/step - loss: 0.4240 - accuracy: 0.2814 - sensitivity: 1.0000 - specificity: 0.0000e+00 - dice_coefficient: 0.4268 - jaccard_index: 0.2867 - auc_6: 0.8057 - val_loss: 0.1493 - val_accuracy: 0.4199 - val_sensitivity: 1.0000 - val_specificity: 0.0000e+00 - val_dice_coefficient: 0.5566 - val_jaccard_index: 0.4219 - val_auc_6: 0.8170\n",
            "Epoch 31/50\n",
            "8/8 [==============================] - 27s 3s/step - loss: 0.4243 - accuracy: 0.2814 - sensitivity: 1.0000 - specificity: 0.0000e+00 - dice_coefficient: 0.4269 - jaccard_index: 0.2868 - auc_6: 0.8069 - val_loss: 0.1492 - val_accuracy: 0.4199 - val_sensitivity: 1.0000 - val_specificity: 0.0000e+00 - val_dice_coefficient: 0.5567 - val_jaccard_index: 0.4219 - val_auc_6: 0.8170\n",
            "Epoch 32/50\n",
            "8/8 [==============================] - 22s 3s/step - loss: 0.4240 - accuracy: 0.2814 - sensitivity: 1.0000 - specificity: 0.0000e+00 - dice_coefficient: 0.4270 - jaccard_index: 0.2868 - auc_6: 0.8074 - val_loss: 0.1491 - val_accuracy: 0.4199 - val_sensitivity: 1.0000 - val_specificity: 0.0000e+00 - val_dice_coefficient: 0.5567 - val_jaccard_index: 0.4220 - val_auc_6: 0.8170\n",
            "Epoch 33/50\n",
            "8/8 [==============================] - 27s 3s/step - loss: 0.4239 - accuracy: 0.2814 - sensitivity: 1.0000 - specificity: 0.0000e+00 - dice_coefficient: 0.4270 - jaccard_index: 0.2869 - auc_6: 0.8070 - val_loss: 0.1490 - val_accuracy: 0.4199 - val_sensitivity: 1.0000 - val_specificity: 0.0000e+00 - val_dice_coefficient: 0.5568 - val_jaccard_index: 0.4220 - val_auc_6: 0.8171\n",
            "Epoch 34/50\n",
            "8/8 [==============================] - 24s 3s/step - loss: 0.4237 - accuracy: 0.2814 - sensitivity: 1.0000 - specificity: 0.0000e+00 - dice_coefficient: 0.4270 - jaccard_index: 0.2869 - auc_6: 0.8079 - val_loss: 0.1489 - val_accuracy: 0.4199 - val_sensitivity: 1.0000 - val_specificity: 0.0000e+00 - val_dice_coefficient: 0.5568 - val_jaccard_index: 0.4220 - val_auc_6: 0.8171\n",
            "Epoch 35/50\n",
            "8/8 [==============================] - 32s 4s/step - loss: 0.4237 - accuracy: 0.2814 - sensitivity: 1.0000 - specificity: 0.0000e+00 - dice_coefficient: 0.4271 - jaccard_index: 0.2870 - auc_6: 0.8077 - val_loss: 0.1488 - val_accuracy: 0.4199 - val_sensitivity: 1.0000 - val_specificity: 0.0000e+00 - val_dice_coefficient: 0.5568 - val_jaccard_index: 0.4221 - val_auc_6: 0.8171\n",
            "Epoch 36/50\n",
            "8/8 [==============================] - 28s 4s/step - loss: 0.4234 - accuracy: 0.2814 - sensitivity: 1.0000 - specificity: 0.0000e+00 - dice_coefficient: 0.4272 - jaccard_index: 0.2870 - auc_6: 0.8083 - val_loss: 0.1487 - val_accuracy: 0.4199 - val_sensitivity: 1.0000 - val_specificity: 0.0000e+00 - val_dice_coefficient: 0.5569 - val_jaccard_index: 0.4221 - val_auc_6: 0.8172\n",
            "Epoch 37/50\n",
            "8/8 [==============================] - 22s 3s/step - loss: 0.4235 - accuracy: 0.2814 - sensitivity: 1.0000 - specificity: 0.0000e+00 - dice_coefficient: 0.4272 - jaccard_index: 0.2871 - auc_6: 0.8079 - val_loss: 0.1486 - val_accuracy: 0.4199 - val_sensitivity: 1.0000 - val_specificity: 0.0000e+00 - val_dice_coefficient: 0.5569 - val_jaccard_index: 0.4222 - val_auc_6: 0.8172\n",
            "Epoch 38/50\n",
            "8/8 [==============================] - 28s 4s/step - loss: 0.4232 - accuracy: 0.2814 - sensitivity: 1.0000 - specificity: 0.0000e+00 - dice_coefficient: 0.4273 - jaccard_index: 0.2871 - auc_6: 0.8086 - val_loss: 0.1484 - val_accuracy: 0.4199 - val_sensitivity: 1.0000 - val_specificity: 0.0000e+00 - val_dice_coefficient: 0.5570 - val_jaccard_index: 0.4222 - val_auc_6: 0.8172\n",
            "Epoch 39/50\n",
            "8/8 [==============================] - 28s 4s/step - loss: 0.4232 - accuracy: 0.2814 - sensitivity: 1.0000 - specificity: 0.0000e+00 - dice_coefficient: 0.4274 - jaccard_index: 0.2872 - auc_6: 0.8090 - val_loss: 0.1483 - val_accuracy: 0.4199 - val_sensitivity: 1.0000 - val_specificity: 0.0000e+00 - val_dice_coefficient: 0.5570 - val_jaccard_index: 0.4223 - val_auc_6: 0.8172\n",
            "Epoch 40/50\n",
            "8/8 [==============================] - 23s 3s/step - loss: 0.4231 - accuracy: 0.2814 - sensitivity: 1.0000 - specificity: 0.0000e+00 - dice_coefficient: 0.4273 - jaccard_index: 0.2872 - auc_6: 0.8079 - val_loss: 0.1482 - val_accuracy: 0.4199 - val_sensitivity: 1.0000 - val_specificity: 0.0000e+00 - val_dice_coefficient: 0.5571 - val_jaccard_index: 0.4223 - val_auc_6: 0.8172\n",
            "Epoch 41/50\n",
            "8/8 [==============================] - 32s 4s/step - loss: 0.4231 - accuracy: 0.2814 - sensitivity: 1.0000 - specificity: 0.0000e+00 - dice_coefficient: 0.4275 - jaccard_index: 0.2873 - auc_6: 0.8090 - val_loss: 0.1481 - val_accuracy: 0.4199 - val_sensitivity: 1.0000 - val_specificity: 0.0000e+00 - val_dice_coefficient: 0.5571 - val_jaccard_index: 0.4223 - val_auc_6: 0.8172\n",
            "Epoch 42/50\n",
            "8/8 [==============================] - 31s 4s/step - loss: 0.4229 - accuracy: 0.2814 - sensitivity: 1.0000 - specificity: 0.0000e+00 - dice_coefficient: 0.4275 - jaccard_index: 0.2873 - auc_6: 0.8097 - val_loss: 0.1480 - val_accuracy: 0.4199 - val_sensitivity: 1.0000 - val_specificity: 0.0000e+00 - val_dice_coefficient: 0.5572 - val_jaccard_index: 0.4224 - val_auc_6: 0.8172\n",
            "Epoch 43/50\n",
            "8/8 [==============================] - 31s 4s/step - loss: 0.4226 - accuracy: 0.2814 - sensitivity: 1.0000 - specificity: 0.0000e+00 - dice_coefficient: 0.4276 - jaccard_index: 0.2874 - auc_6: 0.8105 - val_loss: 0.1479 - val_accuracy: 0.4199 - val_sensitivity: 1.0000 - val_specificity: 0.0000e+00 - val_dice_coefficient: 0.5572 - val_jaccard_index: 0.4224 - val_auc_6: 0.8172\n",
            "Epoch 44/50\n",
            "8/8 [==============================] - 23s 3s/step - loss: 0.4228 - accuracy: 0.2814 - sensitivity: 1.0000 - specificity: 0.0000e+00 - dice_coefficient: 0.4276 - jaccard_index: 0.2874 - auc_6: 0.8101 - val_loss: 0.1477 - val_accuracy: 0.4199 - val_sensitivity: 1.0000 - val_specificity: 0.0000e+00 - val_dice_coefficient: 0.5573 - val_jaccard_index: 0.4225 - val_auc_6: 0.8173\n",
            "Epoch 45/50\n",
            "8/8 [==============================] - 25s 3s/step - loss: 0.4227 - accuracy: 0.2814 - sensitivity: 1.0000 - specificity: 0.0000e+00 - dice_coefficient: 0.4276 - jaccard_index: 0.2874 - auc_6: 0.8097 - val_loss: 0.1476 - val_accuracy: 0.4199 - val_sensitivity: 1.0000 - val_specificity: 0.0000e+00 - val_dice_coefficient: 0.5573 - val_jaccard_index: 0.4225 - val_auc_6: 0.8173\n",
            "Epoch 46/50\n",
            "8/8 [==============================] - 22s 3s/step - loss: 0.4223 - accuracy: 0.2814 - sensitivity: 1.0000 - specificity: 0.0000e+00 - dice_coefficient: 0.4278 - jaccard_index: 0.2876 - auc_6: 0.8113 - val_loss: 0.1475 - val_accuracy: 0.4199 - val_sensitivity: 1.0000 - val_specificity: 0.0000e+00 - val_dice_coefficient: 0.5574 - val_jaccard_index: 0.4226 - val_auc_6: 0.8173\n",
            "Epoch 47/50\n",
            "8/8 [==============================] - 24s 3s/step - loss: 0.4224 - accuracy: 0.2814 - sensitivity: 1.0000 - specificity: 0.0000e+00 - dice_coefficient: 0.4278 - jaccard_index: 0.2876 - auc_6: 0.8109 - val_loss: 0.1474 - val_accuracy: 0.4199 - val_sensitivity: 1.0000 - val_specificity: 0.0000e+00 - val_dice_coefficient: 0.5574 - val_jaccard_index: 0.4226 - val_auc_6: 0.8173\n",
            "Epoch 48/50\n",
            "8/8 [==============================] - 22s 3s/step - loss: 0.4222 - accuracy: 0.2814 - sensitivity: 1.0000 - specificity: 0.0000e+00 - dice_coefficient: 0.4279 - jaccard_index: 0.2877 - auc_6: 0.8113 - val_loss: 0.1473 - val_accuracy: 0.4199 - val_sensitivity: 1.0000 - val_specificity: 0.0000e+00 - val_dice_coefficient: 0.5575 - val_jaccard_index: 0.4227 - val_auc_6: 0.8173\n",
            "Epoch 49/50\n",
            "8/8 [==============================] - 23s 3s/step - loss: 0.4220 - accuracy: 0.2814 - sensitivity: 1.0000 - specificity: 0.0000e+00 - dice_coefficient: 0.4280 - jaccard_index: 0.2877 - auc_6: 0.8120 - val_loss: 0.1472 - val_accuracy: 0.4199 - val_sensitivity: 1.0000 - val_specificity: 0.0000e+00 - val_dice_coefficient: 0.5575 - val_jaccard_index: 0.4227 - val_auc_6: 0.8173\n",
            "Epoch 50/50\n",
            "8/8 [==============================] - 22s 3s/step - loss: 0.4220 - accuracy: 0.2814 - sensitivity: 1.0000 - specificity: 0.0000e+00 - dice_coefficient: 0.4280 - jaccard_index: 0.2878 - auc_6: 0.8119 - val_loss: 0.1470 - val_accuracy: 0.4199 - val_sensitivity: 1.0000 - val_specificity: 0.0000e+00 - val_dice_coefficient: 0.5575 - val_jaccard_index: 0.4228 - val_auc_6: 0.8173\n",
            "\n",
            "High-Pass Filtering\n",
            "2/2 [==============================] - 2s 287ms/step - loss: 0.2326 - accuracy: 0.3790 - sensitivity: 1.0000 - specificity: 0.0000e+00 - dice_coefficient: 0.5731 - jaccard_index: 0.4429 - auc_6: 0.8634\n",
            "Test Loss: 0.2326010912656784\n",
            "Test Accuracy: 0.3789505064487457\n",
            "Test Sensitivity: 1.0\n",
            "Test Specificity: 0.0\n",
            "Test Dice Coefficient: 0.5730558633804321\n",
            "Test Jaccard Index: 0.4429291784763336\n",
            "Test AUC: 0.8634116053581238\n"
          ]
        }
      ],
      "source": [
        "#################### High-Pass Filtering ####################\n",
        "#################### High-Pass Filtering ####################\n",
        "#################### High-Pass Filtering ####################\n",
        "model = tf.keras.Model(inputs=[inputs], outputs=[outputs])\n",
        "model.compile(optimizer='Adagrad', loss=shape_aware_loss,\n",
        "              metrics=['accuracy', sensitivity, specificity, dice_coefficient, jaccard_index, tf.keras.metrics.AUC()])\n",
        "\n",
        "callbacks = [tf.keras.callbacks.EarlyStopping(patience=3, monitor='val_loss'), tf.keras.callbacks.TensorBoard(log_dir='logs')]\n",
        "results = model.fit(X_TRAIN_Enhancement, Y_TRAIN_TARGET, validation_split=0.2, batch_size=16, epochs=50, callbacks=callbacks)\n",
        "\n",
        "print('\\nHigh-Pass Filtering')\n",
        "model_results(model, X_TEST_Enhancement)"
      ]
    },
    {
      "cell_type": "code",
      "execution_count": null,
      "metadata": {
        "id": "VY2YdF68xrzr"
      },
      "outputs": [],
      "source": [
        "def apply_high_pass_filter(X):\n",
        "    X_filtered = np.empty_like(X)\n",
        "\n",
        "    for i in range(X.shape[0]):\n",
        "        for channel in range(X.shape[3]):\n",
        "            image = X[i, :, :, channel]\n",
        "            filtered_image = cv2.Laplacian(image, cv2.CV_64F)\n",
        "            filtered_image = np.uint8(np.abs(filtered_image))\n",
        "\n",
        "            X_filtered[i, :, :, channel] = filtered_image\n",
        "\n",
        "    X_combined = np.concatenate((X, X_filtered), axis=0)\n",
        "\n",
        "    return X_combined\n",
        "\n",
        "X_TRAIN_Enhancement = apply_high_pass_filter(X_train)\n",
        "X_TEST_Enhancement = apply_high_pass_filter(X_test)\n",
        "Y_TRAIN_Enhancement = np.concatenate((Y_TRAIN_TARGET, Y_TRAIN_TARGET), axis=0)\n",
        "Y_TEST_Enhancement = np.concatenate((Y_TEST_TARGET, Y_TEST_TARGET), axis=0)"
      ]
    },
    {
      "cell_type": "code",
      "execution_count": null,
      "metadata": {
        "colab": {
          "base_uri": "https://localhost:8080/"
        },
        "id": "1wSDNq4lhD78",
        "outputId": "8b3f7977-f800-46aa-cd2d-37371c148119"
      },
      "outputs": [
        {
          "name": "stdout",
          "output_type": "stream",
          "text": [
            "Epoch 1/50\n",
            "16/16 [==============================] - 51s 3s/step - loss: 0.5664 - accuracy: 0.5847 - sensitivity: 0.0968 - specificity: 0.7866 - dice_coefficient: 0.3327 - jaccard_index: 0.2054 - auc_2: 0.5105 - val_loss: 0.4669 - val_accuracy: 0.3707 - val_sensitivity: 0.2634 - val_specificity: 0.4399 - val_dice_coefficient: 0.3948 - val_jaccard_index: 0.2537 - val_auc_2: 0.3207\n",
            "Epoch 2/50\n",
            "16/16 [==============================] - 39s 2s/step - loss: 0.5638 - accuracy: 0.5561 - sensitivity: 0.1478 - specificity: 0.7306 - dice_coefficient: 0.3349 - jaccard_index: 0.2071 - auc_2: 0.5121 - val_loss: 0.4649 - val_accuracy: 0.3423 - val_sensitivity: 0.3643 - val_specificity: 0.3358 - val_dice_coefficient: 0.3960 - val_jaccard_index: 0.2547 - val_auc_2: 0.3333\n",
            "Epoch 3/50\n",
            "16/16 [==============================] - 40s 3s/step - loss: 0.5611 - accuracy: 0.5386 - sensitivity: 0.1852 - specificity: 0.6846 - dice_coefficient: 0.3365 - jaccard_index: 0.2084 - auc_2: 0.5133 - val_loss: 0.4632 - val_accuracy: 0.3326 - val_sensitivity: 0.4575 - val_specificity: 0.2656 - val_dice_coefficient: 0.3970 - val_jaccard_index: 0.2556 - val_auc_2: 0.3464\n",
            "Epoch 4/50\n",
            "16/16 [==============================] - 40s 3s/step - loss: 0.5589 - accuracy: 0.5284 - sensitivity: 0.2246 - specificity: 0.6533 - dice_coefficient: 0.3377 - jaccard_index: 0.2095 - auc_2: 0.5160 - val_loss: 0.4618 - val_accuracy: 0.3323 - val_sensitivity: 0.5385 - val_specificity: 0.2172 - val_dice_coefficient: 0.3978 - val_jaccard_index: 0.2563 - val_auc_2: 0.3531\n",
            "Epoch 5/50\n",
            "16/16 [==============================] - 39s 2s/step - loss: 0.5567 - accuracy: 0.5220 - sensitivity: 0.2580 - specificity: 0.6306 - dice_coefficient: 0.3388 - jaccard_index: 0.2104 - auc_2: 0.5166 - val_loss: 0.4606 - val_accuracy: 0.3364 - val_sensitivity: 0.6073 - val_specificity: 0.1827 - val_dice_coefficient: 0.3985 - val_jaccard_index: 0.2569 - val_auc_2: 0.3543\n",
            "Epoch 6/50\n",
            "16/16 [==============================] - 42s 3s/step - loss: 0.5548 - accuracy: 0.5166 - sensitivity: 0.2923 - specificity: 0.6095 - dice_coefficient: 0.3397 - jaccard_index: 0.2111 - auc_2: 0.5164 - val_loss: 0.4596 - val_accuracy: 0.3429 - val_sensitivity: 0.6665 - val_specificity: 0.1574 - val_dice_coefficient: 0.3991 - val_jaccard_index: 0.2574 - val_auc_2: 0.3581\n",
            "Epoch 7/50\n",
            "16/16 [==============================] - 40s 2s/step - loss: 0.5541 - accuracy: 0.5135 - sensitivity: 0.3257 - specificity: 0.5944 - dice_coefficient: 0.3406 - jaccard_index: 0.2118 - auc_2: 0.5174 - val_loss: 0.4587 - val_accuracy: 0.3498 - val_sensitivity: 0.7159 - val_specificity: 0.1384 - val_dice_coefficient: 0.3996 - val_jaccard_index: 0.2578 - val_auc_2: 0.3656\n",
            "Epoch 8/50\n",
            "16/16 [==============================] - 40s 3s/step - loss: 0.5542 - accuracy: 0.5106 - sensitivity: 0.3543 - specificity: 0.5787 - dice_coefficient: 0.3412 - jaccard_index: 0.2124 - auc_2: 0.5180 - val_loss: 0.4578 - val_accuracy: 0.3559 - val_sensitivity: 0.7569 - val_specificity: 0.1231 - val_dice_coefficient: 0.4001 - val_jaccard_index: 0.2583 - val_auc_2: 0.3766\n",
            "Epoch 9/50\n",
            "16/16 [==============================] - 38s 2s/step - loss: 0.5518 - accuracy: 0.5093 - sensitivity: 0.3777 - specificity: 0.5640 - dice_coefficient: 0.3418 - jaccard_index: 0.2129 - auc_2: 0.5205 - val_loss: 0.4571 - val_accuracy: 0.3615 - val_sensitivity: 0.7912 - val_specificity: 0.1109 - val_dice_coefficient: 0.4005 - val_jaccard_index: 0.2586 - val_auc_2: 0.3900\n",
            "Epoch 10/50\n",
            "16/16 [==============================] - 40s 2s/step - loss: 0.5519 - accuracy: 0.5082 - sensitivity: 0.4066 - specificity: 0.5558 - dice_coefficient: 0.3424 - jaccard_index: 0.2134 - auc_2: 0.5228 - val_loss: 0.4564 - val_accuracy: 0.3661 - val_sensitivity: 0.8195 - val_specificity: 0.1007 - val_dice_coefficient: 0.4009 - val_jaccard_index: 0.2590 - val_auc_2: 0.4038\n",
            "Epoch 11/50\n",
            "16/16 [==============================] - 40s 3s/step - loss: 0.5510 - accuracy: 0.5070 - sensitivity: 0.4236 - specificity: 0.5431 - dice_coefficient: 0.3428 - jaccard_index: 0.2138 - auc_2: 0.5253 - val_loss: 0.4558 - val_accuracy: 0.3699 - val_sensitivity: 0.8431 - val_specificity: 0.0923 - val_dice_coefficient: 0.4012 - val_jaccard_index: 0.2593 - val_auc_2: 0.4167\n",
            "Epoch 12/50\n",
            "16/16 [==============================] - 40s 3s/step - loss: 0.5490 - accuracy: 0.5064 - sensitivity: 0.4403 - specificity: 0.5343 - dice_coefficient: 0.3433 - jaccard_index: 0.2141 - auc_2: 0.5280 - val_loss: 0.4553 - val_accuracy: 0.3733 - val_sensitivity: 0.8633 - val_specificity: 0.0851 - val_dice_coefficient: 0.4016 - val_jaccard_index: 0.2595 - val_auc_2: 0.4273\n",
            "Epoch 13/50\n",
            "16/16 [==============================] - 38s 2s/step - loss: 0.5494 - accuracy: 0.5053 - sensitivity: 0.4666 - specificity: 0.5256 - dice_coefficient: 0.3437 - jaccard_index: 0.2145 - auc_2: 0.5292 - val_loss: 0.4548 - val_accuracy: 0.3757 - val_sensitivity: 0.8797 - val_specificity: 0.0788 - val_dice_coefficient: 0.4019 - val_jaccard_index: 0.2598 - val_auc_2: 0.4337\n",
            "Epoch 14/50\n",
            "16/16 [==============================] - 39s 2s/step - loss: 0.5495 - accuracy: 0.5048 - sensitivity: 0.4836 - specificity: 0.5161 - dice_coefficient: 0.3441 - jaccard_index: 0.2148 - auc_2: 0.5302 - val_loss: 0.4543 - val_accuracy: 0.3777 - val_sensitivity: 0.8937 - val_specificity: 0.0733 - val_dice_coefficient: 0.4021 - val_jaccard_index: 0.2600 - val_auc_2: 0.4355\n",
            "Epoch 15/50\n",
            "16/16 [==============================] - 41s 3s/step - loss: 0.5483 - accuracy: 0.5040 - sensitivity: 0.4966 - specificity: 0.5065 - dice_coefficient: 0.3444 - jaccard_index: 0.2151 - auc_2: 0.5305 - val_loss: 0.4538 - val_accuracy: 0.3795 - val_sensitivity: 0.9058 - val_specificity: 0.0685 - val_dice_coefficient: 0.4024 - val_jaccard_index: 0.2603 - val_auc_2: 0.4321\n",
            "Epoch 16/50\n",
            "16/16 [==============================] - 41s 3s/step - loss: 0.5472 - accuracy: 0.5030 - sensitivity: 0.5163 - specificity: 0.4978 - dice_coefficient: 0.3447 - jaccard_index: 0.2154 - auc_2: 0.5299 - val_loss: 0.4534 - val_accuracy: 0.3807 - val_sensitivity: 0.9159 - val_specificity: 0.0642 - val_dice_coefficient: 0.4027 - val_jaccard_index: 0.2605 - val_auc_2: 0.4266\n",
            "Epoch 17/50\n",
            "16/16 [==============================] - 38s 2s/step - loss: 0.5466 - accuracy: 0.5021 - sensitivity: 0.5327 - specificity: 0.4911 - dice_coefficient: 0.3450 - jaccard_index: 0.2156 - auc_2: 0.5299 - val_loss: 0.4530 - val_accuracy: 0.3818 - val_sensitivity: 0.9248 - val_specificity: 0.0603 - val_dice_coefficient: 0.4029 - val_jaccard_index: 0.2607 - val_auc_2: 0.4250\n",
            "Epoch 18/50\n",
            "16/16 [==============================] - 40s 2s/step - loss: 0.5463 - accuracy: 0.5018 - sensitivity: 0.5527 - specificity: 0.4869 - dice_coefficient: 0.3453 - jaccard_index: 0.2158 - auc_2: 0.5306 - val_loss: 0.4526 - val_accuracy: 0.3825 - val_sensitivity: 0.9321 - val_specificity: 0.0568 - val_dice_coefficient: 0.4031 - val_jaccard_index: 0.2609 - val_auc_2: 0.4283\n",
            "Epoch 19/50\n",
            "16/16 [==============================] - 40s 3s/step - loss: 0.5463 - accuracy: 0.5016 - sensitivity: 0.5630 - specificity: 0.4786 - dice_coefficient: 0.3456 - jaccard_index: 0.2161 - auc_2: 0.5320 - val_loss: 0.4522 - val_accuracy: 0.3832 - val_sensitivity: 0.9389 - val_specificity: 0.0537 - val_dice_coefficient: 0.4033 - val_jaccard_index: 0.2611 - val_auc_2: 0.4352\n",
            "Epoch 20/50\n",
            "16/16 [==============================] - 41s 3s/step - loss: 0.5453 - accuracy: 0.4999 - sensitivity: 0.5775 - specificity: 0.4681 - dice_coefficient: 0.3458 - jaccard_index: 0.2163 - auc_2: 0.5332 - val_loss: 0.4519 - val_accuracy: 0.3836 - val_sensitivity: 0.9445 - val_specificity: 0.0508 - val_dice_coefficient: 0.4035 - val_jaccard_index: 0.2613 - val_auc_2: 0.4447\n",
            "Epoch 21/50\n",
            "16/16 [==============================] - 38s 2s/step - loss: 0.5444 - accuracy: 0.4987 - sensitivity: 0.5955 - specificity: 0.4609 - dice_coefficient: 0.3461 - jaccard_index: 0.2165 - auc_2: 0.5349 - val_loss: 0.4516 - val_accuracy: 0.3838 - val_sensitivity: 0.9493 - val_specificity: 0.0481 - val_dice_coefficient: 0.4037 - val_jaccard_index: 0.2614 - val_auc_2: 0.4555\n",
            "Epoch 22/50\n",
            "16/16 [==============================] - 42s 3s/step - loss: 0.5448 - accuracy: 0.4983 - sensitivity: 0.6064 - specificity: 0.4543 - dice_coefficient: 0.3463 - jaccard_index: 0.2167 - auc_2: 0.5374 - val_loss: 0.4512 - val_accuracy: 0.3841 - val_sensitivity: 0.9538 - val_specificity: 0.0458 - val_dice_coefficient: 0.4039 - val_jaccard_index: 0.2616 - val_auc_2: 0.4666\n",
            "Epoch 23/50\n",
            "16/16 [==============================] - 40s 3s/step - loss: 0.5447 - accuracy: 0.4967 - sensitivity: 0.6260 - specificity: 0.4473 - dice_coefficient: 0.3465 - jaccard_index: 0.2168 - auc_2: 0.5393 - val_loss: 0.4509 - val_accuracy: 0.3842 - val_sensitivity: 0.9576 - val_specificity: 0.0436 - val_dice_coefficient: 0.4041 - val_jaccard_index: 0.2617 - val_auc_2: 0.4768\n",
            "Epoch 24/50\n",
            "16/16 [==============================] - 40s 3s/step - loss: 0.5451 - accuracy: 0.4958 - sensitivity: 0.6395 - specificity: 0.4444 - dice_coefficient: 0.3467 - jaccard_index: 0.2170 - auc_2: 0.5412 - val_loss: 0.4506 - val_accuracy: 0.3843 - val_sensitivity: 0.9611 - val_specificity: 0.0416 - val_dice_coefficient: 0.4043 - val_jaccard_index: 0.2619 - val_auc_2: 0.4863\n",
            "Epoch 25/50\n",
            "16/16 [==============================] - 38s 2s/step - loss: 0.5433 - accuracy: 0.4949 - sensitivity: 0.6464 - specificity: 0.4346 - dice_coefficient: 0.3469 - jaccard_index: 0.2172 - auc_2: 0.5432 - val_loss: 0.4503 - val_accuracy: 0.3843 - val_sensitivity: 0.9641 - val_specificity: 0.0396 - val_dice_coefficient: 0.4044 - val_jaccard_index: 0.2620 - val_auc_2: 0.4942\n",
            "Epoch 26/50\n",
            "16/16 [==============================] - 39s 2s/step - loss: 0.5443 - accuracy: 0.4936 - sensitivity: 0.6564 - specificity: 0.4265 - dice_coefficient: 0.3471 - jaccard_index: 0.2173 - auc_2: 0.5450 - val_loss: 0.4500 - val_accuracy: 0.3842 - val_sensitivity: 0.9669 - val_specificity: 0.0378 - val_dice_coefficient: 0.4046 - val_jaccard_index: 0.2622 - val_auc_2: 0.4995\n",
            "Epoch 27/50\n",
            "16/16 [==============================] - 41s 3s/step - loss: 0.5450 - accuracy: 0.4925 - sensitivity: 0.6691 - specificity: 0.4219 - dice_coefficient: 0.3473 - jaccard_index: 0.2175 - auc_2: 0.5462 - val_loss: 0.4498 - val_accuracy: 0.3842 - val_sensitivity: 0.9694 - val_specificity: 0.0362 - val_dice_coefficient: 0.4048 - val_jaccard_index: 0.2623 - val_auc_2: 0.5022\n",
            "Epoch 28/50\n",
            "16/16 [==============================] - 38s 2s/step - loss: 0.5433 - accuracy: 0.4910 - sensitivity: 0.6800 - specificity: 0.4132 - dice_coefficient: 0.3475 - jaccard_index: 0.2177 - auc_2: 0.5469 - val_loss: 0.4495 - val_accuracy: 0.3841 - val_sensitivity: 0.9716 - val_specificity: 0.0347 - val_dice_coefficient: 0.4049 - val_jaccard_index: 0.2625 - val_auc_2: 0.5014\n",
            "Epoch 29/50\n",
            "16/16 [==============================] - 39s 2s/step - loss: 0.5429 - accuracy: 0.4896 - sensitivity: 0.6903 - specificity: 0.4075 - dice_coefficient: 0.3476 - jaccard_index: 0.2178 - auc_2: 0.5473 - val_loss: 0.4492 - val_accuracy: 0.3840 - val_sensitivity: 0.9737 - val_specificity: 0.0332 - val_dice_coefficient: 0.4051 - val_jaccard_index: 0.2626 - val_auc_2: 0.4980\n",
            "Epoch 30/50\n",
            "16/16 [==============================] - 40s 3s/step - loss: 0.5419 - accuracy: 0.4875 - sensitivity: 0.7008 - specificity: 0.3974 - dice_coefficient: 0.3478 - jaccard_index: 0.2179 - auc_2: 0.5469 - val_loss: 0.4490 - val_accuracy: 0.3838 - val_sensitivity: 0.9755 - val_specificity: 0.0318 - val_dice_coefficient: 0.4052 - val_jaccard_index: 0.2627 - val_auc_2: 0.4923\n",
            "Epoch 31/50\n",
            "16/16 [==============================] - 41s 3s/step - loss: 0.5415 - accuracy: 0.4862 - sensitivity: 0.7112 - specificity: 0.3926 - dice_coefficient: 0.3480 - jaccard_index: 0.2181 - auc_2: 0.5469 - val_loss: 0.4487 - val_accuracy: 0.3837 - val_sensitivity: 0.9770 - val_specificity: 0.0306 - val_dice_coefficient: 0.4054 - val_jaccard_index: 0.2629 - val_auc_2: 0.4853\n",
            "Epoch 32/50\n",
            "16/16 [==============================] - 48s 3s/step - loss: 0.5413 - accuracy: 0.4841 - sensitivity: 0.7237 - specificity: 0.3847 - dice_coefficient: 0.3481 - jaccard_index: 0.2182 - auc_2: 0.5469 - val_loss: 0.4485 - val_accuracy: 0.3835 - val_sensitivity: 0.9786 - val_specificity: 0.0293 - val_dice_coefficient: 0.4055 - val_jaccard_index: 0.2630 - val_auc_2: 0.4815\n",
            "Epoch 33/50\n",
            "16/16 [==============================] - 42s 3s/step - loss: 0.5410 - accuracy: 0.4832 - sensitivity: 0.7337 - specificity: 0.3818 - dice_coefficient: 0.3483 - jaccard_index: 0.2183 - auc_2: 0.5477 - val_loss: 0.4482 - val_accuracy: 0.3834 - val_sensitivity: 0.9799 - val_specificity: 0.0283 - val_dice_coefficient: 0.4057 - val_jaccard_index: 0.2631 - val_auc_2: 0.4830\n",
            "Epoch 34/50\n",
            "16/16 [==============================] - 42s 3s/step - loss: 0.5409 - accuracy: 0.4814 - sensitivity: 0.7417 - specificity: 0.3747 - dice_coefficient: 0.3484 - jaccard_index: 0.2185 - auc_2: 0.5479 - val_loss: 0.4480 - val_accuracy: 0.3832 - val_sensitivity: 0.9811 - val_specificity: 0.0272 - val_dice_coefficient: 0.4058 - val_jaccard_index: 0.2632 - val_auc_2: 0.4879\n",
            "Epoch 35/50\n",
            "16/16 [==============================] - 38s 2s/step - loss: 0.5417 - accuracy: 0.4800 - sensitivity: 0.7506 - specificity: 0.3685 - dice_coefficient: 0.3486 - jaccard_index: 0.2186 - auc_2: 0.5492 - val_loss: 0.4477 - val_accuracy: 0.3829 - val_sensitivity: 0.9822 - val_specificity: 0.0262 - val_dice_coefficient: 0.4060 - val_jaccard_index: 0.2634 - val_auc_2: 0.4946\n",
            "Epoch 36/50\n",
            "16/16 [==============================] - 40s 2s/step - loss: 0.5409 - accuracy: 0.4779 - sensitivity: 0.7618 - specificity: 0.3655 - dice_coefficient: 0.3487 - jaccard_index: 0.2187 - auc_2: 0.5502 - val_loss: 0.4475 - val_accuracy: 0.3828 - val_sensitivity: 0.9833 - val_specificity: 0.0253 - val_dice_coefficient: 0.4061 - val_jaccard_index: 0.2635 - val_auc_2: 0.5024\n",
            "Epoch 37/50\n",
            "16/16 [==============================] - 40s 3s/step - loss: 0.5410 - accuracy: 0.4766 - sensitivity: 0.7658 - specificity: 0.3574 - dice_coefficient: 0.3489 - jaccard_index: 0.2188 - auc_2: 0.5525 - val_loss: 0.4473 - val_accuracy: 0.3826 - val_sensitivity: 0.9842 - val_specificity: 0.0243 - val_dice_coefficient: 0.4062 - val_jaccard_index: 0.2636 - val_auc_2: 0.5110\n",
            "Epoch 38/50\n",
            "16/16 [==============================] - 40s 3s/step - loss: 0.5412 - accuracy: 0.4751 - sensitivity: 0.7758 - specificity: 0.3515 - dice_coefficient: 0.3490 - jaccard_index: 0.2190 - auc_2: 0.5544 - val_loss: 0.4470 - val_accuracy: 0.3824 - val_sensitivity: 0.9850 - val_specificity: 0.0235 - val_dice_coefficient: 0.4064 - val_jaccard_index: 0.2637 - val_auc_2: 0.5192\n",
            "Epoch 39/50\n",
            "16/16 [==============================] - 39s 2s/step - loss: 0.5401 - accuracy: 0.4731 - sensitivity: 0.7833 - specificity: 0.3459 - dice_coefficient: 0.3492 - jaccard_index: 0.2191 - auc_2: 0.5557 - val_loss: 0.4468 - val_accuracy: 0.3823 - val_sensitivity: 0.9859 - val_specificity: 0.0228 - val_dice_coefficient: 0.4065 - val_jaccard_index: 0.2639 - val_auc_2: 0.5265\n",
            "Epoch 40/50\n",
            "16/16 [==============================] - 40s 2s/step - loss: 0.5401 - accuracy: 0.4719 - sensitivity: 0.7880 - specificity: 0.3415 - dice_coefficient: 0.3493 - jaccard_index: 0.2192 - auc_2: 0.5574 - val_loss: 0.4466 - val_accuracy: 0.3821 - val_sensitivity: 0.9867 - val_specificity: 0.0219 - val_dice_coefficient: 0.4066 - val_jaccard_index: 0.2640 - val_auc_2: 0.5323\n",
            "Epoch 41/50\n",
            "16/16 [==============================] - 41s 3s/step - loss: 0.5395 - accuracy: 0.4697 - sensitivity: 0.7950 - specificity: 0.3345 - dice_coefficient: 0.3494 - jaccard_index: 0.2193 - auc_2: 0.5584 - val_loss: 0.4463 - val_accuracy: 0.3818 - val_sensitivity: 0.9873 - val_specificity: 0.0212 - val_dice_coefficient: 0.4068 - val_jaccard_index: 0.2641 - val_auc_2: 0.5362\n",
            "Epoch 42/50\n",
            "16/16 [==============================] - 42s 3s/step - loss: 0.5398 - accuracy: 0.4677 - sensitivity: 0.8066 - specificity: 0.3317 - dice_coefficient: 0.3496 - jaccard_index: 0.2194 - auc_2: 0.5592 - val_loss: 0.4461 - val_accuracy: 0.3816 - val_sensitivity: 0.9879 - val_specificity: 0.0204 - val_dice_coefficient: 0.4069 - val_jaccard_index: 0.2642 - val_auc_2: 0.5376\n",
            "Epoch 43/50\n",
            "16/16 [==============================] - 39s 2s/step - loss: 0.5393 - accuracy: 0.4672 - sensitivity: 0.8067 - specificity: 0.3265 - dice_coefficient: 0.3497 - jaccard_index: 0.2195 - auc_2: 0.5604 - val_loss: 0.4459 - val_accuracy: 0.3814 - val_sensitivity: 0.9885 - val_specificity: 0.0198 - val_dice_coefficient: 0.4070 - val_jaccard_index: 0.2643 - val_auc_2: 0.5370\n",
            "Epoch 44/50\n",
            "16/16 [==============================] - 40s 2s/step - loss: 0.5393 - accuracy: 0.4646 - sensitivity: 0.8158 - specificity: 0.3206 - dice_coefficient: 0.3498 - jaccard_index: 0.2196 - auc_2: 0.5607 - val_loss: 0.4456 - val_accuracy: 0.3813 - val_sensitivity: 0.9890 - val_specificity: 0.0191 - val_dice_coefficient: 0.4072 - val_jaccard_index: 0.2644 - val_auc_2: 0.5338\n",
            "Epoch 45/50\n",
            "16/16 [==============================] - 41s 3s/step - loss: 0.5389 - accuracy: 0.4620 - sensitivity: 0.8243 - specificity: 0.3141 - dice_coefficient: 0.3500 - jaccard_index: 0.2197 - auc_2: 0.5605 - val_loss: 0.4454 - val_accuracy: 0.3811 - val_sensitivity: 0.9895 - val_specificity: 0.0186 - val_dice_coefficient: 0.4073 - val_jaccard_index: 0.2646 - val_auc_2: 0.5288\n",
            "Epoch 46/50\n",
            "16/16 [==============================] - 43s 3s/step - loss: 0.5384 - accuracy: 0.4610 - sensitivity: 0.8283 - specificity: 0.3103 - dice_coefficient: 0.3501 - jaccard_index: 0.2198 - auc_2: 0.5607 - val_loss: 0.4452 - val_accuracy: 0.3810 - val_sensitivity: 0.9901 - val_specificity: 0.0180 - val_dice_coefficient: 0.4074 - val_jaccard_index: 0.2647 - val_auc_2: 0.5225\n",
            "Epoch 47/50\n",
            "16/16 [==============================] - 43s 3s/step - loss: 0.5387 - accuracy: 0.4595 - sensitivity: 0.8315 - specificity: 0.3057 - dice_coefficient: 0.3502 - jaccard_index: 0.2200 - auc_2: 0.5613 - val_loss: 0.4450 - val_accuracy: 0.3808 - val_sensitivity: 0.9905 - val_specificity: 0.0174 - val_dice_coefficient: 0.4076 - val_jaccard_index: 0.2648 - val_auc_2: 0.5176\n",
            "Epoch 48/50\n",
            "16/16 [==============================] - 42s 3s/step - loss: 0.5386 - accuracy: 0.4571 - sensitivity: 0.8393 - specificity: 0.3002 - dice_coefficient: 0.3504 - jaccard_index: 0.2201 - auc_2: 0.5619 - val_loss: 0.4447 - val_accuracy: 0.3807 - val_sensitivity: 0.9910 - val_specificity: 0.0169 - val_dice_coefficient: 0.4077 - val_jaccard_index: 0.2649 - val_auc_2: 0.5169\n",
            "Epoch 49/50\n",
            "16/16 [==============================] - 38s 2s/step - loss: 0.5376 - accuracy: 0.4555 - sensitivity: 0.8421 - specificity: 0.2954 - dice_coefficient: 0.3505 - jaccard_index: 0.2202 - auc_2: 0.5625 - val_loss: 0.4445 - val_accuracy: 0.3805 - val_sensitivity: 0.9914 - val_specificity: 0.0165 - val_dice_coefficient: 0.4078 - val_jaccard_index: 0.2650 - val_auc_2: 0.5201\n",
            "Epoch 50/50\n",
            "16/16 [==============================] - 41s 2s/step - loss: 0.5371 - accuracy: 0.4541 - sensitivity: 0.8476 - specificity: 0.2909 - dice_coefficient: 0.3506 - jaccard_index: 0.2203 - auc_2: 0.5637 - val_loss: 0.4443 - val_accuracy: 0.3804 - val_sensitivity: 0.9918 - val_specificity: 0.0160 - val_dice_coefficient: 0.4080 - val_jaccard_index: 0.2651 - val_auc_2: 0.5257\n"
          ]
        }
      ],
      "source": [
        "#################### High-Pass Filtering ####################\n",
        "#################### High-Pass Filtering ####################\n",
        "#################### High-Pass Filtering ####################\n",
        "model = tf.keras.Model(inputs=[inputs], outputs=[outputs])\n",
        "model.compile(optimizer='Adagrad', loss=shape_aware_loss,\n",
        "              metrics=['accuracy', sensitivity, specificity, dice_coefficient, jaccard_index, tf.keras.metrics.AUC()])\n",
        "\n",
        "callbacks = [tf.keras.callbacks.EarlyStopping(patience=10, monitor='val_loss'), tf.keras.callbacks.TensorBoard(log_dir='logs')]\n",
        "results = model.fit(X_TRAIN_Enhancement, Y_TRAIN_Enhancement, validation_split=0.2, batch_size=16, epochs=50, callbacks=callbacks)"
      ]
    },
    {
      "cell_type": "markdown",
      "metadata": {
        "id": "ELbs4wD31c5f"
      },
      "source": [
        "## Image Enhancement\n",
        "\n",
        "After a comprehensive analysis of our Image Enhancement techniques, it becomes apparent that these methods failed to enhance the overall performance of our model's segmentation. Nevertheless, it is crucial to acknowledge that these techniques remain valid options for image segmentation tasks when applied judiciously.\n",
        "\n",
        "In terms of our conclusions, it is worth noting that they align with the findings in the context of edge detection. However, we also attempted to augment the dataset by combining the filtered data with the unfiltered data through High-Pass Filtering, effectively doubling the dataset size. Regrettably, this approach did not yield improved results, and in fact, it often led to poorer outcomes during the model's training and development.\n",
        "\n",
        "This outcome may be surprising, considering that the model generally performs well when presented with data that hasn't undergone extensive preprocessing. This observation is particularly noteworthy given that we worked with a limited subset of the data, using 128 images for training, 32 for validation, and 40 for testing.\n",
        "\n",
        "In summary, none of the applied techniques succeeded in enhancing the results."
      ]
    },
    {
      "cell_type": "markdown",
      "metadata": {
        "id": "ck3t1gKiQwgz"
      },
      "source": [
        "## Data Augmentation\n",
        "\n",
        "The last step in our preprocessing involves data augmentation, which includes performing rotations of 90, 180, and 270 degrees for each image."
      ]
    },
    {
      "cell_type": "code",
      "execution_count": null,
      "metadata": {
        "id": "ZANVCNTscxFQ"
      },
      "outputs": [],
      "source": [
        "# Assuming X_TRAIN_IMAGE and Y_TRAIN_TARGET are EagerTensor objects\n",
        "# Convert them to NumPy arrays\n",
        "X_TRAIN_IMAGE_array = X_TRAIN_IMAGE.numpy()\n",
        "Y_TRAIN_TARGET_array = Y_TRAIN_TARGET.numpy()\n",
        "\n",
        "# Set the random seed for reproducibility\n",
        "np.random.seed(42)\n",
        "\n",
        "# Shuffle the data and labels together to maintain their correspondence\n",
        "# If you have a shared axis, you can use np.random.permutation to shuffle them\n",
        "# This example assumes that the data and labels have the same length\n",
        "shuffled_indices = np.random.permutation(len(X_TRAIN_IMAGE_array))\n",
        "X_TRAIN_IMAGE_array = X_TRAIN_IMAGE_array[shuffled_indices]\n",
        "Y_TRAIN_TARGET_array = Y_TRAIN_TARGET_array[shuffled_indices]\n",
        "\n",
        "# Calculate the split indices\n",
        "split_ratio = 0.8\n",
        "split_index = int(len(X_TRAIN_IMAGE_array) * split_ratio)\n",
        "\n",
        "# Split the data and labels into training and testing sets\n",
        "X_train = X_TRAIN_IMAGE_array[:split_index]\n",
        "Y_train = Y_TRAIN_TARGET_array[:split_index]\n",
        "X_val = X_TRAIN_IMAGE_array[split_index:]\n",
        "Y_val = Y_TRAIN_TARGET_array[split_index:]"
      ]
    },
    {
      "cell_type": "code",
      "execution_count": null,
      "metadata": {
        "colab": {
          "base_uri": "https://localhost:8080/"
        },
        "id": "zHdVVWAjg-tS",
        "outputId": "765787f2-55b3-431d-d7d1-b055b62bd7cc"
      },
      "outputs": [
        {
          "name": "stdout",
          "output_type": "stream",
          "text": [
            "(640, 128, 128, 3)\n",
            "(640, 128, 128, 1)\n"
          ]
        }
      ],
      "source": [
        "import tensorflow as tf\n",
        "\n",
        "# Assuming X_train and Y_train are NumPy arrays\n",
        "# Convert them back to TensorFlow tensors\n",
        "X_train = tf.convert_to_tensor(X_train)\n",
        "Y_train = tf.convert_to_tensor(Y_train)\n",
        "\n",
        "# Create empty arrays to store augmented data\n",
        "X_train_augmented = []\n",
        "Y_train_augmented = []\n",
        "\n",
        "# Loop through each image in X_train and Y_train\n",
        "for x, y in zip(X_train, Y_train):\n",
        "    x = tf.expand_dims(x, 0)  # Expand dimensions to (1, 128, 128, 3)\n",
        "    y = tf.expand_dims(y, 0)  # Expand dimensions to (1, 128, 128, 1)\n",
        "\n",
        "    # Perform rotations\n",
        "    rotated_x = []\n",
        "    rotated_y = []\n",
        "\n",
        "    for angle in [0, 90, 180, 270]:\n",
        "        x_rotated = tf.image.rot90(x, k=angle // 90)\n",
        "        y_rotated = tf.image.rot90(y, k=angle // 90)\n",
        "\n",
        "        rotated_x.append(x_rotated)\n",
        "        rotated_y.append(y_rotated)\n",
        "\n",
        "    # Concatenate rotated images\n",
        "    rotated_x = tf.concat(rotated_x, axis=0)\n",
        "    rotated_y = tf.concat(rotated_y, axis=0)\n",
        "\n",
        "    X_train_augmented.append(rotated_x)\n",
        "    Y_train_augmented.append(rotated_y)\n",
        "\n",
        "# Concatenate the original and augmented data\n",
        "X_train_augmented = tf.concat([X_train] + X_train_augmented, axis=0)\n",
        "Y_train_augmented = tf.concat([Y_train] + Y_train_augmented, axis=0)\n",
        "\n",
        "# Verify the shapes (should be consistent)\n",
        "print(X_train_augmented.shape)\n",
        "print(Y_train_augmented.shape)\n"
      ]
    },
    {
      "cell_type": "code",
      "execution_count": null,
      "metadata": {
        "id": "KZYlcrhudXID"
      },
      "outputs": [],
      "source": [
        "## Train\n",
        "X_TRAIN_IMAGE = tf.convert_to_tensor(X_train_augmented)\n",
        "Y_TRAIN_TARGET = tf.convert_to_tensor(Y_train_augmented)\n",
        "## Test\n",
        "X_VAL_IMAGE = tf.constant(X_val, dtype=tf.float32)\n",
        "Y_VAL_TARGET = tf.constant(Y_val, dtype=tf.float32)"
      ]
    },
    {
      "cell_type": "code",
      "execution_count": null,
      "metadata": {
        "colab": {
          "background_save": true,
          "base_uri": "https://localhost:8080/"
        },
        "id": "PRG0ZRIaHKm1",
        "outputId": "280d97b6-cb67-4acb-9601-6c178c2c3dbf"
      },
      "outputs": [
        {
          "name": "stdout",
          "output_type": "stream",
          "text": [
            "Epoch 1/10\n",
            "40/40 [==============================] - 156s 4s/step - loss: 0.7100 - accuracy: 0.4803 - sensitivity: 0.5782 - specificity: 0.4353 - dice_coefficient: 0.3646 - jaccard_index: 0.2307 - auc_2: 0.5042 - val_loss: 0.6773 - val_accuracy: 0.5344 - val_sensitivity: 0.4772 - val_specificity: 0.5567 - val_dice_coefficient: 0.3319 - val_jaccard_index: 0.2075 - val_auc_2: 0.5835\n",
            "Epoch 2/10\n",
            "40/40 [==============================] - 148s 4s/step - loss: 0.6585 - accuracy: 0.6259 - sensitivity: 0.3874 - specificity: 0.7335 - dice_coefficient: 0.3622 - jaccard_index: 0.2281 - auc_2: 0.6305 - val_loss: 0.6388 - val_accuracy: 0.7263 - val_sensitivity: 0.2931 - val_specificity: 0.8966 - val_dice_coefficient: 0.3315 - val_jaccard_index: 0.2064 - val_auc_2: 0.6819\n",
            "Epoch 3/10\n",
            "40/40 [==============================] - 149s 4s/step - loss: 0.6290 - accuracy: 0.7113 - sensitivity: 0.1923 - specificity: 0.9521 - dice_coefficient: 0.3600 - jaccard_index: 0.2258 - auc_2: 0.7064 - val_loss: 0.6135 - val_accuracy: 0.7386 - val_sensitivity: 0.1441 - val_specificity: 0.9733 - val_dice_coefficient: 0.3311 - val_jaccard_index: 0.2056 - val_auc_2: 0.7425\n",
            "Epoch 4/10\n",
            "40/40 [==============================] - 146s 4s/step - loss: 0.6092 - accuracy: 0.6970 - sensitivity: 0.0883 - specificity: 0.9774 - dice_coefficient: 0.3584 - jaccard_index: 0.2243 - auc_2: 0.7543 - val_loss: 0.5952 - val_accuracy: 0.7235 - val_sensitivity: 0.0711 - val_specificity: 0.9816 - val_dice_coefficient: 0.3307 - val_jaccard_index: 0.2049 - val_auc_2: 0.7794\n",
            "Epoch 5/10\n",
            "40/40 [==============================] - 159s 4s/step - loss: 0.5949 - accuracy: 0.6846 - sensitivity: 0.0434 - specificity: 0.9802 - dice_coefficient: 0.3572 - jaccard_index: 0.2230 - auc_2: 0.7837 - val_loss: 0.5811 - val_accuracy: 0.7151 - val_sensitivity: 0.0366 - val_specificity: 0.9837 - val_dice_coefficient: 0.3304 - val_jaccard_index: 0.2043 - val_auc_2: 0.8024\n",
            "Epoch 6/10\n",
            "40/40 [==============================] - 169s 4s/step - loss: 0.5841 - accuracy: 0.6788 - sensitivity: 0.0215 - specificity: 0.9815 - dice_coefficient: 0.3558 - jaccard_index: 0.2217 - auc_2: 0.8012 - val_loss: 0.5701 - val_accuracy: 0.7110 - val_sensitivity: 0.0205 - val_specificity: 0.9845 - val_dice_coefficient: 0.3301 - val_jaccard_index: 0.2038 - val_auc_2: 0.8176\n",
            "Epoch 7/10\n",
            "40/40 [==============================] - 183s 5s/step - loss: 0.5757 - accuracy: 0.6765 - sensitivity: 0.0124 - specificity: 0.9825 - dice_coefficient: 0.3547 - jaccard_index: 0.2207 - auc_2: 0.8138 - val_loss: 0.5612 - val_accuracy: 0.7091 - val_sensitivity: 0.0125 - val_specificity: 0.9852 - val_dice_coefficient: 0.3298 - val_jaccard_index: 0.2034 - val_auc_2: 0.8282\n",
            "Epoch 8/10\n",
            "40/40 [==============================] - 179s 4s/step - loss: 0.5690 - accuracy: 0.6754 - sensitivity: 0.0076 - specificity: 0.9830 - dice_coefficient: 0.3536 - jaccard_index: 0.2196 - auc_2: 0.8229 - val_loss: 0.5539 - val_accuracy: 0.7081 - val_sensitivity: 0.0081 - val_specificity: 0.9855 - val_dice_coefficient: 0.3297 - val_jaccard_index: 0.2031 - val_auc_2: 0.8361\n",
            "Epoch 9/10\n",
            "40/40 [==============================] - 175s 4s/step - loss: 0.5636 - accuracy: 0.6750 - sensitivity: 0.0051 - specificity: 0.9835 - dice_coefficient: 0.3528 - jaccard_index: 0.2188 - auc_2: 0.8300 - val_loss: 0.5477 - val_accuracy: 0.7077 - val_sensitivity: 0.0059 - val_specificity: 0.9858 - val_dice_coefficient: 0.3295 - val_jaccard_index: 0.2028 - val_auc_2: 0.8421\n",
            "Epoch 10/10\n",
            "40/40 [==============================] - 153s 4s/step - loss: 0.5591 - accuracy: 0.6748 - sensitivity: 0.0038 - specificity: 0.9838 - dice_coefficient: 0.3520 - jaccard_index: 0.2181 - auc_2: 0.8355 - val_loss: 0.5426 - val_accuracy: 0.7074 - val_sensitivity: 0.0046 - val_specificity: 0.9860 - val_dice_coefficient: 0.3295 - val_jaccard_index: 0.2026 - val_auc_2: 0.8468\n",
            "\n",
            "Rotation\n",
            "2/2 [==============================] - 5s 809ms/step - loss: 0.6483 - accuracy: 0.5954 - sensitivity: 0.0065 - specificity: 0.9657 - dice_coefficient: 0.3783 - jaccard_index: 0.2397 - auc_2: 0.6307\n",
            "Test Loss: 0.648349940776825\n",
            "Test Accuracy: 0.5953613519668579\n",
            "Test Sensitivity: 0.006489677354693413\n",
            "Test Specificity: 0.9657212495803833\n",
            "Test Dice Coefficient: 0.37829720973968506\n",
            "Test Jaccard Index: 0.23966094851493835\n",
            "Test AUC: 0.6307443380355835\n"
          ]
        }
      ],
      "source": [
        "#################### Rotation ####################\n",
        "#################### Rotation ####################\n",
        "#################### Rotation ####################\n",
        "del model\n",
        "model = tf.keras.Model(inputs=[inputs], outputs=[outputs])\n",
        "model.compile(optimizer=tf.keras.optimizers.Adagrad(learning_rate=0.0001), loss='binary_crossentropy',\n",
        "              metrics=['accuracy', sensitivity, specificity, dice_coefficient, jaccard_index, tf.keras.metrics.AUC()])\n",
        "\n",
        "callbacks = [tf.keras.callbacks.EarlyStopping(patience=2, monitor='val_loss'), tf.keras.callbacks.TensorBoard(log_dir='logs')]\n",
        "results = model.fit(X_TRAIN_IMAGE, Y_TRAIN_TARGET, validation_data=(X_VAL_IMAGE, Y_VAL_TARGET), batch_size=16, epochs=10, callbacks=callbacks)\n",
        "\n",
        "print('\\nRotation')\n",
        "model_results(model)"
      ]
    },
    {
      "cell_type": "markdown",
      "metadata": {
        "id": "VzU09KPN4_Ud"
      },
      "source": [
        "## Data Augmentation - Analysis\n",
        "\n",
        "Data augmentation appears to be a beneficial technique, especially when it comes to diversifying the images. Given that we apply rotations, it is logical to expect this to be a valuable approach, as the pathology we're dealing with can manifest in various shapes. Therefore, any modification to the shape should be relevant. However, it's important to emphasize that the effectiveness of these adjustments hinges on having a sufficiently large dataset.\n",
        "\n",
        "In our current application, the dataset is quite limited, resulting in only a handful of instances where rotations can make a difference. Considering the number of rotations performed, the model lacks the capacity to comprehensively capture all the patterns, which is evident from the consistent Jaccard values that don't exhibit notable improvements over repeated demonstrations. On the other hand, in terms of accuracy, the model seems to show some enhancement, even though this metric may not be particularly informative for this specific task."
      ]
    },
    {
      "cell_type": "markdown",
      "source": [
        "## Cross-Validation on the Best Model"
      ],
      "metadata": {
        "id": "yRKeU0D27-22"
      }
    },
    {
      "cell_type": "code",
      "source": [
        "def shape_aware_loss(y_true, y_pred):\n",
        "    y_true = tf.cast(y_true, tf.float32)\n",
        "    y_pred = tf.cast(y_pred, tf.float32)\n",
        "\n",
        "    intersection = tf.reduce_sum(y_true * y_pred)\n",
        "    union = tf.reduce_sum(y_true) + tf.reduce_sum(y_pred) - intersection\n",
        "    loss = 1.0 - (2.0 * intersection + 1.0) / (union + 1.0)\n",
        "\n",
        "    return loss\n",
        "\n",
        "# Create a K-Fold object\n",
        "n_folds = 5\n",
        "kf = KFold(n_splits=n_folds, shuffle=True, random_state=42)\n",
        "\n",
        "# Initialize a list to store the results from each fold\n",
        "fold_results = []\n",
        "\n",
        "\n",
        "for fold, (train_indices, val_indices) in enumerate(kf.split(X_train, Y_train)):\n",
        "    # Create a new model for each fold\n",
        "    model = tf.keras.Model(inputs=[inputs], outputs=[outputs])\n",
        "    model.compile(optimizer='Adagrad', loss=shape_aware_loss,\n",
        "                  metrics=['accuracy', sensitivity, specificity, dice_coefficient, jaccard_index, tf.keras.metrics.AUC()])\n",
        "\n",
        "    # Select the training and validation data for this fold\n",
        "    X_train_fold = X_train[train_indices]\n",
        "    Y_train_fold = Y_train[train_indices]\n",
        "    X_val_fold = X_train[val_indices]\n",
        "    Y_val_fold = Y_train[val_indices]\n",
        "\n",
        "    #  callbacks\n",
        "    callbacks = [tf.keras.callbacks.EarlyStopping(patience=10, monitor='val_loss'), tf.keras.callbacks.TensorBoard(log_dir=f'logs_fold_{fold}')]\n",
        "\n",
        "    # train the model\n",
        "    model.fit(X_train_fold, Y_train_fold, validation_data=(X_val_fold, Y_val_fold), batch_size=16, epochs=100, callbacks=callbacks)\n",
        "\n",
        "    # eval the model\n",
        "    fold_result = model.evaluate(X_val_fold, Y_val_fold, verbose=0)\n",
        "\n",
        "    # Append the fold result to the list\n",
        "    fold_results.append(fold_result)\n",
        "\n",
        "\n",
        "    print(f'\\nFold {fold + 1} - Shape-Aware Loss')\n",
        "    model_results(model)\n",
        "\n",
        "#mean and standard deviation of the fold results\n",
        "mean_results = np.mean(fold_results, axis=0)\n",
        "std_results = np.std(fold_results, axis=0)\n",
        "\n",
        "# Print the overall mean and standard deviation of the results\n",
        "print('\\nMean Results over', n_folds, 'folds:')\n",
        "print('Loss:', mean_results[0])\n",
        "print('Accuracy:', mean_results[1])\n",
        "print('Sensitivity:', mean_results[2])\n",
        "print('Specificity:', mean_results[3])\n",
        "print('Dice Coefficient:', mean_results[4])\n",
        "print('Jaccard Index:', mean_results[5])\n",
        "print('AUC:', mean_results[6])\n",
        "print('\\nStandard Deviation of Results over', n_folds, 'folds:')\n",
        "print('Loss:', std_results[0])\n",
        "print('Accuracy:', std_results[1])\n",
        "print('Sensitivity:', std_results[2])\n",
        "print('Specificity:', std_results[3])\n",
        "print('Dice Coefficient:', std_results[4])\n",
        "print('Jaccard Index:', std_results[5])\n",
        "print('AUC:', std_results[6])"
      ],
      "metadata": {
        "colab": {
          "base_uri": "https://localhost:8080/"
        },
        "id": "DOoqWL3E8CTY",
        "outputId": "d428c73a-dac7-4ccb-bb18-b262ef26c245"
      },
      "execution_count": 21,
      "outputs": [
        {
          "output_type": "stream",
          "name": "stdout",
          "text": [
            "Epoch 1/100\n",
            "8/8 [==============================] - 31s 3s/step - loss: -0.6166 - accuracy: 0.9351 - sensitivity: 0.8844 - specificity: 0.9624 - dice_coefficient: 0.8886 - jaccard_index: 0.8084 - auc_9: 0.9256 - val_loss: -0.6885 - val_accuracy: 0.9533 - val_sensitivity: 0.8693 - val_specificity: 0.9881 - val_dice_coefficient: 0.9015 - val_jaccard_index: 0.8331 - val_auc_9: 0.9416\n",
            "Epoch 2/100\n",
            "8/8 [==============================] - 23s 3s/step - loss: -0.6924 - accuracy: 0.9484 - sensitivity: 0.9086 - specificity: 0.9674 - dice_coefficient: 0.9100 - jaccard_index: 0.8418 - auc_9: 0.9486 - val_loss: -0.6934 - val_accuracy: 0.9541 - val_sensitivity: 0.8663 - val_specificity: 0.9905 - val_dice_coefficient: 0.9056 - val_jaccard_index: 0.8364 - val_auc_9: 0.9395\n",
            "Epoch 3/100\n",
            "8/8 [==============================] - 25s 3s/step - loss: -0.7095 - accuracy: 0.9515 - sensitivity: 0.9136 - specificity: 0.9687 - dice_coefficient: 0.9154 - jaccard_index: 0.8516 - auc_9: 0.9483 - val_loss: -0.6969 - val_accuracy: 0.9542 - val_sensitivity: 0.8773 - val_specificity: 0.9858 - val_dice_coefficient: 0.9105 - val_jaccard_index: 0.8420 - val_auc_9: 0.9396\n",
            "Epoch 4/100\n",
            "8/8 [==============================] - 24s 3s/step - loss: -0.7115 - accuracy: 0.9529 - sensitivity: 0.9192 - specificity: 0.9663 - dice_coefficient: 0.9197 - jaccard_index: 0.8577 - auc_9: 0.9511 - val_loss: -0.7042 - val_accuracy: 0.9554 - val_sensitivity: 0.8771 - val_specificity: 0.9879 - val_dice_coefficient: 0.9120 - val_jaccard_index: 0.8438 - val_auc_9: 0.9401\n",
            "Epoch 5/100\n",
            "8/8 [==============================] - 24s 3s/step - loss: -0.7377 - accuracy: 0.9566 - sensitivity: 0.9258 - specificity: 0.9706 - dice_coefficient: 0.9251 - jaccard_index: 0.8661 - auc_9: 0.9535 - val_loss: -0.6816 - val_accuracy: 0.9522 - val_sensitivity: 0.8564 - val_specificity: 0.9923 - val_dice_coefficient: 0.9050 - val_jaccard_index: 0.8319 - val_auc_9: 0.9329\n",
            "Epoch 6/100\n",
            "8/8 [==============================] - 25s 3s/step - loss: -0.7312 - accuracy: 0.9557 - sensitivity: 0.9247 - specificity: 0.9697 - dice_coefficient: 0.9215 - jaccard_index: 0.8605 - auc_9: 0.9531 - val_loss: -0.6250 - val_accuracy: 0.9442 - val_sensitivity: 0.8225 - val_specificity: 0.9949 - val_dice_coefficient: 0.8909 - val_jaccard_index: 0.8103 - val_auc_9: 0.9172\n",
            "Epoch 7/100\n",
            "8/8 [==============================] - 23s 3s/step - loss: -0.7088 - accuracy: 0.9514 - sensitivity: 0.9159 - specificity: 0.9694 - dice_coefficient: 0.9129 - jaccard_index: 0.8454 - auc_9: 0.9468 - val_loss: -0.6571 - val_accuracy: 0.9489 - val_sensitivity: 0.8438 - val_specificity: 0.9925 - val_dice_coefficient: 0.8949 - val_jaccard_index: 0.8215 - val_auc_9: 0.9274\n",
            "Epoch 8/100\n",
            "8/8 [==============================] - 25s 3s/step - loss: -0.7225 - accuracy: 0.9542 - sensitivity: 0.9256 - specificity: 0.9675 - dice_coefficient: 0.9173 - jaccard_index: 0.8531 - auc_9: 0.9528 - val_loss: -0.6602 - val_accuracy: 0.9494 - val_sensitivity: 0.8410 - val_specificity: 0.9947 - val_dice_coefficient: 0.9016 - val_jaccard_index: 0.8267 - val_auc_9: 0.9275\n",
            "Epoch 9/100\n",
            "8/8 [==============================] - 25s 3s/step - loss: -0.7505 - accuracy: 0.9587 - sensitivity: 0.9248 - specificity: 0.9737 - dice_coefficient: 0.9264 - jaccard_index: 0.8675 - auc_9: 0.9547 - val_loss: -0.7192 - val_accuracy: 0.9574 - val_sensitivity: 0.8877 - val_specificity: 0.9864 - val_dice_coefficient: 0.9189 - val_jaccard_index: 0.8548 - val_auc_9: 0.9431\n",
            "Epoch 10/100\n",
            "8/8 [==============================] - 23s 3s/step - loss: -0.7622 - accuracy: 0.9613 - sensitivity: 0.9290 - specificity: 0.9762 - dice_coefficient: 0.9324 - jaccard_index: 0.8768 - auc_9: 0.9579 - val_loss: -0.7290 - val_accuracy: 0.9583 - val_sensitivity: 0.9056 - val_specificity: 0.9800 - val_dice_coefficient: 0.9232 - val_jaccard_index: 0.8613 - val_auc_9: 0.9498\n",
            "Epoch 11/100\n",
            "8/8 [==============================] - 25s 3s/step - loss: -0.7520 - accuracy: 0.9591 - sensitivity: 0.9247 - specificity: 0.9757 - dice_coefficient: 0.9276 - jaccard_index: 0.8695 - auc_9: 0.9545 - val_loss: -0.7073 - val_accuracy: 0.9552 - val_sensitivity: 0.8888 - val_specificity: 0.9830 - val_dice_coefficient: 0.9030 - val_jaccard_index: 0.8335 - val_auc_9: 0.9425\n",
            "Epoch 12/100\n",
            "8/8 [==============================] - 24s 3s/step - loss: -0.7324 - accuracy: 0.9562 - sensitivity: 0.9261 - specificity: 0.9698 - dice_coefficient: 0.9245 - jaccard_index: 0.8637 - auc_9: 0.9532 - val_loss: -0.7159 - val_accuracy: 0.9568 - val_sensitivity: 0.8882 - val_specificity: 0.9853 - val_dice_coefficient: 0.9184 - val_jaccard_index: 0.8537 - val_auc_9: 0.9436\n",
            "Epoch 13/100\n",
            "8/8 [==============================] - 24s 3s/step - loss: -0.7693 - accuracy: 0.9617 - sensitivity: 0.9380 - specificity: 0.9730 - dice_coefficient: 0.9317 - jaccard_index: 0.8769 - auc_9: 0.9603 - val_loss: -0.7457 - val_accuracy: 0.9604 - val_sensitivity: 0.9250 - val_specificity: 0.9753 - val_dice_coefficient: 0.9257 - val_jaccard_index: 0.8644 - val_auc_9: 0.9560\n",
            "Epoch 14/100\n",
            "8/8 [==============================] - 26s 3s/step - loss: -0.7834 - accuracy: 0.9645 - sensitivity: 0.9405 - specificity: 0.9751 - dice_coefficient: 0.9369 - jaccard_index: 0.8840 - auc_9: 0.9633 - val_loss: -0.7114 - val_accuracy: 0.9566 - val_sensitivity: 0.8779 - val_specificity: 0.9892 - val_dice_coefficient: 0.9171 - val_jaccard_index: 0.8513 - val_auc_9: 0.9409\n",
            "Epoch 15/100\n",
            "8/8 [==============================] - 23s 3s/step - loss: -0.7893 - accuracy: 0.9658 - sensitivity: 0.9423 - specificity: 0.9768 - dice_coefficient: 0.9386 - jaccard_index: 0.8872 - auc_9: 0.9650 - val_loss: -0.6785 - val_accuracy: 0.9519 - val_sensitivity: 0.8548 - val_specificity: 0.9923 - val_dice_coefficient: 0.9025 - val_jaccard_index: 0.8297 - val_auc_9: 0.9318\n",
            "Epoch 16/100\n",
            "8/8 [==============================] - 25s 3s/step - loss: -0.7872 - accuracy: 0.9652 - sensitivity: 0.9390 - specificity: 0.9770 - dice_coefficient: 0.9396 - jaccard_index: 0.8882 - auc_9: 0.9633 - val_loss: -0.6685 - val_accuracy: 0.9506 - val_sensitivity: 0.8485 - val_specificity: 0.9931 - val_dice_coefficient: 0.8990 - val_jaccard_index: 0.8246 - val_auc_9: 0.9298\n",
            "Epoch 17/100\n",
            "8/8 [==============================] - 25s 3s/step - loss: -0.7954 - accuracy: 0.9665 - sensitivity: 0.9479 - specificity: 0.9750 - dice_coefficient: 0.9397 - jaccard_index: 0.8897 - auc_9: 0.9669 - val_loss: -0.6622 - val_accuracy: 0.9497 - val_sensitivity: 0.8437 - val_specificity: 0.9939 - val_dice_coefficient: 0.8884 - val_jaccard_index: 0.8143 - val_auc_9: 0.9283\n",
            "Epoch 18/100\n",
            "8/8 [==============================] - 23s 3s/step - loss: -0.7861 - accuracy: 0.9649 - sensitivity: 0.9342 - specificity: 0.9819 - dice_coefficient: 0.9380 - jaccard_index: 0.8873 - auc_9: 0.9604 - val_loss: -0.6660 - val_accuracy: 0.9501 - val_sensitivity: 0.8483 - val_specificity: 0.9926 - val_dice_coefficient: 0.8880 - val_jaccard_index: 0.8145 - val_auc_9: 0.9285\n",
            "Epoch 19/100\n",
            "8/8 [==============================] - 25s 3s/step - loss: -0.8003 - accuracy: 0.9674 - sensitivity: 0.9413 - specificity: 0.9800 - dice_coefficient: 0.9423 - jaccard_index: 0.8941 - auc_9: 0.9648 - val_loss: -0.7348 - val_accuracy: 0.9595 - val_sensitivity: 0.9011 - val_specificity: 0.9839 - val_dice_coefficient: 0.9232 - val_jaccard_index: 0.8607 - val_auc_9: 0.9486\n",
            "Epoch 20/100\n",
            "8/8 [==============================] - 24s 3s/step - loss: -0.8013 - accuracy: 0.9675 - sensitivity: 0.9474 - specificity: 0.9748 - dice_coefficient: 0.9437 - jaccard_index: 0.8955 - auc_9: 0.9669 - val_loss: -0.7345 - val_accuracy: 0.9596 - val_sensitivity: 0.8994 - val_specificity: 0.9846 - val_dice_coefficient: 0.9246 - val_jaccard_index: 0.8633 - val_auc_9: 0.9487\n",
            "Epoch 21/100\n",
            "8/8 [==============================] - 24s 3s/step - loss: -0.8087 - accuracy: 0.9693 - sensitivity: 0.9477 - specificity: 0.9794 - dice_coefficient: 0.9435 - jaccard_index: 0.8960 - auc_9: 0.9683 - val_loss: -0.6507 - val_accuracy: 0.9480 - val_sensitivity: 0.8371 - val_specificity: 0.9942 - val_dice_coefficient: 0.8829 - val_jaccard_index: 0.8091 - val_auc_9: 0.9235\n",
            "Epoch 22/100\n",
            "8/8 [==============================] - 25s 3s/step - loss: -0.7863 - accuracy: 0.9650 - sensitivity: 0.9389 - specificity: 0.9779 - dice_coefficient: 0.9372 - jaccard_index: 0.8854 - auc_9: 0.9619 - val_loss: -0.7102 - val_accuracy: 0.9557 - val_sensitivity: 0.8892 - val_specificity: 0.9835 - val_dice_coefficient: 0.9172 - val_jaccard_index: 0.8504 - val_auc_9: 0.9429\n",
            "Epoch 23/100\n",
            "8/8 [==============================] - 23s 3s/step - loss: -0.8154 - accuracy: 0.9697 - sensitivity: 0.9528 - specificity: 0.9769 - dice_coefficient: 0.9470 - jaccard_index: 0.9008 - auc_9: 0.9708 - val_loss: -0.7495 - val_accuracy: 0.9618 - val_sensitivity: 0.9106 - val_specificity: 0.9831 - val_dice_coefficient: 0.9280 - val_jaccard_index: 0.8688 - val_auc_9: 0.9532\n",
            "Epoch 24/100\n",
            "8/8 [==============================] - 25s 3s/step - loss: -0.7867 - accuracy: 0.9651 - sensitivity: 0.9496 - specificity: 0.9747 - dice_coefficient: 0.9380 - jaccard_index: 0.8864 - auc_9: 0.9646 - val_loss: -0.7017 - val_accuracy: 0.9551 - val_sensitivity: 0.8730 - val_specificity: 0.9893 - val_dice_coefficient: 0.9119 - val_jaccard_index: 0.8447 - val_auc_9: 0.9385\n",
            "Epoch 25/100\n",
            "8/8 [==============================] - 25s 3s/step - loss: -0.8214 - accuracy: 0.9710 - sensitivity: 0.9492 - specificity: 0.9819 - dice_coefficient: 0.9480 - jaccard_index: 0.9027 - auc_9: 0.9694 - val_loss: -0.7236 - val_accuracy: 0.9582 - val_sensitivity: 0.8854 - val_specificity: 0.9887 - val_dice_coefficient: 0.9205 - val_jaccard_index: 0.8574 - val_auc_9: 0.9443\n",
            "Epoch 26/100\n",
            "8/8 [==============================] - 23s 3s/step - loss: -0.8090 - accuracy: 0.9686 - sensitivity: 0.9512 - specificity: 0.9778 - dice_coefficient: 0.9454 - jaccard_index: 0.8980 - auc_9: 0.9675 - val_loss: -0.6951 - val_accuracy: 0.9548 - val_sensitivity: 0.8615 - val_specificity: 0.9932 - val_dice_coefficient: 0.9116 - val_jaccard_index: 0.8448 - val_auc_9: 0.9328\n",
            "Epoch 27/100\n",
            "8/8 [==============================] - 25s 3s/step - loss: -0.8071 - accuracy: 0.9692 - sensitivity: 0.9370 - specificity: 0.9828 - dice_coefficient: 0.9444 - jaccard_index: 0.8966 - auc_9: 0.9650 - val_loss: -0.7041 - val_accuracy: 0.9556 - val_sensitivity: 0.8715 - val_specificity: 0.9906 - val_dice_coefficient: 0.9109 - val_jaccard_index: 0.8442 - val_auc_9: 0.9399\n",
            "Epoch 28/100\n",
            "8/8 [==============================] - 24s 3s/step - loss: -0.8116 - accuracy: 0.9693 - sensitivity: 0.9496 - specificity: 0.9778 - dice_coefficient: 0.9445 - jaccard_index: 0.8969 - auc_9: 0.9696 - val_loss: -0.7152 - val_accuracy: 0.9573 - val_sensitivity: 0.8775 - val_specificity: 0.9905 - val_dice_coefficient: 0.9178 - val_jaccard_index: 0.8550 - val_auc_9: 0.9408\n",
            "Epoch 29/100\n",
            "8/8 [==============================] - 24s 3s/step - loss: -0.8094 - accuracy: 0.9692 - sensitivity: 0.9438 - specificity: 0.9791 - dice_coefficient: 0.9464 - jaccard_index: 0.8996 - auc_9: 0.9671 - val_loss: -0.7274 - val_accuracy: 0.9587 - val_sensitivity: 0.8915 - val_specificity: 0.9866 - val_dice_coefficient: 0.9222 - val_jaccard_index: 0.8604 - val_auc_9: 0.9443\n",
            "Epoch 30/100\n",
            "8/8 [==============================] - 25s 3s/step - loss: -0.7799 - accuracy: 0.9647 - sensitivity: 0.9342 - specificity: 0.9766 - dice_coefficient: 0.9362 - jaccard_index: 0.8833 - auc_9: 0.9603 - val_loss: -0.7114 - val_accuracy: 0.9555 - val_sensitivity: 0.8967 - val_specificity: 0.9801 - val_dice_coefficient: 0.9156 - val_jaccard_index: 0.8490 - val_auc_9: 0.9426\n",
            "Epoch 31/100\n",
            "8/8 [==============================] - 23s 3s/step - loss: -0.7960 - accuracy: 0.9666 - sensitivity: 0.9510 - specificity: 0.9738 - dice_coefficient: 0.9388 - jaccard_index: 0.8886 - auc_9: 0.9658 - val_loss: -0.6965 - val_accuracy: 0.9540 - val_sensitivity: 0.8761 - val_specificity: 0.9865 - val_dice_coefficient: 0.9114 - val_jaccard_index: 0.8431 - val_auc_9: 0.9385\n",
            "Epoch 32/100\n",
            "8/8 [==============================] - 25s 3s/step - loss: -0.8126 - accuracy: 0.9693 - sensitivity: 0.9500 - specificity: 0.9788 - dice_coefficient: 0.9433 - jaccard_index: 0.8958 - auc_9: 0.9688 - val_loss: -0.7160 - val_accuracy: 0.9566 - val_sensitivity: 0.8942 - val_specificity: 0.9825 - val_dice_coefficient: 0.9138 - val_jaccard_index: 0.8476 - val_auc_9: 0.9456\n",
            "Epoch 33/100\n",
            "8/8 [==============================] - 25s 3s/step - loss: -0.8229 - accuracy: 0.9712 - sensitivity: 0.9508 - specificity: 0.9796 - dice_coefficient: 0.9484 - jaccard_index: 0.9038 - auc_9: 0.9709 - val_loss: -0.7270 - val_accuracy: 0.9580 - val_sensitivity: 0.9063 - val_specificity: 0.9794 - val_dice_coefficient: 0.9215 - val_jaccard_index: 0.8591 - val_auc_9: 0.9496\n",
            "\n",
            "Fold 1 - Shape-Aware Loss\n",
            "2/2 [==============================] - 3s 314ms/step - loss: -0.4192 - accuracy: 0.8655 - sensitivity: 0.7253 - specificity: 0.8471 - dice_coefficient: 0.7682 - jaccard_index: 0.6631 - auc_9: 0.8533\n",
            "Test Loss: -0.4192228317260742\n",
            "Test Accuracy: 0.8654540777206421\n",
            "Test Sensitivity: 0.7253327369689941\n",
            "Test Specificity: 0.8471496105194092\n",
            "Test Dice Coefficient: 0.7682328224182129\n",
            "Test Jaccard Index: 0.6630629301071167\n",
            "Test AUC: 0.8533146977424622\n",
            "Epoch 1/100\n",
            "8/8 [==============================] - 31s 3s/step - loss: -0.7613 - accuracy: 0.9626 - sensitivity: 0.9309 - specificity: 0.9756 - dice_coefficient: 0.9301 - jaccard_index: 0.8730 - auc_10: 0.9588 - val_loss: -0.7652 - val_accuracy: 0.9594 - val_sensitivity: 0.8908 - val_specificity: 0.9953 - val_dice_coefficient: 0.9315 - val_jaccard_index: 0.8755 - val_auc_10: 0.9505\n",
            "Epoch 2/100\n",
            "8/8 [==============================] - 25s 3s/step - loss: -0.7790 - accuracy: 0.9651 - sensitivity: 0.9371 - specificity: 0.9771 - dice_coefficient: 0.9352 - jaccard_index: 0.8827 - auc_10: 0.9619 - val_loss: -0.7396 - val_accuracy: 0.9551 - val_sensitivity: 0.8746 - val_specificity: 0.9965 - val_dice_coefficient: 0.9237 - val_jaccard_index: 0.8617 - val_auc_10: 0.9422\n",
            "Epoch 3/100\n",
            "8/8 [==============================] - 25s 3s/step - loss: -0.7997 - accuracy: 0.9688 - sensitivity: 0.9435 - specificity: 0.9795 - dice_coefficient: 0.9446 - jaccard_index: 0.8969 - auc_10: 0.9654 - val_loss: -0.7799 - val_accuracy: 0.9605 - val_sensitivity: 0.9060 - val_specificity: 0.9911 - val_dice_coefficient: 0.9359 - val_jaccard_index: 0.8826 - val_auc_10: 0.9526\n",
            "Epoch 4/100\n",
            "8/8 [==============================] - 23s 3s/step - loss: -0.8077 - accuracy: 0.9700 - sensitivity: 0.9471 - specificity: 0.9800 - dice_coefficient: 0.9447 - jaccard_index: 0.8969 - auc_10: 0.9679 - val_loss: -0.8089 - val_accuracy: 0.9668 - val_sensitivity: 0.9223 - val_specificity: 0.9889 - val_dice_coefficient: 0.9427 - val_jaccard_index: 0.8936 - val_auc_10: 0.9610\n",
            "Epoch 5/100\n",
            "8/8 [==============================] - 25s 3s/step - loss: -0.8005 - accuracy: 0.9687 - sensitivity: 0.9494 - specificity: 0.9781 - dice_coefficient: 0.9437 - jaccard_index: 0.8957 - auc_10: 0.9652 - val_loss: -0.8017 - val_accuracy: 0.9655 - val_sensitivity: 0.9130 - val_specificity: 0.9920 - val_dice_coefficient: 0.9425 - val_jaccard_index: 0.8930 - val_auc_10: 0.9573\n",
            "Epoch 6/100\n",
            "8/8 [==============================] - 24s 3s/step - loss: -0.8168 - accuracy: 0.9717 - sensitivity: 0.9486 - specificity: 0.9822 - dice_coefficient: 0.9471 - jaccard_index: 0.9014 - auc_10: 0.9684 - val_loss: -0.8062 - val_accuracy: 0.9655 - val_sensitivity: 0.9201 - val_specificity: 0.9899 - val_dice_coefficient: 0.9426 - val_jaccard_index: 0.8941 - val_auc_10: 0.9596\n",
            "Epoch 7/100\n",
            "8/8 [==============================] - 25s 3s/step - loss: -0.8204 - accuracy: 0.9722 - sensitivity: 0.9530 - specificity: 0.9805 - dice_coefficient: 0.9492 - jaccard_index: 0.9046 - auc_10: 0.9707 - val_loss: -0.7394 - val_accuracy: 0.9547 - val_sensitivity: 0.8802 - val_specificity: 0.9936 - val_dice_coefficient: 0.9223 - val_jaccard_index: 0.8610 - val_auc_10: 0.9424\n",
            "Epoch 8/100\n",
            "8/8 [==============================] - 25s 3s/step - loss: -0.8402 - accuracy: 0.9751 - sensitivity: 0.9562 - specificity: 0.9832 - dice_coefficient: 0.9537 - jaccard_index: 0.9127 - auc_10: 0.9729 - val_loss: -0.7336 - val_accuracy: 0.9535 - val_sensitivity: 0.8733 - val_specificity: 0.9959 - val_dice_coefficient: 0.9239 - val_jaccard_index: 0.8637 - val_auc_10: 0.9392\n",
            "Epoch 9/100\n",
            "8/8 [==============================] - 23s 3s/step - loss: -0.8418 - accuracy: 0.9755 - sensitivity: 0.9566 - specificity: 0.9836 - dice_coefficient: 0.9546 - jaccard_index: 0.9143 - auc_10: 0.9730 - val_loss: -0.7571 - val_accuracy: 0.9581 - val_sensitivity: 0.8854 - val_specificity: 0.9953 - val_dice_coefficient: 0.9294 - val_jaccard_index: 0.8715 - val_auc_10: 0.9465\n",
            "Epoch 10/100\n",
            "8/8 [==============================] - 26s 3s/step - loss: -0.8371 - accuracy: 0.9749 - sensitivity: 0.9539 - specificity: 0.9826 - dice_coefficient: 0.9536 - jaccard_index: 0.9129 - auc_10: 0.9731 - val_loss: -0.6964 - val_accuracy: 0.9462 - val_sensitivity: 0.8534 - val_specificity: 0.9965 - val_dice_coefficient: 0.9126 - val_jaccard_index: 0.8460 - val_auc_10: 0.9292\n",
            "Epoch 11/100\n",
            "8/8 [==============================] - 35s 5s/step - loss: -0.8422 - accuracy: 0.9759 - sensitivity: 0.9537 - specificity: 0.9849 - dice_coefficient: 0.9555 - jaccard_index: 0.9158 - auc_10: 0.9726 - val_loss: -0.7501 - val_accuracy: 0.9552 - val_sensitivity: 0.8836 - val_specificity: 0.9943 - val_dice_coefficient: 0.9261 - val_jaccard_index: 0.8671 - val_auc_10: 0.9423\n",
            "Epoch 12/100\n",
            "8/8 [==============================] - 29s 4s/step - loss: -0.8500 - accuracy: 0.9767 - sensitivity: 0.9570 - specificity: 0.9856 - dice_coefficient: 0.9576 - jaccard_index: 0.9195 - auc_10: 0.9743 - val_loss: -0.7519 - val_accuracy: 0.9552 - val_sensitivity: 0.8843 - val_specificity: 0.9950 - val_dice_coefficient: 0.9295 - val_jaccard_index: 0.8718 - val_auc_10: 0.9435\n",
            "Epoch 13/100\n",
            "8/8 [==============================] - 25s 3s/step - loss: -0.8445 - accuracy: 0.9762 - sensitivity: 0.9630 - specificity: 0.9824 - dice_coefficient: 0.9560 - jaccard_index: 0.9167 - auc_10: 0.9760 - val_loss: -0.7412 - val_accuracy: 0.9537 - val_sensitivity: 0.8798 - val_specificity: 0.9940 - val_dice_coefficient: 0.9244 - val_jaccard_index: 0.8637 - val_auc_10: 0.9415\n",
            "Epoch 14/100\n",
            "8/8 [==============================] - 25s 3s/step - loss: -0.8559 - accuracy: 0.9779 - sensitivity: 0.9603 - specificity: 0.9851 - dice_coefficient: 0.9583 - jaccard_index: 0.9209 - auc_10: 0.9766 - val_loss: -0.7997 - val_accuracy: 0.9637 - val_sensitivity: 0.9140 - val_specificity: 0.9918 - val_dice_coefficient: 0.9430 - val_jaccard_index: 0.8936 - val_auc_10: 0.9561\n",
            "\n",
            "Fold 2 - Shape-Aware Loss\n",
            "2/2 [==============================] - 4s 492ms/step - loss: -0.4579 - accuracy: 0.8697 - sensitivity: 0.7441 - specificity: 0.8257 - dice_coefficient: 0.7714 - jaccard_index: 0.6664 - auc_10: 0.8593\n",
            "Test Loss: -0.4579448699951172\n",
            "Test Accuracy: 0.8697143793106079\n",
            "Test Sensitivity: 0.7440797090530396\n",
            "Test Specificity: 0.8256617784500122\n",
            "Test Dice Coefficient: 0.7713571786880493\n",
            "Test Jaccard Index: 0.6664350032806396\n",
            "Test AUC: 0.8592801690101624\n",
            "Epoch 1/100\n",
            "8/8 [==============================] - 38s 4s/step - loss: -0.7619 - accuracy: 0.9614 - sensitivity: 0.9325 - specificity: 0.9734 - dice_coefficient: 0.9268 - jaccard_index: 0.8711 - auc_11: 0.9571 - val_loss: -0.6302 - val_accuracy: 0.9455 - val_sensitivity: 0.8208 - val_specificity: 0.9970 - val_dice_coefficient: 0.9075 - val_jaccard_index: 0.8362 - val_auc_11: 0.9141\n",
            "Epoch 2/100\n",
            "8/8 [==============================] - 30s 4s/step - loss: -0.8166 - accuracy: 0.9701 - sensitivity: 0.9508 - specificity: 0.9780 - dice_coefficient: 0.9455 - jaccard_index: 0.8986 - auc_11: 0.9673 - val_loss: -0.7534 - val_accuracy: 0.9633 - val_sensitivity: 0.8888 - val_specificity: 0.9941 - val_dice_coefficient: 0.9370 - val_jaccard_index: 0.8844 - val_auc_11: 0.9455\n",
            "Epoch 3/100\n",
            "8/8 [==============================] - 29s 4s/step - loss: -0.8429 - accuracy: 0.9746 - sensitivity: 0.9589 - specificity: 0.9819 - dice_coefficient: 0.9544 - jaccard_index: 0.9137 - auc_11: 0.9724 - val_loss: -0.7140 - val_accuracy: 0.9576 - val_sensitivity: 0.8613 - val_specificity: 0.9979 - val_dice_coefficient: 0.9279 - val_jaccard_index: 0.8687 - val_auc_11: 0.9342\n",
            "Epoch 4/100\n",
            "8/8 [==============================] - 31s 4s/step - loss: -0.8506 - accuracy: 0.9762 - sensitivity: 0.9590 - specificity: 0.9831 - dice_coefficient: 0.9568 - jaccard_index: 0.9182 - auc_11: 0.9742 - val_loss: -0.7627 - val_accuracy: 0.9647 - val_sensitivity: 0.8951 - val_specificity: 0.9934 - val_dice_coefficient: 0.9382 - val_jaccard_index: 0.8856 - val_auc_11: 0.9489\n",
            "Epoch 5/100\n",
            "8/8 [==============================] - 30s 4s/step - loss: -0.8525 - accuracy: 0.9763 - sensitivity: 0.9558 - specificity: 0.9857 - dice_coefficient: 0.9565 - jaccard_index: 0.9179 - auc_11: 0.9736 - val_loss: -0.8098 - val_accuracy: 0.9715 - val_sensitivity: 0.9224 - val_specificity: 0.9917 - val_dice_coefficient: 0.9511 - val_jaccard_index: 0.9080 - val_auc_11: 0.9617\n",
            "Epoch 6/100\n",
            "8/8 [==============================] - 32s 4s/step - loss: -0.8516 - accuracy: 0.9766 - sensitivity: 0.9582 - specificity: 0.9842 - dice_coefficient: 0.9573 - jaccard_index: 0.9194 - auc_11: 0.9753 - val_loss: -0.7776 - val_accuracy: 0.9669 - val_sensitivity: 0.8992 - val_specificity: 0.9952 - val_dice_coefficient: 0.9446 - val_jaccard_index: 0.8968 - val_auc_11: 0.9524\n",
            "Epoch 7/100\n",
            "8/8 [==============================] - 28s 3s/step - loss: -0.8690 - accuracy: 0.9790 - sensitivity: 0.9655 - specificity: 0.9848 - dice_coefficient: 0.9614 - jaccard_index: 0.9264 - auc_11: 0.9783 - val_loss: -0.7878 - val_accuracy: 0.9684 - val_sensitivity: 0.9042 - val_specificity: 0.9951 - val_dice_coefficient: 0.9462 - val_jaccard_index: 0.8991 - val_auc_11: 0.9541\n",
            "Epoch 8/100\n",
            "8/8 [==============================] - 26s 3s/step - loss: -0.8642 - accuracy: 0.9783 - sensitivity: 0.9649 - specificity: 0.9838 - dice_coefficient: 0.9608 - jaccard_index: 0.9253 - auc_11: 0.9777 - val_loss: -0.7677 - val_accuracy: 0.9654 - val_sensitivity: 0.8930 - val_specificity: 0.9956 - val_dice_coefficient: 0.9418 - val_jaccard_index: 0.8922 - val_auc_11: 0.9496\n",
            "Epoch 9/100\n",
            "8/8 [==============================] - 31s 4s/step - loss: -0.8710 - accuracy: 0.9796 - sensitivity: 0.9671 - specificity: 0.9853 - dice_coefficient: 0.9627 - jaccard_index: 0.9286 - auc_11: 0.9794 - val_loss: -0.7741 - val_accuracy: 0.9663 - val_sensitivity: 0.8979 - val_specificity: 0.9948 - val_dice_coefficient: 0.9430 - val_jaccard_index: 0.8937 - val_auc_11: 0.9517\n",
            "Epoch 10/100\n",
            "8/8 [==============================] - 29s 4s/step - loss: -0.8790 - accuracy: 0.9807 - sensitivity: 0.9682 - specificity: 0.9866 - dice_coefficient: 0.9644 - jaccard_index: 0.9317 - auc_11: 0.9804 - val_loss: -0.7710 - val_accuracy: 0.9660 - val_sensitivity: 0.8919 - val_specificity: 0.9969 - val_dice_coefficient: 0.9429 - val_jaccard_index: 0.8933 - val_auc_11: 0.9496\n",
            "Epoch 11/100\n",
            "8/8 [==============================] - 32s 4s/step - loss: -0.8776 - accuracy: 0.9805 - sensitivity: 0.9688 - specificity: 0.9859 - dice_coefficient: 0.9640 - jaccard_index: 0.9310 - auc_11: 0.9802 - val_loss: -0.7531 - val_accuracy: 0.9633 - val_sensitivity: 0.8853 - val_specificity: 0.9958 - val_dice_coefficient: 0.9393 - val_jaccard_index: 0.8876 - val_auc_11: 0.9460\n",
            "Epoch 12/100\n",
            "8/8 [==============================] - 28s 4s/step - loss: -0.8793 - accuracy: 0.9808 - sensitivity: 0.9680 - specificity: 0.9865 - dice_coefficient: 0.9644 - jaccard_index: 0.9319 - auc_11: 0.9804 - val_loss: -0.7326 - val_accuracy: 0.9603 - val_sensitivity: 0.8701 - val_specificity: 0.9982 - val_dice_coefficient: 0.9331 - val_jaccard_index: 0.8766 - val_auc_11: 0.9400\n",
            "Epoch 13/100\n",
            "8/8 [==============================] - 32s 4s/step - loss: -0.8768 - accuracy: 0.9806 - sensitivity: 0.9647 - specificity: 0.9873 - dice_coefficient: 0.9641 - jaccard_index: 0.9312 - auc_11: 0.9797 - val_loss: -0.7732 - val_accuracy: 0.9662 - val_sensitivity: 0.8942 - val_specificity: 0.9964 - val_dice_coefficient: 0.9417 - val_jaccard_index: 0.8911 - val_auc_11: 0.9502\n",
            "Epoch 14/100\n",
            "8/8 [==============================] - 32s 4s/step - loss: -0.8842 - accuracy: 0.9815 - sensitivity: 0.9693 - specificity: 0.9869 - dice_coefficient: 0.9658 - jaccard_index: 0.9345 - auc_11: 0.9810 - val_loss: -0.7672 - val_accuracy: 0.9652 - val_sensitivity: 0.8925 - val_specificity: 0.9955 - val_dice_coefficient: 0.9419 - val_jaccard_index: 0.8919 - val_auc_11: 0.9490\n",
            "Epoch 15/100\n",
            "8/8 [==============================] - 31s 4s/step - loss: -0.8900 - accuracy: 0.9828 - sensitivity: 0.9718 - specificity: 0.9872 - dice_coefficient: 0.9677 - jaccard_index: 0.9380 - auc_11: 0.9829 - val_loss: -0.7711 - val_accuracy: 0.9659 - val_sensitivity: 0.8936 - val_specificity: 0.9961 - val_dice_coefficient: 0.9436 - val_jaccard_index: 0.8948 - val_auc_11: 0.9497\n",
            "\n",
            "Fold 3 - Shape-Aware Loss\n",
            "2/2 [==============================] - 2s 305ms/step - loss: -0.4439 - accuracy: 0.8671 - sensitivity: 0.7237 - specificity: 0.8278 - dice_coefficient: 0.7676 - jaccard_index: 0.6636 - auc_11: 0.8517\n",
            "Test Loss: -0.4438509941101074\n",
            "Test Accuracy: 0.8670989871025085\n",
            "Test Sensitivity: 0.7237071990966797\n",
            "Test Specificity: 0.8278494477272034\n",
            "Test Dice Coefficient: 0.767568826675415\n",
            "Test Jaccard Index: 0.6636204719543457\n",
            "Test AUC: 0.8516733646392822\n",
            "Epoch 1/100\n",
            "8/8 [==============================] - 31s 3s/step - loss: -0.8344 - accuracy: 0.9737 - sensitivity: 0.9554 - specificity: 0.9805 - dice_coefficient: 0.9516 - jaccard_index: 0.9091 - auc_12: 0.9720 - val_loss: -0.8119 - val_accuracy: 0.9701 - val_sensitivity: 0.9221 - val_specificity: 0.9917 - val_dice_coefficient: 0.9540 - val_jaccard_index: 0.9128 - val_auc_12: 0.9624\n",
            "Epoch 2/100\n",
            "8/8 [==============================] - 30s 4s/step - loss: -0.8427 - accuracy: 0.9754 - sensitivity: 0.9544 - specificity: 0.9845 - dice_coefficient: 0.9526 - jaccard_index: 0.9118 - auc_12: 0.9723 - val_loss: -0.8218 - val_accuracy: 0.9723 - val_sensitivity: 0.9238 - val_specificity: 0.9932 - val_dice_coefficient: 0.9542 - val_jaccard_index: 0.9135 - val_auc_12: 0.9626\n",
            "Epoch 3/100\n",
            "8/8 [==============================] - 30s 4s/step - loss: -0.8425 - accuracy: 0.9751 - sensitivity: 0.9571 - specificity: 0.9840 - dice_coefficient: 0.9528 - jaccard_index: 0.9119 - auc_12: 0.9717 - val_loss: -0.8600 - val_accuracy: 0.9776 - val_sensitivity: 0.9486 - val_specificity: 0.9908 - val_dice_coefficient: 0.9617 - val_jaccard_index: 0.9266 - val_auc_12: 0.9733\n",
            "Epoch 4/100\n",
            "8/8 [==============================] - 29s 4s/step - loss: -0.8536 - accuracy: 0.9772 - sensitivity: 0.9592 - specificity: 0.9841 - dice_coefficient: 0.9575 - jaccard_index: 0.9198 - auc_12: 0.9763 - val_loss: -0.8524 - val_accuracy: 0.9767 - val_sensitivity: 0.9428 - val_specificity: 0.9917 - val_dice_coefficient: 0.9623 - val_jaccard_index: 0.9278 - val_auc_12: 0.9720\n",
            "Epoch 5/100\n",
            "8/8 [==============================] - 30s 4s/step - loss: -0.8602 - accuracy: 0.9781 - sensitivity: 0.9638 - specificity: 0.9846 - dice_coefficient: 0.9583 - jaccard_index: 0.9211 - auc_12: 0.9772 - val_loss: -0.8410 - val_accuracy: 0.9750 - val_sensitivity: 0.9319 - val_specificity: 0.9941 - val_dice_coefficient: 0.9604 - val_jaccard_index: 0.9242 - val_auc_12: 0.9678\n",
            "Epoch 6/100\n",
            "8/8 [==============================] - 32s 4s/step - loss: -0.8714 - accuracy: 0.9798 - sensitivity: 0.9666 - specificity: 0.9856 - dice_coefficient: 0.9628 - jaccard_index: 0.9289 - auc_12: 0.9791 - val_loss: -0.8325 - val_accuracy: 0.9738 - val_sensitivity: 0.9248 - val_specificity: 0.9957 - val_dice_coefficient: 0.9567 - val_jaccard_index: 0.9176 - val_auc_12: 0.9648\n",
            "Epoch 7/100\n",
            "8/8 [==============================] - 31s 4s/step - loss: -0.8695 - accuracy: 0.9794 - sensitivity: 0.9610 - specificity: 0.9875 - dice_coefficient: 0.9621 - jaccard_index: 0.9280 - auc_12: 0.9774 - val_loss: -0.8013 - val_accuracy: 0.9691 - val_sensitivity: 0.9104 - val_specificity: 0.9949 - val_dice_coefficient: 0.9495 - val_jaccard_index: 0.9052 - val_auc_12: 0.9586\n",
            "Epoch 8/100\n",
            "8/8 [==============================] - 30s 4s/step - loss: -0.8650 - accuracy: 0.9786 - sensitivity: 0.9679 - specificity: 0.9831 - dice_coefficient: 0.9602 - jaccard_index: 0.9243 - auc_12: 0.9791 - val_loss: -0.7420 - val_accuracy: 0.9598 - val_sensitivity: 0.8755 - val_specificity: 0.9976 - val_dice_coefficient: 0.9316 - val_jaccard_index: 0.8746 - val_auc_12: 0.9440\n",
            "Epoch 9/100\n",
            "8/8 [==============================] - 32s 4s/step - loss: -0.8805 - accuracy: 0.9812 - sensitivity: 0.9688 - specificity: 0.9868 - dice_coefficient: 0.9639 - jaccard_index: 0.9310 - auc_12: 0.9812 - val_loss: -0.7633 - val_accuracy: 0.9632 - val_sensitivity: 0.8872 - val_specificity: 0.9970 - val_dice_coefficient: 0.9389 - val_jaccard_index: 0.8870 - val_auc_12: 0.9485\n",
            "Epoch 10/100\n",
            "8/8 [==============================] - 32s 4s/step - loss: -0.8829 - accuracy: 0.9817 - sensitivity: 0.9682 - specificity: 0.9874 - dice_coefficient: 0.9653 - jaccard_index: 0.9336 - auc_12: 0.9812 - val_loss: -0.7917 - val_accuracy: 0.9675 - val_sensitivity: 0.9026 - val_specificity: 0.9965 - val_dice_coefficient: 0.9454 - val_jaccard_index: 0.8975 - val_auc_12: 0.9550\n",
            "Epoch 11/100\n",
            "8/8 [==============================] - 28s 3s/step - loss: -0.8877 - accuracy: 0.9824 - sensitivity: 0.9707 - specificity: 0.9878 - dice_coefficient: 0.9669 - jaccard_index: 0.9365 - auc_12: 0.9820 - val_loss: -0.7841 - val_accuracy: 0.9662 - val_sensitivity: 0.8971 - val_specificity: 0.9973 - val_dice_coefficient: 0.9433 - val_jaccard_index: 0.8939 - val_auc_12: 0.9530\n",
            "Epoch 12/100\n",
            "8/8 [==============================] - 26s 3s/step - loss: -0.8926 - accuracy: 0.9832 - sensitivity: 0.9729 - specificity: 0.9872 - dice_coefficient: 0.9686 - jaccard_index: 0.9396 - auc_12: 0.9835 - val_loss: -0.7462 - val_accuracy: 0.9607 - val_sensitivity: 0.8769 - val_specificity: 0.9979 - val_dice_coefficient: 0.9350 - val_jaccard_index: 0.8801 - val_auc_12: 0.9439\n",
            "Epoch 13/100\n",
            "8/8 [==============================] - 30s 4s/step - loss: -0.8906 - accuracy: 0.9829 - sensitivity: 0.9707 - specificity: 0.9883 - dice_coefficient: 0.9675 - jaccard_index: 0.9376 - auc_12: 0.9824 - val_loss: -0.7683 - val_accuracy: 0.9638 - val_sensitivity: 0.8904 - val_specificity: 0.9966 - val_dice_coefficient: 0.9408 - val_jaccard_index: 0.8895 - val_auc_12: 0.9488\n",
            "\n",
            "Fold 4 - Shape-Aware Loss\n",
            "2/2 [==============================] - 2s 324ms/step - loss: -0.4059 - accuracy: 0.8598 - sensitivity: 0.7066 - specificity: 0.8245 - dice_coefficient: 0.7589 - jaccard_index: 0.6515 - auc_12: 0.8422\n",
            "Test Loss: -0.4058959484100342\n",
            "Test Accuracy: 0.8597640991210938\n",
            "Test Sensitivity: 0.7066022753715515\n",
            "Test Specificity: 0.824475884437561\n",
            "Test Dice Coefficient: 0.7589491009712219\n",
            "Test Jaccard Index: 0.6514565944671631\n",
            "Test AUC: 0.8421719670295715\n",
            "Epoch 1/100\n",
            "8/8 [==============================] - 40s 4s/step - loss: -0.8246 - accuracy: 0.9710 - sensitivity: 0.9581 - specificity: 0.9783 - dice_coefficient: 0.9504 - jaccard_index: 0.9068 - auc_13: 0.9696 - val_loss: -0.8937 - val_accuracy: 0.9849 - val_sensitivity: 0.9649 - val_specificity: 0.9922 - val_dice_coefficient: 0.9663 - val_jaccard_index: 0.9354 - val_auc_13: 0.9824\n",
            "Epoch 2/100\n",
            "8/8 [==============================] - 31s 4s/step - loss: -0.8350 - accuracy: 0.9729 - sensitivity: 0.9520 - specificity: 0.9830 - dice_coefficient: 0.9531 - jaccard_index: 0.9116 - auc_13: 0.9694 - val_loss: -0.8728 - val_accuracy: 0.9818 - val_sensitivity: 0.9660 - val_specificity: 0.9875 - val_dice_coefficient: 0.9577 - val_jaccard_index: 0.9205 - val_auc_13: 0.9808\n",
            "Epoch 3/100\n",
            "8/8 [==============================] - 30s 4s/step - loss: -0.8568 - accuracy: 0.9768 - sensitivity: 0.9587 - specificity: 0.9853 - dice_coefficient: 0.9584 - jaccard_index: 0.9223 - auc_13: 0.9744 - val_loss: -0.8807 - val_accuracy: 0.9828 - val_sensitivity: 0.9633 - val_specificity: 0.9906 - val_dice_coefficient: 0.9619 - val_jaccard_index: 0.9276 - val_auc_13: 0.9818\n",
            "Epoch 4/100\n",
            "8/8 [==============================] - 35s 5s/step - loss: -0.8631 - accuracy: 0.9781 - sensitivity: 0.9644 - specificity: 0.9850 - dice_coefficient: 0.9610 - jaccard_index: 0.9256 - auc_13: 0.9776 - val_loss: -0.8589 - val_accuracy: 0.9805 - val_sensitivity: 0.9342 - val_specificity: 0.9982 - val_dice_coefficient: 0.9542 - val_jaccard_index: 0.9137 - val_auc_13: 0.9728\n",
            "Epoch 5/100\n",
            "8/8 [==============================] - 32s 4s/step - loss: -0.8806 - accuracy: 0.9807 - sensitivity: 0.9723 - specificity: 0.9844 - dice_coefficient: 0.9664 - jaccard_index: 0.9355 - auc_13: 0.9811 - val_loss: -0.8705 - val_accuracy: 0.9817 - val_sensitivity: 0.9410 - val_specificity: 0.9977 - val_dice_coefficient: 0.9606 - val_jaccard_index: 0.9251 - val_auc_13: 0.9737\n",
            "Epoch 6/100\n",
            "8/8 [==============================] - 34s 4s/step - loss: -0.8816 - accuracy: 0.9808 - sensitivity: 0.9732 - specificity: 0.9843 - dice_coefficient: 0.9660 - jaccard_index: 0.9346 - auc_13: 0.9810 - val_loss: -0.8216 - val_accuracy: 0.9754 - val_sensitivity: 0.9140 - val_specificity: 0.9987 - val_dice_coefficient: 0.9421 - val_jaccard_index: 0.8930 - val_auc_13: 0.9635\n",
            "Epoch 7/100\n",
            "8/8 [==============================] - 37s 5s/step - loss: -0.8812 - accuracy: 0.9808 - sensitivity: 0.9672 - specificity: 0.9867 - dice_coefficient: 0.9654 - jaccard_index: 0.9336 - auc_13: 0.9799 - val_loss: -0.8940 - val_accuracy: 0.9852 - val_sensitivity: 0.9648 - val_specificity: 0.9931 - val_dice_coefficient: 0.9657 - val_jaccard_index: 0.9348 - val_auc_13: 0.9829\n",
            "Epoch 8/100\n",
            "8/8 [==============================] - 34s 4s/step - loss: -0.8937 - accuracy: 0.9828 - sensitivity: 0.9697 - specificity: 0.9888 - dice_coefficient: 0.9695 - jaccard_index: 0.9411 - auc_13: 0.9819 - val_loss: -0.8798 - val_accuracy: 0.9833 - val_sensitivity: 0.9513 - val_specificity: 0.9952 - val_dice_coefficient: 0.9637 - val_jaccard_index: 0.9305 - val_auc_13: 0.9788\n",
            "Epoch 9/100\n",
            "8/8 [==============================] - 25s 3s/step - loss: -0.8987 - accuracy: 0.9837 - sensitivity: 0.9745 - specificity: 0.9880 - dice_coefficient: 0.9703 - jaccard_index: 0.9428 - auc_13: 0.9840 - val_loss: -0.8830 - val_accuracy: 0.9837 - val_sensitivity: 0.9495 - val_specificity: 0.9968 - val_dice_coefficient: 0.9628 - val_jaccard_index: 0.9290 - val_auc_13: 0.9787\n",
            "Epoch 10/100\n",
            "8/8 [==============================] - 24s 3s/step - loss: -0.8979 - accuracy: 0.9839 - sensitivity: 0.9738 - specificity: 0.9883 - dice_coefficient: 0.9711 - jaccard_index: 0.9440 - auc_13: 0.9840 - val_loss: -0.8764 - val_accuracy: 0.9828 - val_sensitivity: 0.9443 - val_specificity: 0.9976 - val_dice_coefficient: 0.9590 - val_jaccard_index: 0.9224 - val_auc_13: 0.9767\n",
            "Epoch 11/100\n",
            "8/8 [==============================] - 38s 5s/step - loss: -0.9013 - accuracy: 0.9844 - sensitivity: 0.9744 - specificity: 0.9892 - dice_coefficient: 0.9724 - jaccard_index: 0.9464 - auc_13: 0.9845 - val_loss: -0.8775 - val_accuracy: 0.9830 - val_sensitivity: 0.9460 - val_specificity: 0.9971 - val_dice_coefficient: 0.9624 - val_jaccard_index: 0.9281 - val_auc_13: 0.9771\n",
            "Epoch 12/100\n",
            "8/8 [==============================] - 30s 4s/step - loss: -0.9076 - accuracy: 0.9851 - sensitivity: 0.9767 - specificity: 0.9887 - dice_coefficient: 0.9730 - jaccard_index: 0.9478 - auc_13: 0.9856 - val_loss: -0.8815 - val_accuracy: 0.9835 - val_sensitivity: 0.9476 - val_specificity: 0.9972 - val_dice_coefficient: 0.9633 - val_jaccard_index: 0.9299 - val_auc_13: 0.9779\n",
            "Epoch 13/100\n",
            "8/8 [==============================] - 27s 4s/step - loss: -0.9087 - accuracy: 0.9853 - sensitivity: 0.9763 - specificity: 0.9894 - dice_coefficient: 0.9739 - jaccard_index: 0.9494 - auc_13: 0.9856 - val_loss: -0.8848 - val_accuracy: 0.9839 - val_sensitivity: 0.9499 - val_specificity: 0.9970 - val_dice_coefficient: 0.9630 - val_jaccard_index: 0.9293 - val_auc_13: 0.9791\n",
            "Epoch 14/100\n",
            "8/8 [==============================] - 23s 3s/step - loss: -0.9090 - accuracy: 0.9854 - sensitivity: 0.9742 - specificity: 0.9906 - dice_coefficient: 0.9736 - jaccard_index: 0.9488 - auc_13: 0.9854 - val_loss: -0.8875 - val_accuracy: 0.9844 - val_sensitivity: 0.9559 - val_specificity: 0.9951 - val_dice_coefficient: 0.9644 - val_jaccard_index: 0.9321 - val_auc_13: 0.9816\n",
            "Epoch 15/100\n",
            "8/8 [==============================] - 25s 3s/step - loss: -0.9107 - accuracy: 0.9857 - sensitivity: 0.9781 - specificity: 0.9892 - dice_coefficient: 0.9741 - jaccard_index: 0.9497 - auc_13: 0.9867 - val_loss: -0.8616 - val_accuracy: 0.9809 - val_sensitivity: 0.9383 - val_specificity: 0.9970 - val_dice_coefficient: 0.9553 - val_jaccard_index: 0.9158 - val_auc_13: 0.9743\n",
            "Epoch 16/100\n",
            "8/8 [==============================] - 25s 3s/step - loss: -0.9098 - accuracy: 0.9855 - sensitivity: 0.9773 - specificity: 0.9892 - dice_coefficient: 0.9738 - jaccard_index: 0.9492 - auc_13: 0.9859 - val_loss: -0.8808 - val_accuracy: 0.9834 - val_sensitivity: 0.9491 - val_specificity: 0.9964 - val_dice_coefficient: 0.9622 - val_jaccard_index: 0.9280 - val_auc_13: 0.9782\n",
            "Epoch 17/100\n",
            "8/8 [==============================] - 24s 3s/step - loss: -0.9138 - accuracy: 0.9862 - sensitivity: 0.9771 - specificity: 0.9905 - dice_coefficient: 0.9752 - jaccard_index: 0.9519 - auc_13: 0.9863 - val_loss: -0.8882 - val_accuracy: 0.9844 - val_sensitivity: 0.9543 - val_specificity: 0.9958 - val_dice_coefficient: 0.9631 - val_jaccard_index: 0.9298 - val_auc_13: 0.9802\n",
            "\n",
            "Fold 5 - Shape-Aware Loss\n",
            "2/2 [==============================] - 4s 559ms/step - loss: -0.4443 - accuracy: 0.8655 - sensitivity: 0.7310 - specificity: 0.8148 - dice_coefficient: 0.7599 - jaccard_index: 0.6562 - auc_13: 0.8524\n",
            "Test Loss: -0.44431430101394653\n",
            "Test Accuracy: 0.8655319213867188\n",
            "Test Sensitivity: 0.7310203313827515\n",
            "Test Specificity: 0.8148497343063354\n",
            "Test Dice Coefficient: 0.759884238243103\n",
            "Test Jaccard Index: 0.6561900973320007\n",
            "Test AUC: 0.8524020314216614\n",
            "\n",
            "Mean Results over 5 folds:\n",
            "Loss: -0.7922409534454345\n",
            "Accuracy: 0.967144775390625\n",
            "Sensitivity: 0.912312638759613\n",
            "Specificity: 0.9920015096664428\n",
            "Dice Coefficient: 0.942393958568573\n",
            "Jaccard Index: 0.8933481574058533\n",
            "AUC: 0.9568734645843506\n",
            "\n",
            "Standard Deviation of Results over 5 folds:\n",
            "Loss: 0.05384396519572518\n",
            "Accuracy: 0.008997831862732035\n",
            "Sensitivity: 0.02258969605974586\n",
            "Specificity: 0.006517672248246515\n",
            "Dice Coefficient: 0.013204220610913276\n",
            "Jaccard Index: 0.022452125162549887\n",
            "AUC: 0.011960539730684342\n"
          ]
        }
      ]
    },
    {
      "cell_type": "markdown",
      "source": [
        "## Cross-Validation on the Best Model - Analysis\n",
        "\n",
        "A comprehensive analysis of the outcomes resulting from 5-fold cross-validation reveals a significant improvement in our approach. Notably, the Jaccard Index, a key metric we emphasize, has surged impressively to 66% on test and 89% on validation. This achievement is particularly remarkable when considering the substantial volume of data involved. Consequently, the chosen model has proven itself as a highly reliable tool for recognizing data patterns without necessitating preprocessing, resulting in a highly satisfactory segmentation.\n",
        "\n",
        "The prospect of incorporating more data holds the promise of further elevating the model's performance. With a larger dataset, the model would have access to a wealth of additional information, which would, in turn, foster more robust and generalized segmentation. In instances like this one, where the model demonstrates a tendency to overfit the data, introducing more data becomes pivotal, as it aids in achieving a more generalizable solution. Additionally, applying regularization techniques can offer further support in mitigating overfitting concerns.\n",
        "\n",
        "On the other hand, when employing preprocessing techniques, it becomes essential to adapt the model to accommodate data variations. While the model exhibits a remarkable ability to swiftly identify patterns, it may lack the flexibility required when confronted with shifts in the data domain."
      ],
      "metadata": {
        "id": "Yp29KkZqIukI"
      }
    },
    {
      "cell_type": "markdown",
      "metadata": {
        "id": "weJMcOBLl_QD"
      },
      "source": [
        "## Future Improvements\n",
        "\n",
        "\n",
        "If Additional Data and Resources Were Available:\n",
        "\n",
        "**Data**: The utilization of a more extensive dataset would greatly enhance the model's ability to capture and comprehend underlying patterns. Leveraging the full dataset, inclusive of data from other sources with a compatible structure, holds significant potential for improving model performance and achieving a more comprehensive representation of the data's intricacies.\n",
        "\n",
        "**Model**: To maximize the model's potential, fine-tuning its parameters and, more crucially, its structural elements would be imperative. While the process of optimizing the model's architecture can be demanding, it is essential for extracting the most intricate patterns from the data. Additionally, introducing regularization techniques is advisable, especially in cases where the model exhibits signs of overfitting. This becomes more pronounced when a complex model is employed, and even with additional data, overfitting persists, making regularization a valuable tool.\n",
        "\n",
        "**Preprocessing Techniques**: The approach here remains consistent, but with a focus on tailoring the model to accommodate each specific preprocessing technique. As previously observed, the model's limited flexibility in adapting to diverse datasets necessitates the application of preprocessing techniques. These techniques are still valuable, as they can contribute to achieving superior results when the entire dataset is considered. However, the structural adjustments to the model should also address domain shift challenges, ensuring that it can effectively adapt to changes in the data distribution."
      ]
    },
    {
      "cell_type": "markdown",
      "source": [
        "# DEEP LEARNING FOR MEDICAL IMAGE ANALYSIS\n",
        "Practical block I: Dermatological moles segmentation\n",
        "\n",
        "João Valério\n",
        "\n",
        "joao.agostinho@estudiantat.upc.edu\n",
        "\n",
        "31/10/2023"
      ],
      "metadata": {
        "id": "Sk1x5ByqMrov"
      }
    }
  ],
  "metadata": {
    "colab": {
      "provenance": []
    },
    "kernelspec": {
      "display_name": "Python 3",
      "name": "python3"
    },
    "language_info": {
      "name": "python"
    }
  },
  "nbformat": 4,
  "nbformat_minor": 0
}